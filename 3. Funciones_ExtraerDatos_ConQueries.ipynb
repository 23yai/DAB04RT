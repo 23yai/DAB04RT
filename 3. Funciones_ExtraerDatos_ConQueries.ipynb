{
 "cells": [
  {
   "cell_type": "code",
   "execution_count": null,
   "id": "255ea130-e193-4c00-b89d-9fb122885ad9",
   "metadata": {},
   "outputs": [],
   "source": [
    "import pandas as pd\n",
    "\n",
    "import mysql\n",
    "import mysql.connector"
   ]
  },
  {
   "cell_type": "code",
   "execution_count": null,
   "id": "be48829a-0241-41c2-9f8a-897addd8fe0e",
   "metadata": {},
   "outputs": [],
   "source": [
    "db = mysql.connector.connect(host     = \"localhost\",\n",
    "                             user     = \"root\",\n",
    "                             password = \"contraseña1234\",\n",
    "                             database = \"ofertas_empleo\")\n",
    "cursor = db.cursor()"
   ]
  },
  {
   "cell_type": "code",
   "execution_count": null,
   "id": "95283c04-3504-4a73-82fb-48a030a14799",
   "metadata": {},
   "outputs": [],
   "source": [
    "def conectar_db(host = \"localhost\", user = \"root\", password = \"contraseña1234\", database = \"ofertas_empleo\"):\n",
    "    return mysql.connector.connect(host = host,\n",
    "                                    user = user,\n",
    "                                    password = password,\n",
    "                                    database = database\n",
    "                                )"
   ]
  },
  {
   "cell_type": "code",
   "execution_count": null,
   "id": "8f50b6b5-b094-4de3-997f-890697d94db5",
   "metadata": {},
   "outputs": [],
   "source": [
    "def ejecutar_query(query, db_conectada):\n",
    "    cursor = db_conectada.cursor()\n",
    "    cursor.execute(query)\n",
    "    data = cursor.fetchall()\n",
    "    columnas = [col[0] for col in cursor.description]\n",
    "    df = pd.DataFrame(data, columns=columnas)\n",
    "    cursor.close()\n",
    "    return df"
   ]
  },
  {
   "cell_type": "code",
   "execution_count": null,
   "id": "c014655d-b20d-4996-9e2f-3a206fc1304e",
   "metadata": {},
   "outputs": [],
   "source": [
    "#ejemplo de uso\n",
    "query = \"SELECT * FROM empresa;\"\n",
    "\n",
    "db_conectada = conectar_db()\n",
    "\n",
    "df_empresas = ejecutar_query(query, db_conectada)\n",
    "\n",
    "print(df_empresas)\n",
    "\n",
    "db_conectada.close()"
   ]
  },
  {
   "cell_type": "code",
   "execution_count": null,
   "id": "6cddd6cc-53a8-4331-b51e-a41cd35ab358",
   "metadata": {},
   "outputs": [],
   "source": [
    "#aquí deberiamos plantear que datos queremos extraer mediante queries para despues hacer el analisis y las visualizaciones"
   ]
  }
 ],
 "metadata": {
  "kernelspec": {
   "display_name": "Python 3 (ipykernel)",
   "language": "python",
   "name": "python3"
  },
  "language_info": {
   "codemirror_mode": {
    "name": "ipython",
    "version": 3
   },
   "file_extension": ".py",
   "mimetype": "text/x-python",
   "name": "python",
   "nbconvert_exporter": "python",
   "pygments_lexer": "ipython3",
   "version": "3.12.7"
  }
 },
 "nbformat": 4,
 "nbformat_minor": 5
}
