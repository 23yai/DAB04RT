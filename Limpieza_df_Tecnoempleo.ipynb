{
 "cells": [
  {
   "cell_type": "code",
   "execution_count": 1,
   "id": "fd45439d-6cee-4a65-9c2f-e08d9b635764",
   "metadata": {},
   "outputs": [],
   "source": [
    "import pandas as pd\n",
    "import numpy as np"
   ]
  },
  {
   "cell_type": "code",
   "execution_count": 2,
   "id": "29b68ec0-299f-459f-8fef-683ec2b7076e",
   "metadata": {},
   "outputs": [],
   "source": [
    "df1 = pd.read_excel(\"prueba.xlsx\") #DataFrame TecnoEmpleo (ANTHONY)"
   ]
  },
  {
   "cell_type": "code",
   "execution_count": 3,
   "id": "9dc7e131-248a-4055-a8c7-fcee09c249cd",
   "metadata": {},
   "outputs": [
    {
     "data": {
      "text/html": [
       "<div>\n",
       "<style scoped>\n",
       "    .dataframe tbody tr th:only-of-type {\n",
       "        vertical-align: middle;\n",
       "    }\n",
       "\n",
       "    .dataframe tbody tr th {\n",
       "        vertical-align: top;\n",
       "    }\n",
       "\n",
       "    .dataframe thead th {\n",
       "        text-align: right;\n",
       "    }\n",
       "</style>\n",
       "<table border=\"1\" class=\"dataframe\">\n",
       "  <thead>\n",
       "    <tr style=\"text-align: right;\">\n",
       "      <th></th>\n",
       "      <th>Urls</th>\n",
       "      <th>Oferta</th>\n",
       "      <th>Empresa</th>\n",
       "      <th>Funcion</th>\n",
       "      <th>Aptitudes</th>\n",
       "      <th>Requisito</th>\n",
       "      <th>Jornada</th>\n",
       "      <th>Contrato</th>\n",
       "      <th>Salario</th>\n",
       "      <th>Fecha_de_publicacion</th>\n",
       "      <th>Ubicacion</th>\n",
       "      <th>Idiomas</th>\n",
       "      <th>Texto</th>\n",
       "      <th>Teletrabajo o Presencial</th>\n",
       "      <th>Experiencia</th>\n",
       "    </tr>\n",
       "  </thead>\n",
       "  <tbody>\n",
       "    <tr>\n",
       "      <th>0</th>\n",
       "      <td>https://www.tecnoempleo.com/software-engineeri...</td>\n",
       "      <td>Software Engineering Manager</td>\n",
       "      <td>Solera</td>\n",
       "      <td>Analista Programador</td>\n",
       "      <td>Java REST API Git CI/CD Hibernate Docker Cloud...</td>\n",
       "      <td>Ingeniero Superior</td>\n",
       "      <td>Jornada completa</td>\n",
       "      <td>Indefinido</td>\n",
       "      <td>NaN</td>\n",
       "      <td>12/04/2025</td>\n",
       "      <td>Alcobendas - Madrid - España</td>\n",
       "      <td>Inglés (Alto)</td>\n",
       "      <td>Descripción de la oferta de empleo 7+ years of...</td>\n",
       "      <td>NaN</td>\n",
       "      <td>Más de 5 años</td>\n",
       "    </tr>\n",
       "    <tr>\n",
       "      <th>1</th>\n",
       "      <td>https://www.tecnoempleo.com/front-developer-se...</td>\n",
       "      <td>Front Developer Senior</td>\n",
       "      <td>Mytic Innova</td>\n",
       "      <td>Analista Programador</td>\n",
       "      <td>Java Angular SQL SCRUM Git Html CSS Bootstrap ...</td>\n",
       "      <td>Ingeniero Superior</td>\n",
       "      <td>Jornada completa</td>\n",
       "      <td>Indefinido</td>\n",
       "      <td>27000 33000</td>\n",
       "      <td>11/04/2025</td>\n",
       "      <td>Hospitalet de Llobregat - Barcelona</td>\n",
       "      <td>Inglés (Alto)</td>\n",
       "      <td>Descripción de la oferta de empleo Mytic Innov...</td>\n",
       "      <td>Híbrido</td>\n",
       "      <td>2 años</td>\n",
       "    </tr>\n",
       "    <tr>\n",
       "      <th>2</th>\n",
       "      <td>https://www.tecnoempleo.com/programador-fullst...</td>\n",
       "      <td>Programador FullStack</td>\n",
       "      <td>Dev&amp;del</td>\n",
       "      <td>Analista Programador</td>\n",
       "      <td>java javascript spring angular react html css ...</td>\n",
       "      <td>FP2/Grado Superior</td>\n",
       "      <td>Jornada completa</td>\n",
       "      <td>Indefinido</td>\n",
       "      <td>NaN</td>\n",
       "      <td>11/04/2025</td>\n",
       "      <td>Madrid</td>\n",
       "      <td>Inglés (Alto)</td>\n",
       "      <td>Descripción de la oferta de empleo ¿Eres una p...</td>\n",
       "      <td>Híbrido</td>\n",
       "      <td>3 años</td>\n",
       "    </tr>\n",
       "    <tr>\n",
       "      <th>3</th>\n",
       "      <td>https://www.tecnoempleo.com/analista-programad...</td>\n",
       "      <td>Analista Programador en PHP</td>\n",
       "      <td>Codicert</td>\n",
       "      <td>Programador</td>\n",
       "      <td>php7 phpunit ajax composer poo psr4 svn doctrine</td>\n",
       "      <td>FP2/Grado Superior</td>\n",
       "      <td>Jornada completa</td>\n",
       "      <td>Temporal</td>\n",
       "      <td>30000 30000</td>\n",
       "      <td>11/04/2025</td>\n",
       "      <td>Gzira - Malta</td>\n",
       "      <td>Inglés (Medio)</td>\n",
       "      <td>Descripción de la oferta de empleo ¡Únete a nu...</td>\n",
       "      <td>Presencial</td>\n",
       "      <td>2 años</td>\n",
       "    </tr>\n",
       "    <tr>\n",
       "      <th>4</th>\n",
       "      <td>https://www.tecnoempleo.com/docente-online-int...</td>\n",
       "      <td>Docente online Inteligencia Artificial</td>\n",
       "      <td>EIP Escuela Internacional Posgrados</td>\n",
       "      <td>Formador</td>\n",
       "      <td>Azure Zapier Chat GPT Make Monica Gemini</td>\n",
       "      <td>FP2/Grado Superior</td>\n",
       "      <td>Media jornada</td>\n",
       "      <td>Temporal</td>\n",
       "      <td>24 24</td>\n",
       "      <td>11/04/2025</td>\n",
       "      <td>Teletrabajo</td>\n",
       "      <td>NaN</td>\n",
       "      <td>Descripción de la oferta de empleo ¡Únete a nu...</td>\n",
       "      <td>100% remoto</td>\n",
       "      <td>1 año</td>\n",
       "    </tr>\n",
       "  </tbody>\n",
       "</table>\n",
       "</div>"
      ],
      "text/plain": [
       "                                                Urls  \\\n",
       "0  https://www.tecnoempleo.com/software-engineeri...   \n",
       "1  https://www.tecnoempleo.com/front-developer-se...   \n",
       "2  https://www.tecnoempleo.com/programador-fullst...   \n",
       "3  https://www.tecnoempleo.com/analista-programad...   \n",
       "4  https://www.tecnoempleo.com/docente-online-int...   \n",
       "\n",
       "                                   Oferta  \\\n",
       "0            Software Engineering Manager   \n",
       "1                  Front Developer Senior   \n",
       "2                   Programador FullStack   \n",
       "3             Analista Programador en PHP   \n",
       "4  Docente online Inteligencia Artificial   \n",
       "\n",
       "                               Empresa               Funcion  \\\n",
       "0                               Solera  Analista Programador   \n",
       "1                         Mytic Innova  Analista Programador   \n",
       "2                              Dev&del  Analista Programador   \n",
       "3                             Codicert           Programador   \n",
       "4  EIP Escuela Internacional Posgrados              Formador   \n",
       "\n",
       "                                           Aptitudes           Requisito  \\\n",
       "0  Java REST API Git CI/CD Hibernate Docker Cloud...  Ingeniero Superior   \n",
       "1  Java Angular SQL SCRUM Git Html CSS Bootstrap ...  Ingeniero Superior   \n",
       "2  java javascript spring angular react html css ...  FP2/Grado Superior   \n",
       "3   php7 phpunit ajax composer poo psr4 svn doctrine  FP2/Grado Superior   \n",
       "4           Azure Zapier Chat GPT Make Monica Gemini  FP2/Grado Superior   \n",
       "\n",
       "            Jornada    Contrato      Salario Fecha_de_publicacion  \\\n",
       "0  Jornada completa  Indefinido          NaN           12/04/2025   \n",
       "1  Jornada completa  Indefinido  27000 33000           11/04/2025   \n",
       "2  Jornada completa  Indefinido          NaN           11/04/2025   \n",
       "3  Jornada completa    Temporal  30000 30000           11/04/2025   \n",
       "4     Media jornada    Temporal        24 24           11/04/2025   \n",
       "\n",
       "                             Ubicacion         Idiomas  \\\n",
       "0         Alcobendas - Madrid - España   Inglés (Alto)   \n",
       "1  Hospitalet de Llobregat - Barcelona   Inglés (Alto)   \n",
       "2                               Madrid   Inglés (Alto)   \n",
       "3                        Gzira - Malta  Inglés (Medio)   \n",
       "4                          Teletrabajo             NaN   \n",
       "\n",
       "                                               Texto Teletrabajo o Presencial  \\\n",
       "0  Descripción de la oferta de empleo 7+ years of...                      NaN   \n",
       "1  Descripción de la oferta de empleo Mytic Innov...                  Híbrido   \n",
       "2  Descripción de la oferta de empleo ¿Eres una p...                  Híbrido   \n",
       "3  Descripción de la oferta de empleo ¡Únete a nu...               Presencial   \n",
       "4  Descripción de la oferta de empleo ¡Únete a nu...              100% remoto   \n",
       "\n",
       "     Experiencia  \n",
       "0  Más de 5 años  \n",
       "1         2 años  \n",
       "2         3 años  \n",
       "3         2 años  \n",
       "4          1 año  "
      ]
     },
     "execution_count": 3,
     "metadata": {},
     "output_type": "execute_result"
    }
   ],
   "source": [
    "df1.head()"
   ]
  },
  {
   "cell_type": "code",
   "execution_count": 4,
   "id": "a0c8e517-05d1-4919-ba82-490eec9f1fcd",
   "metadata": {},
   "outputs": [
    {
     "name": "stdout",
     "output_type": "stream",
     "text": [
      "<class 'pandas.core.frame.DataFrame'>\n",
      "RangeIndex: 3995 entries, 0 to 3994\n",
      "Data columns (total 15 columns):\n",
      " #   Column                    Non-Null Count  Dtype \n",
      "---  ------                    --------------  ----- \n",
      " 0   Urls                      3995 non-null   object\n",
      " 1   Oferta                    3995 non-null   object\n",
      " 2   Empresa                   3991 non-null   object\n",
      " 3   Funcion                   3995 non-null   object\n",
      " 4   Aptitudes                 3995 non-null   object\n",
      " 5   Requisito                 1298 non-null   object\n",
      " 6   Jornada                   3995 non-null   object\n",
      " 7   Contrato                  3995 non-null   object\n",
      " 8   Salario                   735 non-null    object\n",
      " 9   Fecha_de_publicacion      3995 non-null   object\n",
      " 10  Ubicacion                 3995 non-null   object\n",
      " 11  Idiomas                   607 non-null    object\n",
      " 12  Texto                     3891 non-null   object\n",
      " 13  Teletrabajo o Presencial  2195 non-null   object\n",
      " 14  Experiencia               3891 non-null   object\n",
      "dtypes: object(15)\n",
      "memory usage: 468.3+ KB\n"
     ]
    }
   ],
   "source": [
    "df1.info()"
   ]
  },
  {
   "cell_type": "code",
   "execution_count": 5,
   "id": "85d629a7-838c-4b9f-b568-7aad529e961e",
   "metadata": {},
   "outputs": [],
   "source": [
    "#poner el nombre de las columnas en minúscula\n",
    "df1.columns = df1.columns.str.lower()"
   ]
  },
  {
   "cell_type": "code",
   "execution_count": 6,
   "id": "869d07a6-04f4-4241-9fb4-44a7dbb69fff",
   "metadata": {},
   "outputs": [],
   "source": [
    "#renombrar las columnas para unir los dataframes\n",
    "df1.rename(columns={\"urls\": \"id_urls\",\n",
    "                    \"fecha_de_publicacion\": \"fecha\",\n",
    "                    \"aptitudes\": \"tecnologias_aptitudes\",\n",
    "                    \"requisito\": \"estudios\",\n",
    "                    \"teletrabajo o presencial\": \"modalidad\",\n",
    "                    \"texto\": \"descripcion\"}\n",
    "           , inplace=True)"
   ]
  },
  {
   "cell_type": "code",
   "execution_count": 7,
   "id": "d8200c55-0434-4ec5-b9a1-048f5d81fe29",
   "metadata": {},
   "outputs": [
    {
     "data": {
      "text/html": [
       "<div>\n",
       "<style scoped>\n",
       "    .dataframe tbody tr th:only-of-type {\n",
       "        vertical-align: middle;\n",
       "    }\n",
       "\n",
       "    .dataframe tbody tr th {\n",
       "        vertical-align: top;\n",
       "    }\n",
       "\n",
       "    .dataframe thead th {\n",
       "        text-align: right;\n",
       "    }\n",
       "</style>\n",
       "<table border=\"1\" class=\"dataframe\">\n",
       "  <thead>\n",
       "    <tr style=\"text-align: right;\">\n",
       "      <th></th>\n",
       "      <th>id_urls</th>\n",
       "      <th>oferta</th>\n",
       "      <th>empresa</th>\n",
       "      <th>funcion</th>\n",
       "      <th>tecnologias_aptitudes</th>\n",
       "      <th>estudios</th>\n",
       "      <th>jornada</th>\n",
       "      <th>contrato</th>\n",
       "      <th>salario</th>\n",
       "      <th>fecha</th>\n",
       "      <th>ubicacion</th>\n",
       "      <th>idiomas</th>\n",
       "      <th>descripcion</th>\n",
       "      <th>modalidad</th>\n",
       "      <th>experiencia</th>\n",
       "    </tr>\n",
       "  </thead>\n",
       "  <tbody>\n",
       "    <tr>\n",
       "      <th>0</th>\n",
       "      <td>https://www.tecnoempleo.com/software-engineeri...</td>\n",
       "      <td>Software Engineering Manager</td>\n",
       "      <td>Solera</td>\n",
       "      <td>Analista Programador</td>\n",
       "      <td>Java REST API Git CI/CD Hibernate Docker Cloud...</td>\n",
       "      <td>Ingeniero Superior</td>\n",
       "      <td>Jornada completa</td>\n",
       "      <td>Indefinido</td>\n",
       "      <td>NaN</td>\n",
       "      <td>12/04/2025</td>\n",
       "      <td>Alcobendas - Madrid - España</td>\n",
       "      <td>Inglés (Alto)</td>\n",
       "      <td>Descripción de la oferta de empleo 7+ years of...</td>\n",
       "      <td>NaN</td>\n",
       "      <td>Más de 5 años</td>\n",
       "    </tr>\n",
       "    <tr>\n",
       "      <th>1</th>\n",
       "      <td>https://www.tecnoempleo.com/front-developer-se...</td>\n",
       "      <td>Front Developer Senior</td>\n",
       "      <td>Mytic Innova</td>\n",
       "      <td>Analista Programador</td>\n",
       "      <td>Java Angular SQL SCRUM Git Html CSS Bootstrap ...</td>\n",
       "      <td>Ingeniero Superior</td>\n",
       "      <td>Jornada completa</td>\n",
       "      <td>Indefinido</td>\n",
       "      <td>27000 33000</td>\n",
       "      <td>11/04/2025</td>\n",
       "      <td>Hospitalet de Llobregat - Barcelona</td>\n",
       "      <td>Inglés (Alto)</td>\n",
       "      <td>Descripción de la oferta de empleo Mytic Innov...</td>\n",
       "      <td>Híbrido</td>\n",
       "      <td>2 años</td>\n",
       "    </tr>\n",
       "    <tr>\n",
       "      <th>2</th>\n",
       "      <td>https://www.tecnoempleo.com/programador-fullst...</td>\n",
       "      <td>Programador FullStack</td>\n",
       "      <td>Dev&amp;del</td>\n",
       "      <td>Analista Programador</td>\n",
       "      <td>java javascript spring angular react html css ...</td>\n",
       "      <td>FP2/Grado Superior</td>\n",
       "      <td>Jornada completa</td>\n",
       "      <td>Indefinido</td>\n",
       "      <td>NaN</td>\n",
       "      <td>11/04/2025</td>\n",
       "      <td>Madrid</td>\n",
       "      <td>Inglés (Alto)</td>\n",
       "      <td>Descripción de la oferta de empleo ¿Eres una p...</td>\n",
       "      <td>Híbrido</td>\n",
       "      <td>3 años</td>\n",
       "    </tr>\n",
       "    <tr>\n",
       "      <th>3</th>\n",
       "      <td>https://www.tecnoempleo.com/analista-programad...</td>\n",
       "      <td>Analista Programador en PHP</td>\n",
       "      <td>Codicert</td>\n",
       "      <td>Programador</td>\n",
       "      <td>php7 phpunit ajax composer poo psr4 svn doctrine</td>\n",
       "      <td>FP2/Grado Superior</td>\n",
       "      <td>Jornada completa</td>\n",
       "      <td>Temporal</td>\n",
       "      <td>30000 30000</td>\n",
       "      <td>11/04/2025</td>\n",
       "      <td>Gzira - Malta</td>\n",
       "      <td>Inglés (Medio)</td>\n",
       "      <td>Descripción de la oferta de empleo ¡Únete a nu...</td>\n",
       "      <td>Presencial</td>\n",
       "      <td>2 años</td>\n",
       "    </tr>\n",
       "    <tr>\n",
       "      <th>4</th>\n",
       "      <td>https://www.tecnoempleo.com/docente-online-int...</td>\n",
       "      <td>Docente online Inteligencia Artificial</td>\n",
       "      <td>EIP Escuela Internacional Posgrados</td>\n",
       "      <td>Formador</td>\n",
       "      <td>Azure Zapier Chat GPT Make Monica Gemini</td>\n",
       "      <td>FP2/Grado Superior</td>\n",
       "      <td>Media jornada</td>\n",
       "      <td>Temporal</td>\n",
       "      <td>24 24</td>\n",
       "      <td>11/04/2025</td>\n",
       "      <td>Teletrabajo</td>\n",
       "      <td>NaN</td>\n",
       "      <td>Descripción de la oferta de empleo ¡Únete a nu...</td>\n",
       "      <td>100% remoto</td>\n",
       "      <td>1 año</td>\n",
       "    </tr>\n",
       "  </tbody>\n",
       "</table>\n",
       "</div>"
      ],
      "text/plain": [
       "                                             id_urls  \\\n",
       "0  https://www.tecnoempleo.com/software-engineeri...   \n",
       "1  https://www.tecnoempleo.com/front-developer-se...   \n",
       "2  https://www.tecnoempleo.com/programador-fullst...   \n",
       "3  https://www.tecnoempleo.com/analista-programad...   \n",
       "4  https://www.tecnoempleo.com/docente-online-int...   \n",
       "\n",
       "                                   oferta  \\\n",
       "0            Software Engineering Manager   \n",
       "1                  Front Developer Senior   \n",
       "2                   Programador FullStack   \n",
       "3             Analista Programador en PHP   \n",
       "4  Docente online Inteligencia Artificial   \n",
       "\n",
       "                               empresa               funcion  \\\n",
       "0                               Solera  Analista Programador   \n",
       "1                         Mytic Innova  Analista Programador   \n",
       "2                              Dev&del  Analista Programador   \n",
       "3                             Codicert           Programador   \n",
       "4  EIP Escuela Internacional Posgrados              Formador   \n",
       "\n",
       "                               tecnologias_aptitudes            estudios  \\\n",
       "0  Java REST API Git CI/CD Hibernate Docker Cloud...  Ingeniero Superior   \n",
       "1  Java Angular SQL SCRUM Git Html CSS Bootstrap ...  Ingeniero Superior   \n",
       "2  java javascript spring angular react html css ...  FP2/Grado Superior   \n",
       "3   php7 phpunit ajax composer poo psr4 svn doctrine  FP2/Grado Superior   \n",
       "4           Azure Zapier Chat GPT Make Monica Gemini  FP2/Grado Superior   \n",
       "\n",
       "            jornada    contrato      salario       fecha  \\\n",
       "0  Jornada completa  Indefinido          NaN  12/04/2025   \n",
       "1  Jornada completa  Indefinido  27000 33000  11/04/2025   \n",
       "2  Jornada completa  Indefinido          NaN  11/04/2025   \n",
       "3  Jornada completa    Temporal  30000 30000  11/04/2025   \n",
       "4     Media jornada    Temporal        24 24  11/04/2025   \n",
       "\n",
       "                             ubicacion         idiomas  \\\n",
       "0         Alcobendas - Madrid - España   Inglés (Alto)   \n",
       "1  Hospitalet de Llobregat - Barcelona   Inglés (Alto)   \n",
       "2                               Madrid   Inglés (Alto)   \n",
       "3                        Gzira - Malta  Inglés (Medio)   \n",
       "4                          Teletrabajo             NaN   \n",
       "\n",
       "                                         descripcion    modalidad  \\\n",
       "0  Descripción de la oferta de empleo 7+ years of...          NaN   \n",
       "1  Descripción de la oferta de empleo Mytic Innov...      Híbrido   \n",
       "2  Descripción de la oferta de empleo ¿Eres una p...      Híbrido   \n",
       "3  Descripción de la oferta de empleo ¡Únete a nu...   Presencial   \n",
       "4  Descripción de la oferta de empleo ¡Únete a nu...  100% remoto   \n",
       "\n",
       "     experiencia  \n",
       "0  Más de 5 años  \n",
       "1         2 años  \n",
       "2         3 años  \n",
       "3         2 años  \n",
       "4          1 año  "
      ]
     },
     "execution_count": 7,
     "metadata": {},
     "output_type": "execute_result"
    }
   ],
   "source": [
    "#nombre de las columnas correcto\n",
    "df1.head()"
   ]
  },
  {
   "cell_type": "markdown",
   "id": "7016a5ac-756d-40a5-a115-3cef7ded2f9b",
   "metadata": {},
   "source": [
    "#### PORTAL_EMPLEO"
   ]
  },
  {
   "cell_type": "code",
   "execution_count": 8,
   "id": "eb379b4a-30b4-4a9c-9b85-9d35fc7290b8",
   "metadata": {},
   "outputs": [],
   "source": [
    "#añadimos la columna \"portal_empleo\" a partir de la columna \"id_urls\"\n",
    "df1[\"portal_empleo\"] = df1[\"id_urls\"].str.split(\"www.\").str[1].str.split(\".com\").str[0]"
   ]
  },
  {
   "cell_type": "markdown",
   "id": "b9675124-7863-4ca1-9de5-e5f7d762e591",
   "metadata": {},
   "source": [
    "#### JORNADA"
   ]
  },
  {
   "cell_type": "code",
   "execution_count": 10,
   "id": "75477811-1983-4db0-871d-99b9cfc144af",
   "metadata": {},
   "outputs": [],
   "source": [
    "#reemplazar valores que son \"Jornada completa\"\n",
    "jornada_completa = {\n",
    "    \"Intensiva Mañana\": \"Jornada completa\",\n",
    "    \"Turno rotatorio\": \"Jornada completa\",\n",
    "    \"Intensiva Tarde\": \"Jornada completa\"\n",
    "}\n",
    "\n",
    "df1[\"jornada\"] = df1[\"jornada\"].replace(jornada_completa)"
   ]
  },
  {
   "cell_type": "markdown",
   "id": "647fd911-60e3-44e9-86d2-09e46298d048",
   "metadata": {},
   "source": [
    "#### ESTUDIOS"
   ]
  },
  {
   "cell_type": "code",
   "execution_count": 11,
   "id": "ea755c53-ffc1-45a4-96c6-5e669ebc86c8",
   "metadata": {},
   "outputs": [],
   "source": [
    "#convertirmos la columna en una columna booleana: si requiere estudios = True, si no reqiere estudios = False\n",
    "df1[\"estudios\"] = df1[\"estudios\"].notna()"
   ]
  },
  {
   "cell_type": "markdown",
   "id": "52fba5d3-66f4-44a8-bf1c-06243a4e2097",
   "metadata": {},
   "source": [
    "#### SALARIO"
   ]
  },
  {
   "cell_type": "code",
   "execution_count": 25,
   "id": "fb6aa0e7-7ddc-46c4-9fa1-74fc5ed37887",
   "metadata": {},
   "outputs": [],
   "source": [
    "#dividir la columna salario (rango) en dos columnas: salario_min y salario_max\n",
    "df1[[\"salario_min_pre\",\"salario_max_pre\"]] = df1[\"salario\"].str.split(\" \", expand = True)"
   ]
  },
  {
   "cell_type": "code",
   "execution_count": 29,
   "id": "ba1f65d6-3359-4e25-ac90-9650de2838f2",
   "metadata": {},
   "outputs": [],
   "source": [
    "#pasar salario bruto por hora a salario bruto anual\n",
    "df1[\"salario_min\"] = df1[\"salario_min_pre\"].apply(lambda x: int(x) * 40 * 52 if str(x).isdigit() and len(x) == 2 else x)\n",
    "df1[\"salario_max\"] = df1[\"salario_max_pre\"].apply(lambda x: int(x) * 40 * 52 if str(x).isdigit() and len(x) == 2 else x)"
   ]
  },
  {
   "cell_type": "code",
   "execution_count": 33,
   "id": "241dc418-0cdd-4e35-bf1b-d0f4629f766e",
   "metadata": {},
   "outputs": [],
   "source": [
    "#eliminar columnas de salario innecesarias\n",
    "columnas_salario_eliminar = [\"salario\", \"salario_min_pre\", \"salario_max_pre\"]\n",
    "df1.drop(columns = columnas_salario_eliminar, inplace = True)"
   ]
  },
  {
   "cell_type": "markdown",
   "id": "f0824b35-84ad-45a5-b615-f3490dcd6924",
   "metadata": {},
   "source": [
    "#### FECHA"
   ]
  },
  {
   "cell_type": "code",
   "execution_count": 50,
   "id": "5fc4c41f-8c63-406f-908a-58b5b2c7c060",
   "metadata": {},
   "outputs": [],
   "source": [
    "df1[\"fecha\"] = pd.to_datetime(df1[\"fecha\"], format=\"%d/%m/%Y\")"
   ]
  },
  {
   "cell_type": "code",
   "execution_count": 54,
   "id": "72272b66-bf47-4293-8a75-aa5954a9bad3",
   "metadata": {},
   "outputs": [],
   "source": [
    "df1[\"fecha\"] = df1[\"fecha\"].dt.strftime(\"%m/%Y\")"
   ]
  },
  {
   "cell_type": "markdown",
   "id": "9cb90876-d509-4088-bb17-431b44c8a770",
   "metadata": {},
   "source": [
    "#### UBICACIÓN"
   ]
  },
  {
   "cell_type": "code",
   "execution_count": 175,
   "id": "4acb3d1a-1ae5-4e43-9a4e-6040295eb554",
   "metadata": {},
   "outputs": [],
   "source": [
    "provincias = [\n",
    "    \"Álava\", \"Albacete\", \"Alicante\", \"Almería\", \"Asturias\", \"Ávila\", \"Badajoz\", \"Barcelona\", \"Burgos\",\n",
    "    \"Cáceres\", \"Cádiz\", \"Cantabria\", \"Castellón\", \"Ciudad Real\", \"Córdoba\", \"Cuenca\", \"Girona\", \"Granada\",\n",
    "    \"Guadalajara\", \"Guipúzcoa\", \"Huelva\", \"Huesca\", \"Baleares\", \"Jaén\", \"La Coruña\", \"La Rioja\",\n",
    "    \"Las Palmas\", \"León\", \"Lleida\", \"Lugo\", \"Madrid\", \"Málaga\", \"Murcia\", \"Navarra\", \"Ourense\",\n",
    "    \"Palencia\", \"Pontevedra\", \"Salamanca\", \"Santa Cruz de Tenerife\", \"Segovia\", \"Sevilla\", \"Soria\",\n",
    "    \"Tarragona\", \"Teruel\", \"Toledo\", \"Valencia\", \"Valladolid\", \"Vizcaya\", \"Zamora\", \"Zaragoza\"]\n",
    "\n",
    "provincias_con_variante = {\n",
    "    \"Bizkaia\" : \"Vizcaya\",\n",
    "    \"A Coruña\" : \"La Coruña\",\n",
    "    \"Gipuzkoa\" : \"Guipúzcoa\",\n",
    "    \"Zona Villaverde\" : \"Madrid\"}\n",
    "\n",
    "def extraer_provincia(ubicacion):\n",
    "    \n",
    "    ubicacion_lower = ubicacion.lower()\n",
    "\n",
    "    for variante, provincia_real in provincias_con_variante.items():\n",
    "        if variante.lower() in ubicacion_lower:\n",
    "            return provincia_real\n",
    "    \n",
    "    for provincia in provincias:\n",
    "        if provincia.lower() in ubicacion_lower:\n",
    "            return provincia\n",
    "    \n",
    "    return ubicacion  # Devuelve el valor original si no se encuentra una provincia\n",
    "\n",
    "\n",
    "df1[\"provincia\"] = df1[\"ubicacion\"].apply(extraer_provincia)"
   ]
  },
  {
   "cell_type": "code",
   "execution_count": 159,
   "id": "f3114752-6961-4db5-9124-d1edd82eff1c",
   "metadata": {},
   "outputs": [],
   "source": [
    "paises = [\n",
    "    \"Albania\", \"Alemania\", \"Andorra\", \"Armenia\", \"Austria\", \"Azerbaiyán\", \"Bielorrusia\", \"Bélgica\",\n",
    "    \"Bosnia y Herzegovina\", \"Bulgaria\", \"Croacia\", \"Chipre\", \"Chequia\", \"Dinamarca\", \"Eslovaquia\",\n",
    "    \"Eslovenia\", \"España\", \"Estonia\", \"Finlandia\", \"Francia\", \"Georgia\", \"Grecia\", \"Hungría\", \"Holanda\", \"Irlanda\",\n",
    "    \"Islandia\", \"Italia\", \"Kazajistán\", \"Kosovo\", \"Macedonia\", \"Letonia\", \"Liechtenstein\", \"Lituania\", \"Luxemburgo\",\n",
    "    \"Malta\", \"Moldavia\", \"Mónaco\", \"Montenegro\", \"Noruega\", \"Países Bajos\", \"Macedonia del Norte\", \"Polonia\",\n",
    "    \"Portugal\", \"Reino Unido\", \"Rumanía\", \"Rusia\", \"San Marino\", \"Serbia\", \"Suecia\", \"Suiza\", \"Turquía\", \"Ucrania\"\n",
    "\n",
    "]\n",
    "\n",
    "def extraer_pais(ubicacion):\n",
    "    \n",
    "    ubicacion_lower = ubicacion.lower()\n",
    "    \n",
    "    for pais in paises:\n",
    "        if pais.lower() in ubicacion_lower:\n",
    "            return pais\n",
    "    \n",
    "    return ubicacion  # Devuelve el valor original si no se encuentra una provincia\n",
    "\n",
    "\n",
    "df1[\"provincia\"] = df1[\"provincia\"].apply(extraer_pais)"
   ]
  },
  {
   "cell_type": "code",
   "execution_count": 111,
   "id": "01eaf4d7-6e43-4d1a-9651-348095d6cd21",
   "metadata": {},
   "outputs": [],
   "source": [
    "def limpiar_ubicacion(ubicacion):\n",
    "    if \"-\" in ubicacion:\n",
    "        partes = [p.strip() for p in ubicacion.split(\"-\")]\n",
    "        if len(partes) == 3:\n",
    "            return partes[1]\n",
    "        elif len(partes) == 2:\n",
    "            return partes[0]\n",
    "        else:\n",
    "            return partes[0]\n",
    "    else:\n",
    "        # eliminar países conocidos si aparecen al final\n",
    "        ubicacion = ubicacion.lower()\n",
    "        paises = [\"españa\", \"reino unido\", \"portugal\", \"alemania\"]\n",
    "        for pais in paises:\n",
    "            if ubicacion.endswith(pais):\n",
    "                return ubicacion.replace(pais, \"\").strip().title()\n",
    "        return ubicacion.title()\n",
    "\n",
    "df1[\"provincia\"] = df1[\"ubicacion\"].apply(limpiar_ubicacion)"
   ]
  },
  {
   "cell_type": "code",
   "execution_count": 111,
   "id": "ffb03c49-de82-4d1c-a190-5c770ffa0b07",
   "metadata": {},
   "outputs": [],
   "source": [
    "def limpiar_ubicacion(ubicacion):\n",
    "    if \"-\" in ubicacion:\n",
    "        partes = [p.strip() for p in ubicacion.split(\"-\")]\n",
    "        if len(partes) == 3:\n",
    "            return partes[1]\n",
    "        elif len(partes) == 2:\n",
    "            return partes[0]\n",
    "        else:\n",
    "            return partes[0]\n",
    "    else:\n",
    "        # eliminar países conocidos si aparecen al final\n",
    "        ubicacion = ubicacion.lower()\n",
    "        paises = [\"españa\", \"reino unido\", \"portugal\", \"alemania\"]\n",
    "        for pais in paises:\n",
    "            if ubicacion.endswith(pais):\n",
    "                return ubicacion.replace(pais, \"\").strip().title()\n",
    "        return ubicacion.title()\n",
    "\n",
    "df1[\"provincia\"] = df1[\"ubicacion\"].apply(limpiar_ubicacion)"
   ]
  },
  {
   "cell_type": "code",
   "execution_count": 95,
   "id": "512cc8c0-9857-4199-a546-70a42675d545",
   "metadata": {},
   "outputs": [],
   "source": [
    "def eliminar_espana(valor):\n",
    "    if isinstance(valor, str):\n",
    "        palabras = valor.split()\n",
    "        if len(palabras) == 2 and \"España\" in palabras:\n",
    "            return palabras[0]\n",
    "    return valor\n",
    "    \n",
    "df1[\"provincia\"] = df1[\"provincia\"].apply(eliminar_espana)"
   ]
  },
  {
   "cell_type": "code",
   "execution_count": 81,
   "id": "0874f793-b1c9-4730-8113-e7310b22f772",
   "metadata": {},
   "outputs": [],
   "source": [
    "df1[\"provincia\"] = df1[\"ubicacion\"].apply(limpiar_ubicacion)\n",
    "df1[\"provincia\"] = df1[\"provincia\"].apply(eliminar_espana)"
   ]
  },
  {
   "cell_type": "markdown",
   "id": "81bd46ac-5a76-4539-bac6-8f9ec45cdf84",
   "metadata": {},
   "source": [
    "#### IDIOMAS"
   ]
  },
  {
   "cell_type": "code",
   "execution_count": 195,
   "id": "c483ac27-cae6-414b-a92b-7797119b5f1f",
   "metadata": {},
   "outputs": [],
   "source": [
    "#limpiar la columna \"idiomas\" eliminando el nivel\n",
    "niveles = [\"(Alto)\", \"(Medio)\", \"(Excelente)\", \"(Bajo)\"]\n",
    "\n",
    "def limpiar_idiomas(texto):\n",
    "    if pd.isna(texto):\n",
    "        return None\n",
    "\n",
    "    palabras = texto.split()  \n",
    "    idiomas = []\n",
    "\n",
    "    for palabra in palabras:\n",
    "        if palabra not in niveles:\n",
    "            idiomas.append(palabra)\n",
    "    return idiomas\n",
    "\n",
    "df1[\"idiomas_limpios\"] = df1[\"idiomas\"].apply(limpiar_idiomas)"
   ]
  },
  {
   "cell_type": "markdown",
   "id": "a51231f2-1116-4847-8e3c-011713e13c66",
   "metadata": {},
   "source": [
    "#### MODALIDAD"
   ]
  },
  {
   "cell_type": "code",
   "execution_count": 215,
   "id": "2024a8f5-eba4-4e9c-ba97-ce1b995d4319",
   "metadata": {},
   "outputs": [],
   "source": [
    "df1[\"modalidad_f\"] = df1[\"modalidad\"].apply(lambda x: x.replace(\"100% remoto\", \"Remoto\") if isinstance(x, str) else x)"
   ]
  },
  {
   "cell_type": "markdown",
   "id": "ef1917db-b751-4601-a9a6-0e2644ac11d4",
   "metadata": {},
   "source": [
    "#### EXPERIENCIA"
   ]
  },
  {
   "cell_type": "code",
   "execution_count": null,
   "id": "05bbffb1-a04b-4fee-af14-e9c7a97877ed",
   "metadata": {},
   "outputs": [],
   "source": []
  },
  {
   "cell_type": "code",
   "execution_count": 201,
   "id": "d7b30b35-ac1d-48f1-b506-5ffabf585bee",
   "metadata": {},
   "outputs": [
    {
     "data": {
      "text/html": [
       "<div>\n",
       "<style scoped>\n",
       "    .dataframe tbody tr th:only-of-type {\n",
       "        vertical-align: middle;\n",
       "    }\n",
       "\n",
       "    .dataframe tbody tr th {\n",
       "        vertical-align: top;\n",
       "    }\n",
       "\n",
       "    .dataframe thead th {\n",
       "        text-align: right;\n",
       "    }\n",
       "</style>\n",
       "<table border=\"1\" class=\"dataframe\">\n",
       "  <thead>\n",
       "    <tr style=\"text-align: right;\">\n",
       "      <th></th>\n",
       "      <th>id_urls</th>\n",
       "      <th>oferta</th>\n",
       "      <th>empresa</th>\n",
       "      <th>funcion</th>\n",
       "      <th>tecnologias_aptitudes</th>\n",
       "      <th>estudios</th>\n",
       "      <th>jornada</th>\n",
       "      <th>contrato</th>\n",
       "      <th>fecha</th>\n",
       "      <th>ubicacion</th>\n",
       "      <th>idiomas</th>\n",
       "      <th>descripcion</th>\n",
       "      <th>modalidad</th>\n",
       "      <th>experiencia</th>\n",
       "      <th>portal_empleo</th>\n",
       "      <th>salario_min</th>\n",
       "      <th>salario_max</th>\n",
       "      <th>provincia</th>\n",
       "      <th>idiomas_limpios</th>\n",
       "    </tr>\n",
       "  </thead>\n",
       "  <tbody>\n",
       "    <tr>\n",
       "      <th>0</th>\n",
       "      <td>https://www.tecnoempleo.com/software-engineeri...</td>\n",
       "      <td>Software Engineering Manager</td>\n",
       "      <td>Solera</td>\n",
       "      <td>Analista Programador</td>\n",
       "      <td>Java REST API Git CI/CD Hibernate Docker Cloud...</td>\n",
       "      <td>True</td>\n",
       "      <td>Jornada completa</td>\n",
       "      <td>Indefinido</td>\n",
       "      <td>04/2025</td>\n",
       "      <td>Alcobendas - Madrid - España</td>\n",
       "      <td>Inglés (Alto)</td>\n",
       "      <td>Descripción de la oferta de empleo 7+ years of...</td>\n",
       "      <td>NaN</td>\n",
       "      <td>Más de 5 años</td>\n",
       "      <td>tecnoempleo</td>\n",
       "      <td>NaN</td>\n",
       "      <td>NaN</td>\n",
       "      <td>Madrid</td>\n",
       "      <td>[Inglés]</td>\n",
       "    </tr>\n",
       "    <tr>\n",
       "      <th>1</th>\n",
       "      <td>https://www.tecnoempleo.com/front-developer-se...</td>\n",
       "      <td>Front Developer Senior</td>\n",
       "      <td>Mytic Innova</td>\n",
       "      <td>Analista Programador</td>\n",
       "      <td>Java Angular SQL SCRUM Git Html CSS Bootstrap ...</td>\n",
       "      <td>True</td>\n",
       "      <td>Jornada completa</td>\n",
       "      <td>Indefinido</td>\n",
       "      <td>04/2025</td>\n",
       "      <td>Hospitalet de Llobregat - Barcelona</td>\n",
       "      <td>Inglés (Alto)</td>\n",
       "      <td>Descripción de la oferta de empleo Mytic Innov...</td>\n",
       "      <td>Híbrido</td>\n",
       "      <td>2 años</td>\n",
       "      <td>tecnoempleo</td>\n",
       "      <td>27000</td>\n",
       "      <td>33000</td>\n",
       "      <td>Barcelona</td>\n",
       "      <td>[Inglés]</td>\n",
       "    </tr>\n",
       "    <tr>\n",
       "      <th>2</th>\n",
       "      <td>https://www.tecnoempleo.com/programador-fullst...</td>\n",
       "      <td>Programador FullStack</td>\n",
       "      <td>Dev&amp;del</td>\n",
       "      <td>Analista Programador</td>\n",
       "      <td>java javascript spring angular react html css ...</td>\n",
       "      <td>True</td>\n",
       "      <td>Jornada completa</td>\n",
       "      <td>Indefinido</td>\n",
       "      <td>04/2025</td>\n",
       "      <td>Madrid</td>\n",
       "      <td>Inglés (Alto)</td>\n",
       "      <td>Descripción de la oferta de empleo ¿Eres una p...</td>\n",
       "      <td>Híbrido</td>\n",
       "      <td>3 años</td>\n",
       "      <td>tecnoempleo</td>\n",
       "      <td>NaN</td>\n",
       "      <td>NaN</td>\n",
       "      <td>Madrid</td>\n",
       "      <td>[Inglés]</td>\n",
       "    </tr>\n",
       "    <tr>\n",
       "      <th>3</th>\n",
       "      <td>https://www.tecnoempleo.com/analista-programad...</td>\n",
       "      <td>Analista Programador en PHP</td>\n",
       "      <td>Codicert</td>\n",
       "      <td>Programador</td>\n",
       "      <td>php7 phpunit ajax composer poo psr4 svn doctrine</td>\n",
       "      <td>True</td>\n",
       "      <td>Jornada completa</td>\n",
       "      <td>Temporal</td>\n",
       "      <td>04/2025</td>\n",
       "      <td>Gzira - Malta</td>\n",
       "      <td>Inglés (Medio)</td>\n",
       "      <td>Descripción de la oferta de empleo ¡Únete a nu...</td>\n",
       "      <td>Presencial</td>\n",
       "      <td>2 años</td>\n",
       "      <td>tecnoempleo</td>\n",
       "      <td>30000</td>\n",
       "      <td>30000</td>\n",
       "      <td>Gzira - Malta</td>\n",
       "      <td>[Inglés]</td>\n",
       "    </tr>\n",
       "    <tr>\n",
       "      <th>4</th>\n",
       "      <td>https://www.tecnoempleo.com/docente-online-int...</td>\n",
       "      <td>Docente online Inteligencia Artificial</td>\n",
       "      <td>EIP Escuela Internacional Posgrados</td>\n",
       "      <td>Formador</td>\n",
       "      <td>Azure Zapier Chat GPT Make Monica Gemini</td>\n",
       "      <td>True</td>\n",
       "      <td>Media jornada</td>\n",
       "      <td>Temporal</td>\n",
       "      <td>04/2025</td>\n",
       "      <td>Teletrabajo</td>\n",
       "      <td>NaN</td>\n",
       "      <td>Descripción de la oferta de empleo ¡Únete a nu...</td>\n",
       "      <td>100% remoto</td>\n",
       "      <td>1 año</td>\n",
       "      <td>tecnoempleo</td>\n",
       "      <td>49920</td>\n",
       "      <td>49920</td>\n",
       "      <td>Teletrabajo</td>\n",
       "      <td>None</td>\n",
       "    </tr>\n",
       "  </tbody>\n",
       "</table>\n",
       "</div>"
      ],
      "text/plain": [
       "                                             id_urls  \\\n",
       "0  https://www.tecnoempleo.com/software-engineeri...   \n",
       "1  https://www.tecnoempleo.com/front-developer-se...   \n",
       "2  https://www.tecnoempleo.com/programador-fullst...   \n",
       "3  https://www.tecnoempleo.com/analista-programad...   \n",
       "4  https://www.tecnoempleo.com/docente-online-int...   \n",
       "\n",
       "                                   oferta  \\\n",
       "0            Software Engineering Manager   \n",
       "1                  Front Developer Senior   \n",
       "2                   Programador FullStack   \n",
       "3             Analista Programador en PHP   \n",
       "4  Docente online Inteligencia Artificial   \n",
       "\n",
       "                               empresa               funcion  \\\n",
       "0                               Solera  Analista Programador   \n",
       "1                         Mytic Innova  Analista Programador   \n",
       "2                              Dev&del  Analista Programador   \n",
       "3                             Codicert           Programador   \n",
       "4  EIP Escuela Internacional Posgrados              Formador   \n",
       "\n",
       "                               tecnologias_aptitudes  estudios  \\\n",
       "0  Java REST API Git CI/CD Hibernate Docker Cloud...      True   \n",
       "1  Java Angular SQL SCRUM Git Html CSS Bootstrap ...      True   \n",
       "2  java javascript spring angular react html css ...      True   \n",
       "3   php7 phpunit ajax composer poo psr4 svn doctrine      True   \n",
       "4           Azure Zapier Chat GPT Make Monica Gemini      True   \n",
       "\n",
       "            jornada    contrato    fecha                            ubicacion  \\\n",
       "0  Jornada completa  Indefinido  04/2025         Alcobendas - Madrid - España   \n",
       "1  Jornada completa  Indefinido  04/2025  Hospitalet de Llobregat - Barcelona   \n",
       "2  Jornada completa  Indefinido  04/2025                               Madrid   \n",
       "3  Jornada completa    Temporal  04/2025                        Gzira - Malta   \n",
       "4     Media jornada    Temporal  04/2025                          Teletrabajo   \n",
       "\n",
       "          idiomas                                        descripcion  \\\n",
       "0   Inglés (Alto)  Descripción de la oferta de empleo 7+ years of...   \n",
       "1   Inglés (Alto)  Descripción de la oferta de empleo Mytic Innov...   \n",
       "2   Inglés (Alto)  Descripción de la oferta de empleo ¿Eres una p...   \n",
       "3  Inglés (Medio)  Descripción de la oferta de empleo ¡Únete a nu...   \n",
       "4             NaN  Descripción de la oferta de empleo ¡Únete a nu...   \n",
       "\n",
       "     modalidad    experiencia portal_empleo salario_min salario_max  \\\n",
       "0          NaN  Más de 5 años   tecnoempleo         NaN         NaN   \n",
       "1      Híbrido         2 años   tecnoempleo       27000       33000   \n",
       "2      Híbrido         3 años   tecnoempleo         NaN         NaN   \n",
       "3   Presencial         2 años   tecnoempleo       30000       30000   \n",
       "4  100% remoto          1 año   tecnoempleo       49920       49920   \n",
       "\n",
       "       provincia idiomas_limpios  \n",
       "0         Madrid        [Inglés]  \n",
       "1      Barcelona        [Inglés]  \n",
       "2         Madrid        [Inglés]  \n",
       "3  Gzira - Malta        [Inglés]  \n",
       "4    Teletrabajo            None  "
      ]
     },
     "execution_count": 201,
     "metadata": {},
     "output_type": "execute_result"
    }
   ],
   "source": [
    "df1.head()"
   ]
  },
  {
   "cell_type": "code",
   "execution_count": null,
   "id": "86251d87-e47c-4e5e-bb2c-f0abfe43782d",
   "metadata": {},
   "outputs": [],
   "source": [
    "#'id_urls'--OK\n",
    "#'oferta'--OK\n",
    "#'empresa'--OK (hay 4 NaN)\n",
    "#'funcion'--OK\n",
    "'tecnologias_aptitudes'--Intentar extraer en lista\n",
    "#'estudios'-- OK (transformar en Booleano (True/False))\n",
    "#'jornada'-- OK(pasar diccionario para convertir en Jornada Completa (Intensiva Mañana, Turno rotatorio e Intensiva Tarde))\n",
    "#'contrato' -- OK\n",
    "#'salario'-- OK (separar en dos columnas (min y max) y convertir bruto por hora en bruto anual)\n",
    "#'fecha' -- OK (cambiado a tipo de dato fecha y al formato deseado MM/YYYY)\n",
    "'ubicacion' -- pasar diccionario con provincias (primera opcion), si no pasar diccionario países y si no NaN\n",
    "'idiomas'\n",
    "'descripcion'\n",
    "'modalidad'\n",
    "'experiencia'\n",
    "'portal_empleo'"
   ]
  },
  {
   "cell_type": "code",
   "execution_count": 217,
   "id": "5bbdf3d1-d329-4c06-91a3-dbc6fddeddd9",
   "metadata": {
    "scrolled": true
   },
   "outputs": [
    {
     "data": {
      "text/plain": [
       "array([nan, 'Híbrido', 'Presencial', 'Remoto'], dtype=object)"
      ]
     },
     "execution_count": 217,
     "metadata": {},
     "output_type": "execute_result"
    }
   ],
   "source": [
    "df1[\"modalidad_f\"].unique()"
   ]
  },
  {
   "cell_type": "code",
   "execution_count": 185,
   "id": "c8855df3-c650-4f3a-9729-62210c279da0",
   "metadata": {},
   "outputs": [
    {
     "data": {
      "text/plain": [
       "array([None], dtype=object)"
      ]
     },
     "execution_count": 185,
     "metadata": {},
     "output_type": "execute_result"
    }
   ],
   "source": [
    "df1[\"idiomas_limpios\"].unique()"
   ]
  },
  {
   "cell_type": "code",
   "execution_count": 173,
   "id": "3a724874-f91a-4120-bf67-12cd6f7bb997",
   "metadata": {},
   "outputs": [
    {
     "data": {
      "text/plain": [
       "provincia\n",
       "Madrid          1508\n",
       "Teletrabajo      829\n",
       "Barcelona        550\n",
       "Málaga           203\n",
       "Reino Unido      112\n",
       "                ... \n",
       "Norte Europa       1\n",
       "Rumanía            1\n",
       "London             1\n",
       "Lugo               1\n",
       "Ceuta              1\n",
       "Name: count, Length: 69, dtype: int64"
      ]
     },
     "execution_count": 173,
     "metadata": {},
     "output_type": "execute_result"
    }
   ],
   "source": [
    "df1[\"provincia\"].value_counts(dropna = False)"
   ]
  },
  {
   "cell_type": "code",
   "execution_count": 109,
   "id": "05715a44-589d-47e2-b5ce-78f4791c679c",
   "metadata": {},
   "outputs": [
    {
     "data": {
      "text/plain": [
       "ubicacion\n",
       "Teletrabajo                          829\n",
       "Madrid - España                      722\n",
       "Madrid                               690\n",
       "Barcelona                            265\n",
       "Barcelona - España                   244\n",
       "                                    ... \n",
       "Melilla                                1\n",
       "Chiva - Valencia - España              1\n",
       "Las Palmas De Gran Canaria España      1\n",
       "Leeds - Yorkshire - Reino Unido        1\n",
       "Alcobendas - Madrid - España           1\n",
       "Name: count, Length: 310, dtype: int64"
      ]
     },
     "execution_count": 109,
     "metadata": {},
     "output_type": "execute_result"
    }
   ],
   "source": [
    "df1[\"ubicacion\"].value_counts()"
   ]
  },
  {
   "cell_type": "code",
   "execution_count": 105,
   "id": "93ed3855-636d-48d3-8ee7-baf795a65eb3",
   "metadata": {},
   "outputs": [
    {
     "data": {
      "text/plain": [
       "3995"
      ]
     },
     "execution_count": 105,
     "metadata": {},
     "output_type": "execute_result"
    }
   ],
   "source": [
    "df1[\"provincia\"].shape[0]"
   ]
  },
  {
   "cell_type": "code",
   "execution_count": 97,
   "id": "92948b6c-1489-4c19-95ae-b65732a81a69",
   "metadata": {},
   "outputs": [
    {
     "data": {
      "text/html": [
       "<div>\n",
       "<style scoped>\n",
       "    .dataframe tbody tr th:only-of-type {\n",
       "        vertical-align: middle;\n",
       "    }\n",
       "\n",
       "    .dataframe tbody tr th {\n",
       "        vertical-align: top;\n",
       "    }\n",
       "\n",
       "    .dataframe thead th {\n",
       "        text-align: right;\n",
       "    }\n",
       "</style>\n",
       "<table border=\"1\" class=\"dataframe\">\n",
       "  <thead>\n",
       "    <tr style=\"text-align: right;\">\n",
       "      <th></th>\n",
       "      <th>id_urls</th>\n",
       "      <th>oferta</th>\n",
       "      <th>empresa</th>\n",
       "      <th>funcion</th>\n",
       "      <th>tecnologias_aptitudes</th>\n",
       "      <th>estudios</th>\n",
       "      <th>jornada</th>\n",
       "      <th>contrato</th>\n",
       "      <th>fecha</th>\n",
       "      <th>ubicacion</th>\n",
       "      <th>idiomas</th>\n",
       "      <th>descripcion</th>\n",
       "      <th>modalidad</th>\n",
       "      <th>experiencia</th>\n",
       "      <th>portal_empleo</th>\n",
       "      <th>salario_min</th>\n",
       "      <th>salario_max</th>\n",
       "      <th>provincia</th>\n",
       "    </tr>\n",
       "  </thead>\n",
       "  <tbody>\n",
       "    <tr>\n",
       "      <th>0</th>\n",
       "      <td>https://www.tecnoempleo.com/software-engineeri...</td>\n",
       "      <td>Software Engineering Manager</td>\n",
       "      <td>Solera</td>\n",
       "      <td>Analista Programador</td>\n",
       "      <td>Java REST API Git CI/CD Hibernate Docker Cloud...</td>\n",
       "      <td>True</td>\n",
       "      <td>Jornada completa</td>\n",
       "      <td>Indefinido</td>\n",
       "      <td>04/2025</td>\n",
       "      <td>Alcobendas - Madrid - España</td>\n",
       "      <td>Inglés (Alto)</td>\n",
       "      <td>Descripción de la oferta de empleo 7+ years of...</td>\n",
       "      <td>NaN</td>\n",
       "      <td>Más de 5 años</td>\n",
       "      <td>tecnoempleo</td>\n",
       "      <td>NaN</td>\n",
       "      <td>NaN</td>\n",
       "      <td>Madrid</td>\n",
       "    </tr>\n",
       "    <tr>\n",
       "      <th>1</th>\n",
       "      <td>https://www.tecnoempleo.com/front-developer-se...</td>\n",
       "      <td>Front Developer Senior</td>\n",
       "      <td>Mytic Innova</td>\n",
       "      <td>Analista Programador</td>\n",
       "      <td>Java Angular SQL SCRUM Git Html CSS Bootstrap ...</td>\n",
       "      <td>True</td>\n",
       "      <td>Jornada completa</td>\n",
       "      <td>Indefinido</td>\n",
       "      <td>04/2025</td>\n",
       "      <td>Hospitalet de Llobregat - Barcelona</td>\n",
       "      <td>Inglés (Alto)</td>\n",
       "      <td>Descripción de la oferta de empleo Mytic Innov...</td>\n",
       "      <td>Híbrido</td>\n",
       "      <td>2 años</td>\n",
       "      <td>tecnoempleo</td>\n",
       "      <td>27000</td>\n",
       "      <td>33000</td>\n",
       "      <td>Barcelona</td>\n",
       "    </tr>\n",
       "    <tr>\n",
       "      <th>2</th>\n",
       "      <td>https://www.tecnoempleo.com/programador-fullst...</td>\n",
       "      <td>Programador FullStack</td>\n",
       "      <td>Dev&amp;del</td>\n",
       "      <td>Analista Programador</td>\n",
       "      <td>java javascript spring angular react html css ...</td>\n",
       "      <td>True</td>\n",
       "      <td>Jornada completa</td>\n",
       "      <td>Indefinido</td>\n",
       "      <td>04/2025</td>\n",
       "      <td>Madrid</td>\n",
       "      <td>Inglés (Alto)</td>\n",
       "      <td>Descripción de la oferta de empleo ¿Eres una p...</td>\n",
       "      <td>Híbrido</td>\n",
       "      <td>3 años</td>\n",
       "      <td>tecnoempleo</td>\n",
       "      <td>NaN</td>\n",
       "      <td>NaN</td>\n",
       "      <td>Madrid</td>\n",
       "    </tr>\n",
       "    <tr>\n",
       "      <th>3</th>\n",
       "      <td>https://www.tecnoempleo.com/analista-programad...</td>\n",
       "      <td>Analista Programador en PHP</td>\n",
       "      <td>Codicert</td>\n",
       "      <td>Programador</td>\n",
       "      <td>php7 phpunit ajax composer poo psr4 svn doctrine</td>\n",
       "      <td>True</td>\n",
       "      <td>Jornada completa</td>\n",
       "      <td>Temporal</td>\n",
       "      <td>04/2025</td>\n",
       "      <td>Gzira - Malta</td>\n",
       "      <td>Inglés (Medio)</td>\n",
       "      <td>Descripción de la oferta de empleo ¡Únete a nu...</td>\n",
       "      <td>Presencial</td>\n",
       "      <td>2 años</td>\n",
       "      <td>tecnoempleo</td>\n",
       "      <td>30000</td>\n",
       "      <td>30000</td>\n",
       "      <td>Malta</td>\n",
       "    </tr>\n",
       "    <tr>\n",
       "      <th>4</th>\n",
       "      <td>https://www.tecnoempleo.com/docente-online-int...</td>\n",
       "      <td>Docente online Inteligencia Artificial</td>\n",
       "      <td>EIP Escuela Internacional Posgrados</td>\n",
       "      <td>Formador</td>\n",
       "      <td>Azure Zapier Chat GPT Make Monica Gemini</td>\n",
       "      <td>True</td>\n",
       "      <td>Media jornada</td>\n",
       "      <td>Temporal</td>\n",
       "      <td>04/2025</td>\n",
       "      <td>Teletrabajo</td>\n",
       "      <td>NaN</td>\n",
       "      <td>Descripción de la oferta de empleo ¡Únete a nu...</td>\n",
       "      <td>100% remoto</td>\n",
       "      <td>1 año</td>\n",
       "      <td>tecnoempleo</td>\n",
       "      <td>49920</td>\n",
       "      <td>49920</td>\n",
       "      <td>Teletrabajo</td>\n",
       "    </tr>\n",
       "  </tbody>\n",
       "</table>\n",
       "</div>"
      ],
      "text/plain": [
       "                                             id_urls  \\\n",
       "0  https://www.tecnoempleo.com/software-engineeri...   \n",
       "1  https://www.tecnoempleo.com/front-developer-se...   \n",
       "2  https://www.tecnoempleo.com/programador-fullst...   \n",
       "3  https://www.tecnoempleo.com/analista-programad...   \n",
       "4  https://www.tecnoempleo.com/docente-online-int...   \n",
       "\n",
       "                                   oferta  \\\n",
       "0            Software Engineering Manager   \n",
       "1                  Front Developer Senior   \n",
       "2                   Programador FullStack   \n",
       "3             Analista Programador en PHP   \n",
       "4  Docente online Inteligencia Artificial   \n",
       "\n",
       "                               empresa               funcion  \\\n",
       "0                               Solera  Analista Programador   \n",
       "1                         Mytic Innova  Analista Programador   \n",
       "2                              Dev&del  Analista Programador   \n",
       "3                             Codicert           Programador   \n",
       "4  EIP Escuela Internacional Posgrados              Formador   \n",
       "\n",
       "                               tecnologias_aptitudes  estudios  \\\n",
       "0  Java REST API Git CI/CD Hibernate Docker Cloud...      True   \n",
       "1  Java Angular SQL SCRUM Git Html CSS Bootstrap ...      True   \n",
       "2  java javascript spring angular react html css ...      True   \n",
       "3   php7 phpunit ajax composer poo psr4 svn doctrine      True   \n",
       "4           Azure Zapier Chat GPT Make Monica Gemini      True   \n",
       "\n",
       "            jornada    contrato    fecha                            ubicacion  \\\n",
       "0  Jornada completa  Indefinido  04/2025         Alcobendas - Madrid - España   \n",
       "1  Jornada completa  Indefinido  04/2025  Hospitalet de Llobregat - Barcelona   \n",
       "2  Jornada completa  Indefinido  04/2025                               Madrid   \n",
       "3  Jornada completa    Temporal  04/2025                        Gzira - Malta   \n",
       "4     Media jornada    Temporal  04/2025                          Teletrabajo   \n",
       "\n",
       "          idiomas                                        descripcion  \\\n",
       "0   Inglés (Alto)  Descripción de la oferta de empleo 7+ years of...   \n",
       "1   Inglés (Alto)  Descripción de la oferta de empleo Mytic Innov...   \n",
       "2   Inglés (Alto)  Descripción de la oferta de empleo ¿Eres una p...   \n",
       "3  Inglés (Medio)  Descripción de la oferta de empleo ¡Únete a nu...   \n",
       "4             NaN  Descripción de la oferta de empleo ¡Únete a nu...   \n",
       "\n",
       "     modalidad    experiencia portal_empleo salario_min salario_max  \\\n",
       "0          NaN  Más de 5 años   tecnoempleo         NaN         NaN   \n",
       "1      Híbrido         2 años   tecnoempleo       27000       33000   \n",
       "2      Híbrido         3 años   tecnoempleo         NaN         NaN   \n",
       "3   Presencial         2 años   tecnoempleo       30000       30000   \n",
       "4  100% remoto          1 año   tecnoempleo       49920       49920   \n",
       "\n",
       "     provincia  \n",
       "0       Madrid  \n",
       "1    Barcelona  \n",
       "2       Madrid  \n",
       "3        Malta  \n",
       "4  Teletrabajo  "
      ]
     },
     "execution_count": 97,
     "metadata": {},
     "output_type": "execute_result"
    }
   ],
   "source": [
    "df1.head()"
   ]
  },
  {
   "cell_type": "code",
   "execution_count": 39,
   "id": "860b2f41-4885-4868-b077-c661231baa1e",
   "metadata": {},
   "outputs": [
    {
     "data": {
      "text/plain": [
       "Index(['id_urls', 'oferta', 'empresa', 'funcion', 'tecnologias_aptitudes',\n",
       "       'estudios', 'jornada', 'contrato', 'salario', 'fecha', 'ubicacion',\n",
       "       'idiomas', 'descripcion', 'modalidad', 'experiencia', 'portal_empleo'],\n",
       "      dtype='object')"
      ]
     },
     "execution_count": 39,
     "metadata": {},
     "output_type": "execute_result"
    }
   ],
   "source": [
    "df1.columns"
   ]
  },
  {
   "cell_type": "code",
   "execution_count": 37,
   "id": "bc09d285-cfe0-4c76-88b9-d5ccb703763f",
   "metadata": {},
   "outputs": [
    {
     "data": {
      "text/plain": [
       "'Java REST API Git CI/CD Hibernate Docker Cloud AWS Azure GCP'"
      ]
     },
     "execution_count": 37,
     "metadata": {},
     "output_type": "execute_result"
    }
   ],
   "source": [
    "df1[\"tecnologias_aptitudes\"][0]"
   ]
  },
  {
   "cell_type": "code",
   "execution_count": 77,
   "id": "7214295b-016c-4995-90d1-879f11912302",
   "metadata": {},
   "outputs": [
    {
     "data": {
      "text/plain": [
       "estudios\n",
       "False    2697\n",
       "True     1298\n",
       "Name: count, dtype: int64"
      ]
     },
     "execution_count": 77,
     "metadata": {},
     "output_type": "execute_result"
    }
   ],
   "source": [
    "df1[\"estudios\"].value_counts()"
   ]
  },
  {
   "cell_type": "code",
   "execution_count": 67,
   "id": "53176b28-87b6-4fa3-a074-e2151c124f9f",
   "metadata": {},
   "outputs": [
    {
     "data": {
      "text/plain": [
       "jornada\n",
       "Jornada completa    3976\n",
       "Media jornada         13\n",
       "Por horas              6\n",
       "Name: count, dtype: int64"
      ]
     },
     "execution_count": 67,
     "metadata": {},
     "output_type": "execute_result"
    }
   ],
   "source": [
    "df1[\"jornada\"].value_counts(dropna = False)"
   ]
  },
  {
   "cell_type": "code",
   "execution_count": 69,
   "id": "9a6b003d-5977-4757-810c-a8b5c0fd5b11",
   "metadata": {},
   "outputs": [
    {
     "data": {
      "text/plain": [
       "contrato\n",
       "Indefinido            3820\n",
       "Freelance/Autónomo      53\n",
       "A determinar            50\n",
       "Prácticas               34\n",
       "Temporal                30\n",
       "Obra o servicio          8\n",
       "Name: count, dtype: int64"
      ]
     },
     "execution_count": 69,
     "metadata": {},
     "output_type": "execute_result"
    }
   ],
   "source": [
    "df1[\"contrato\"].value_counts(dropna = False)"
   ]
  },
  {
   "cell_type": "code",
   "execution_count": 65,
   "id": "c54ea132-f972-42bf-b84c-766685ce9d27",
   "metadata": {},
   "outputs": [
    {
     "data": {
      "text/plain": [
       "salario\n",
       "NaN            3260\n",
       "30000 36000      33\n",
       "39000 45000      32\n",
       "45000 54000      28\n",
       "54000 60000      27\n",
       "               ... \n",
       "24 30             1\n",
       "60000 86000       1\n",
       "48000 76000       1\n",
       "60000 74000       1\n",
       "21000 21000       1\n",
       "Name: count, Length: 130, dtype: int64"
      ]
     },
     "execution_count": 65,
     "metadata": {},
     "output_type": "execute_result"
    }
   ],
   "source": [
    "df1[\"salario\"].value_counts(dropna = False)"
   ]
  }
 ],
 "metadata": {
  "kernelspec": {
   "display_name": "Python [conda env:base] *",
   "language": "python",
   "name": "conda-base-py"
  },
  "language_info": {
   "codemirror_mode": {
    "name": "ipython",
    "version": 3
   },
   "file_extension": ".py",
   "mimetype": "text/x-python",
   "name": "python",
   "nbconvert_exporter": "python",
   "pygments_lexer": "ipython3",
   "version": "3.12.7"
  }
 },
 "nbformat": 4,
 "nbformat_minor": 5
}
