{
 "cells": [
  {
   "cell_type": "code",
   "execution_count": 1,
   "id": "a2039ca3-0996-4820-b4e3-15b31672b25c",
   "metadata": {},
   "outputs": [],
   "source": [
    "import numpy as np\n",
    "import pandas as pd\n",
    "import requests\n",
    "from bs4 import BeautifulSoup\n",
    "import os\n",
    "\n",
    "import selenium\n",
    "\n",
    "from selenium import webdriver\n",
    "from selenium.webdriver.common.by import By\n",
    "\n",
    "import time\n",
    "from time import sleep"
   ]
  },
  {
   "cell_type": "code",
   "execution_count": 2,
   "id": "ad24f180-3446-4a9c-b476-03b61b439050",
   "metadata": {},
   "outputs": [
    {
     "data": {
      "text/plain": [
       "200"
      ]
     },
     "execution_count": 2,
     "metadata": {},
     "output_type": "execute_result"
    }
   ],
   "source": [
    "url = 'https://www.getmanfred.com/ofertas-empleo?onlyActive=true&currency=%E2%82%AC'\n",
    "\n",
    "response = requests.get(url)\n",
    "soup = BeautifulSoup(response.text, \"html.parser\")\n",
    "response.status_code"
   ]
  },
  {
   "cell_type": "code",
   "execution_count": 3,
   "id": "fb44214c-7821-48d5-aa01-eb2bb8ea3bdf",
   "metadata": {},
   "outputs": [],
   "source": [
    "chrome_driver = \"chromedriver.exe\"\n",
    "\n",
    "# Inicializa el navegador\n",
    "driver = webdriver.Chrome()\n",
    "\n",
    "# Navega a la página objetivo\n",
    "driver.get(url)\n",
    "\n",
    "# Maximizar la página\n",
    "driver.maximize_window()"
   ]
  },
  {
   "cell_type": "code",
   "execution_count": 4,
   "id": "d24aa16c-20e9-42da-81b4-1aabf757cc03",
   "metadata": {},
   "outputs": [],
   "source": [
    "sleep (5)"
   ]
  },
  {
   "cell_type": "code",
   "execution_count": 5,
   "id": "f4825e48-d8ee-4cbf-a0ba-5528e39b50cb",
   "metadata": {},
   "outputs": [],
   "source": [
    "#Aceptar cookies\n",
    "driver.find_element(by = By.CSS_SELECTOR, value = \"#CybotCookiebotDialogBodyButtonAccept\").click()"
   ]
  },
  {
   "cell_type": "code",
   "execution_count": 6,
   "id": "c834ad55-7f77-42a7-a676-3a6f039d4c64",
   "metadata": {},
   "outputs": [],
   "source": [
    "#Desactivar opción solo ofertas activas\n",
    "driver.find_element(by = By.CSS_SELECTOR, value = \"#activeOffers\").click()"
   ]
  },
  {
   "cell_type": "code",
   "execution_count": 7,
   "id": "91371d24-91c2-4e34-942c-e00f6ceeea7a",
   "metadata": {},
   "outputs": [],
   "source": [
    "#La página necesita tiempo para actualizarse\n",
    "sleep(30)"
   ]
  },
  {
   "cell_type": "code",
   "execution_count": 8,
   "id": "c3aacb03-cdcb-4871-a170-699736f90173",
   "metadata": {},
   "outputs": [],
   "source": [
    "#Obtenemos todas las urls de las ofertas\n",
    "urls = [f\"https://www.getmanfred.com{x.find(\"a\")[\"href\"]}\" for x in BeautifulSoup(driver.page_source, \"html.parser\").find_all(\"div\", class_ = 'react-reveal')]"
   ]
  },
  {
   "cell_type": "code",
   "execution_count": 9,
   "id": "9fbc09ec-1756-4bff-9ee4-169a200a2c98",
   "metadata": {},
   "outputs": [
    {
     "data": {
      "text/plain": [
       "1279"
      ]
     },
     "execution_count": 9,
     "metadata": {},
     "output_type": "execute_result"
    }
   ],
   "source": [
    "#Comprobamos el número de urls\n",
    "len(urls)"
   ]
  },
  {
   "cell_type": "code",
   "execution_count": 11,
   "id": "46d5015a-0c60-4b0a-a92c-1cf05fd016b7",
   "metadata": {},
   "outputs": [],
   "source": [
    "# Generamos el df con las urls y lo guardamos en un excel\n",
    "df = pd.DataFrame()\n",
    "df[\"URLS\"] = urls\n",
    "df.to_excel(\"urls_MANFRED.xlsx\", index = False)"
   ]
  }
 ],
 "metadata": {
  "kernelspec": {
   "display_name": "Python 3 (ipykernel)",
   "language": "python",
   "name": "python3"
  },
  "language_info": {
   "codemirror_mode": {
    "name": "ipython",
    "version": 3
   },
   "file_extension": ".py",
   "mimetype": "text/x-python",
   "name": "python",
   "nbconvert_exporter": "python",
   "pygments_lexer": "ipython3",
   "version": "3.12.7"
  }
 },
 "nbformat": 4,
 "nbformat_minor": 5
}
