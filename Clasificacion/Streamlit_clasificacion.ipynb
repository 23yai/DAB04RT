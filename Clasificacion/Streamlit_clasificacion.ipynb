{
 "cells": [
  {
   "cell_type": "code",
   "execution_count": null,
   "id": "ddf5617c-3bb5-4fb1-8c71-9711352b6063",
   "metadata": {},
   "outputs": [],
   "source": [
    "import streamlit as st\n",
    "import pandas as pd\n",
    "import joblib"
   ]
  },
  {
   "cell_type": "code",
   "execution_count": null,
   "id": "6c1e1ff1-ab58-41b5-8fb5-3d2b96c3fb93",
   "metadata": {},
   "outputs": [],
   "source": [
    "modelo = joblib.load('modelo.pkl')\n",
    "escalador = joblib.load('escalador.pkl')"
   ]
  },
  {
   "cell_type": "code",
   "execution_count": null,
   "id": "34bcc9d6-19c5-428b-9541-c45ef524cd5a",
   "metadata": {},
   "outputs": [],
   "source": [
    "# Interfaz\n",
    "st.title(\"Clasificador de Ofertas de Empleo\")\n",
    "\n",
    "st.markdown(\"Introduce los datos de una nueva oferta para clasificarla:\")"
   ]
  },
  {
   "cell_type": "code",
   "execution_count": null,
   "id": "a045b186-c847-49b6-afa4-e808dfe46d41",
   "metadata": {},
   "outputs": [],
   "source": [
    "nueva_fila = pd.DataFrame([[\n",
    "    estudios,\n",
    "    experiencia,\n",
    "    skills,\n",
    "    tecnologias,\n",
    "    vacaciones,\n",
    "    beneficios,\n",
    "    salario\n",
    "]], columns=[\n",
    "    'estudios', 'experiencia', 'skills', 'tecnologias_aptitudes',\n",
    "    'vacaciones', 'beneficios', 'salario_medio'\n",
    "])"
   ]
  },
  {
   "cell_type": "code",
   "execution_count": null,
   "id": "d4cfa54a-63ba-4cd1-9cef-4bcc3ad1e773",
   "metadata": {},
   "outputs": [],
   "source": [
    "st.subheader(\"Oferta introducida\")\n",
    "st.dataframe(nueva_fila)"
   ]
  },
  {
   "cell_type": "code",
   "execution_count": null,
   "id": "119d1762-8290-4a4b-bfee-13af6af19b3b",
   "metadata": {},
   "outputs": [],
   "source": [
    "fila_escalada = escalador.transform(nueva_fila)\n",
    "pred = modelo.predict(fila_escalada)[0]\n",
    "proba = modelo.predict_proba(fila_escalada)"
   ]
  },
  {
   "cell_type": "code",
   "execution_count": null,
   "id": "9282167f-7987-4bd5-bc17-b6cfa098267f",
   "metadata": {},
   "outputs": [],
   "source": [
    "st.subheader(\"Resultado de la Clasificación\")\n",
    "st.markdown(f\"**Grupo (cluster) asignado:** {pred}\")"
   ]
  },
  {
   "cell_type": "code",
   "execution_count": null,
   "id": "33658dca-2d9f-42ef-a4f8-620ecfc39b32",
   "metadata": {},
   "outputs": [],
   "source": [
    "st.subheader(\"Probabilidades por Grupo\")\n",
    "proba_df = pd.DataFrame(proba, columns=[f'Grupo {i}' for i in range(proba.shape[1])])\n",
    "st.dataframe(proba_df.T.rename(columns={0: 'Probabilidad'}).style.format({'Probabilidad': '{:.2%}'}))"
   ]
  },
  {
   "cell_type": "code",
   "execution_count": null,
   "id": "981f0d30-2013-41da-9909-1ddba30974d3",
   "metadata": {},
   "outputs": [],
   "source": [
    "streamlit run app.py"
   ]
  }
 ],
 "metadata": {
  "kernelspec": {
   "display_name": "Python [conda env:base] *",
   "language": "python",
   "name": "conda-base-py"
  },
  "language_info": {
   "codemirror_mode": {
    "name": "ipython",
    "version": 3
   },
   "file_extension": ".py",
   "mimetype": "text/x-python",
   "name": "python",
   "nbconvert_exporter": "python",
   "pygments_lexer": "ipython3",
   "version": "3.12.7"
  }
 },
 "nbformat": 4,
 "nbformat_minor": 5
}
