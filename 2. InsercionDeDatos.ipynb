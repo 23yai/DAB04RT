{
 "cells": [
  {
   "cell_type": "code",
   "execution_count": 1,
   "id": "0d3c6d4f-f859-43cc-8e3e-fe609c1750fb",
   "metadata": {},
   "outputs": [],
   "source": [
    "import pandas as pd\n",
    "\n",
    "import mysql\n",
    "import mysql.connector"
   ]
  },
  {
   "cell_type": "code",
   "execution_count": 3,
   "id": "8bb8d48a-ae4b-4429-ba43-3b3b92e383bc",
   "metadata": {},
   "outputs": [],
   "source": [
    "db = mysql.connector.connect(host     = \"localhost\",\n",
    "                             user     = \"root\",\n",
    "                             password = \"contraseña1234\",\n",
    "                             database = \"ofertas_empleo\")\n",
    "cursor = db.cursor()"
   ]
  },
  {
   "cell_type": "code",
   "execution_count": null,
   "id": "de0addc1-e06f-4e78-bf32-b3cc81a6709f",
   "metadata": {},
   "outputs": [],
   "source": [
    "def insert_to_table(data, table, database, auto_increment, host = \"localhost\", user = \"root\", password = \"contraseña1234\"):\n",
    "    \n",
    "    db = mysql.connector.connect(host     = host,\n",
    "                                 user     = user,\n",
    "                                 password = password,\n",
    "                                 database = database)\n",
    "    cursor = db.cursor()\n",
    "\n",
    "   cursor.execute(f\"SELECT * FROM {table} LIMIT 0;\")\n",
    "    if auto_increment:\n",
    "        column_names = cursor.column_names[1:]\n",
    "    else:\n",
    "        column_names = cursor.column_names\n",
    "    cursor.fetchall()\n",
    "\n",
    "    \n",
    "    insert_query = f\"INSERT INTO {table} ({', '.join(column_names)}) VALUES ({', '.join(['%s' for _ in column_names])})\".replace(\"'\", \"\")\n",
    "    values = [tuple(row) for row in data]\n",
    "\n",
    "    # .executemany ejecuta el query de INSERT INTO con cada uno de los elementos de \"values\"\n",
    "    cursor.executemany(insert_query, values)\n",
    "    \n",
    "    # Guarda los resultados\n",
    "    db.commit()\n",
    "\n",
    "    print(f\"Añadidas: {cursor.rowcount} filas\")\n",
    "\n",
    "    cursor.fetchall() # Vaciamos el cursor\n",
    "    cursor.close()\n",
    "    db.close()"
   ]
  },
  {
   "cell_type": "code",
   "execution_count": null,
   "id": "8b7a4974-6986-43b7-874f-51f232202dce",
   "metadata": {},
   "outputs": [],
   "source": [
    "database = \"ofertas_empleo\"\n",
    "\n",
    "#tablas CON autoincrement: empresa, ubicacion, modalidad, jornada, contrato, portal_empleo, skills, tecnologias_aptitudes, idiomas, beneficios\n",
    "tablas_dataframes_auto = {\"empresa\": df_empresa,\n",
    "                          \"ubicacion\": df_ubicacion,\n",
    "                          \"modalidad\": df_modalidad,\n",
    "                          \"jornada\": df_jornada\n",
    "                          \"contrato\": df_contrato\n",
    "                          \"portal_empleo\": df_portal_empleo,\n",
    "                          \"skills\": df_skills,\n",
    "                          \"tecnologias_aptitudes\": df_tecnologias_aptitudes,\n",
    "                          \"idiomas\": df_idiomas,\n",
    "                          \"beneficios\": df_beneficios                \n",
    "                         }\n",
    "\n",
    "#tablas SIN autoincrement:\n",
    "tablas_dataframes = {\"ofertas\": df_ofertas,\n",
    "                    \"oferta_tecnologia\": df_oferta_tecnologia,\n",
    "                    \"oferta_skill\": df_oferta_skill,\n",
    "                    \"oferta_idioma\": df_oferta_idioma,\n",
    "                    \"oferta_beneficio\": df_oferta_beneficio\n",
    "                    }\n",
    "\n",
    "\n",
    "for tabla, df in tablas_dataframes_auto.items():\n",
    "    insert_to_table(df, table=tabla, database=database)\n",
    "\n",
    "for tabla, df in tablas_dataframes.items():\n",
    "    insert_to_table(df, table=tabla, database=database)"
   ]
  },
  {
   "cell_type": "code",
   "execution_count": null,
   "id": "59597f8d-1cbb-4841-a5f0-12ca1983a5b2",
   "metadata": {},
   "outputs": [],
   "source": []
  }
 ],
 "metadata": {
  "kernelspec": {
   "display_name": "Python 3 (ipykernel)",
   "language": "python",
   "name": "python3"
  },
  "language_info": {
   "codemirror_mode": {
    "name": "ipython",
    "version": 3
   },
   "file_extension": ".py",
   "mimetype": "text/x-python",
   "name": "python",
   "nbconvert_exporter": "python",
   "pygments_lexer": "ipython3",
   "version": "3.12.7"
  }
 },
 "nbformat": 4,
 "nbformat_minor": 5
}
