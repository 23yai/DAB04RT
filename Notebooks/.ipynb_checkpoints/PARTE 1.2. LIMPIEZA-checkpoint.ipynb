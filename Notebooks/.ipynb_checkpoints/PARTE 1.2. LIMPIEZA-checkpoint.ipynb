{
 "cells": [
  {
   "cell_type": "markdown",
   "id": "e05b17cd-6808-4a92-adbc-58819df92de3",
   "metadata": {},
   "source": [
    "# LIMPIEZA\n",
    "### 1. Importación librerias\n",
    "### 2. Carga archivos de extracción de datos\n",
    "### 3.1. Limpieza Manfred\n",
    "### 3.2. Limpieza Tecnoempleo\n",
    "### 4. Guardado dataframes limpios\n",
    "### 5. Concatenación dataframes\n",
    "### 6. Limpieza columna \"tecnologias_aptitudes\"\n",
    "### 7. Llenado columnas a partir de descripción\n",
    "### 8. Reemplazo NaN por None y tipo de dato\n",
    "### 9. Guardado dataframe limpio"
   ]
  },
  {
   "cell_type": "markdown",
   "id": "42cbeeae-354c-4d4e-9769-42c3b5c8ab6a",
   "metadata": {},
   "source": [
    "# 1. IMPORTACIÓN LIBRERIAS"
   ]
  },
  {
   "cell_type": "code",
   "execution_count": 2,
   "id": "7cac76c1-8af3-47e4-9bae-039664027129",
   "metadata": {},
   "outputs": [],
   "source": [
    "import pandas as pd\n",
    "import numpy as np\n",
    "import ast"
   ]
  },
  {
   "cell_type": "markdown",
   "id": "01fdb98c-a6b4-4909-a750-abf2ff820da7",
   "metadata": {},
   "source": [
    "# 2. CARGA ARCHIVOS DE EXTRACCIÓN DE DATOS"
   ]
  },
  {
   "cell_type": "code",
   "execution_count": 4,
   "id": "e37afbec-cdcc-468a-8108-7bafd681d3cf",
   "metadata": {},
   "outputs": [],
   "source": [
    "df1 = pd.read_excel(\"../csv/PARTE_1_1_Tecnoempleo_f.xls\") #DataFrame TecnoEmpleo"
   ]
  },
  {
   "cell_type": "code",
   "execution_count": 5,
   "id": "66ee5563-3531-4a36-b7b3-7fdf6ad7e11d",
   "metadata": {},
   "outputs": [],
   "source": [
    "df2 = pd.read_csv(\"../csv/PARTE_1_1_extraccion_manfred.csv\") #DataFrame Manfred"
   ]
  },
  {
   "cell_type": "markdown",
   "id": "09b9b709-fe98-480c-85b3-dc6b10d8a603",
   "metadata": {},
   "source": [
    "# 3.1. LIMPIEZA MANFRED"
   ]
  },
  {
   "cell_type": "code",
   "execution_count": 7,
   "id": "0cbaac32-0ace-48b6-9040-2c08fc747f78",
   "metadata": {},
   "outputs": [
    {
     "data": {
      "text/html": [
       "<div>\n",
       "<style scoped>\n",
       "    .dataframe tbody tr th:only-of-type {\n",
       "        vertical-align: middle;\n",
       "    }\n",
       "\n",
       "    .dataframe tbody tr th {\n",
       "        vertical-align: top;\n",
       "    }\n",
       "\n",
       "    .dataframe thead th {\n",
       "        text-align: right;\n",
       "    }\n",
       "</style>\n",
       "<table border=\"1\" class=\"dataframe\">\n",
       "  <thead>\n",
       "    <tr style=\"text-align: right;\">\n",
       "      <th></th>\n",
       "      <th>url</th>\n",
       "      <th>nombre</th>\n",
       "      <th>oferta</th>\n",
       "      <th>fecha</th>\n",
       "      <th>fecha_extraccion</th>\n",
       "      <th>salario</th>\n",
       "      <th>remoto</th>\n",
       "      <th>localizacion</th>\n",
       "      <th>teletrabajo</th>\n",
       "      <th>dia_laborable</th>\n",
       "      <th>vacaciones</th>\n",
       "      <th>Tecnologías</th>\n",
       "      <th>Otras habilidades</th>\n",
       "      <th>Idiomas</th>\n",
       "      <th>textos</th>\n",
       "      <th>Beneficios</th>\n",
       "    </tr>\n",
       "  </thead>\n",
       "  <tbody>\n",
       "    <tr>\n",
       "      <th>0</th>\n",
       "      <td>https://www.getmanfred.com/ofertas-empleo/7684...</td>\n",
       "      <td>SuperReal</td>\n",
       "      <td>Tech Lead (Nodejs)</td>\n",
       "      <td>abr25</td>\n",
       "      <td>2025-04-19 21:03:16.572525</td>\n",
       "      <td>€50-60K</td>\n",
       "      <td>False</td>\n",
       "      <td>Madrid</td>\n",
       "      <td>20%</td>\n",
       "      <td>Jornada completa</td>\n",
       "      <td>25 días</td>\n",
       "      <td>['NodeJS', 'REST', 'TypeScript', 'Azure']</td>\n",
       "      <td>['Trabajo en equipo', 'Pensamiento analítico',...</td>\n",
       "      <td>['Inglés']</td>\n",
       "      <td>¿Cómo lo harás?SuperReal tiene el tamaño de un...</td>\n",
       "      <td>NaN</td>\n",
       "    </tr>\n",
       "    <tr>\n",
       "      <th>1</th>\n",
       "      <td>https://www.getmanfred.com/ofertas-empleo/7648...</td>\n",
       "      <td>Sngular</td>\n",
       "      <td>JS Fullstack Developer</td>\n",
       "      <td>abr25</td>\n",
       "      <td>2025-04-19 21:03:18.020427</td>\n",
       "      <td>€35-42K</td>\n",
       "      <td>True</td>\n",
       "      <td>NaN</td>\n",
       "      <td>100%</td>\n",
       "      <td>Jornada completa</td>\n",
       "      <td>25 días</td>\n",
       "      <td>['NodeJS', 'REST', 'MongoDB', 'SQL', 'React', ...</td>\n",
       "      <td>['Adaptabilidad al cambio', 'Trabajo en equipo...</td>\n",
       "      <td>['Inglés']</td>\n",
       "      <td>¿Cómo lo harás?Déjame que te describa la quint...</td>\n",
       "      <td>['Clases de Idiomas', 'Posibilidad de elegir e...</td>\n",
       "    </tr>\n",
       "    <tr>\n",
       "      <th>2</th>\n",
       "      <td>https://www.getmanfred.com/ofertas-empleo/7546...</td>\n",
       "      <td>Idealista</td>\n",
       "      <td>UX Product Designer</td>\n",
       "      <td>abr25</td>\n",
       "      <td>2025-04-19 21:03:19.546091</td>\n",
       "      <td>Hasta €55K</td>\n",
       "      <td>False</td>\n",
       "      <td>Madrid</td>\n",
       "      <td>60%</td>\n",
       "      <td>Jornada completa</td>\n",
       "      <td>23 días</td>\n",
       "      <td>['Figma']</td>\n",
       "      <td>['Visión crítica', 'Capacidad de abstracción',...</td>\n",
       "      <td>['Inglés']</td>\n",
       "      <td>¿Cómo lo harás?Es una organización muy plana, ...</td>\n",
       "      <td>['Clases de Idiomas', 'Café, fruta y snacks', ...</td>\n",
       "    </tr>\n",
       "    <tr>\n",
       "      <th>3</th>\n",
       "      <td>https://www.getmanfred.com/ofertas-empleo/7511...</td>\n",
       "      <td>Valar Space</td>\n",
       "      <td>Java Backend Developer</td>\n",
       "      <td>mar25</td>\n",
       "      <td>2025-04-19 21:03:21.054967</td>\n",
       "      <td>€35-40K</td>\n",
       "      <td>True</td>\n",
       "      <td>NaN</td>\n",
       "      <td>100%</td>\n",
       "      <td>Jornada completa</td>\n",
       "      <td>22 días</td>\n",
       "      <td>['Java', 'Spring', 'Hibernate', 'Github', 'API...</td>\n",
       "      <td>['Atención al detalle', 'Capacidad de dar feed...</td>\n",
       "      <td>['Español', 'Inglés']</td>\n",
       "      <td>¿Cómo lo harás?Tu día empezará revisando Linea...</td>\n",
       "      <td>['Cheque Guardería', 'Presupuesto para formaci...</td>\n",
       "    </tr>\n",
       "    <tr>\n",
       "      <th>4</th>\n",
       "      <td>https://www.getmanfred.com/ofertas-empleo/7406...</td>\n",
       "      <td>MavelPoint</td>\n",
       "      <td>Senior Frontend Developer</td>\n",
       "      <td>mar25</td>\n",
       "      <td>2025-04-19 21:03:22.551202</td>\n",
       "      <td>Hasta €55K</td>\n",
       "      <td>True</td>\n",
       "      <td>NaN</td>\n",
       "      <td>100%</td>\n",
       "      <td>Jornada completa</td>\n",
       "      <td>23 días</td>\n",
       "      <td>['NextJS', 'React', 'PostgreSQL', 'Azure', 'ne...</td>\n",
       "      <td>['Aprendizaje Continuo', 'Capacidad de dar fee...</td>\n",
       "      <td>NaN</td>\n",
       "      <td>¿Cómo lo harás?Como decíamos más arriba, nos e...</td>\n",
       "      <td>['Presupuesto para formación']</td>\n",
       "    </tr>\n",
       "  </tbody>\n",
       "</table>\n",
       "</div>"
      ],
      "text/plain": [
       "                                                 url       nombre  \\\n",
       "0  https://www.getmanfred.com/ofertas-empleo/7684...    SuperReal   \n",
       "1  https://www.getmanfred.com/ofertas-empleo/7648...      Sngular   \n",
       "2  https://www.getmanfred.com/ofertas-empleo/7546...    Idealista   \n",
       "3  https://www.getmanfred.com/ofertas-empleo/7511...  Valar Space   \n",
       "4  https://www.getmanfred.com/ofertas-empleo/7406...   MavelPoint   \n",
       "\n",
       "                      oferta  fecha            fecha_extraccion     salario  \\\n",
       "0         Tech Lead (Nodejs)  abr25  2025-04-19 21:03:16.572525     €50-60K   \n",
       "1     JS Fullstack Developer  abr25  2025-04-19 21:03:18.020427     €35-42K   \n",
       "2        UX Product Designer  abr25  2025-04-19 21:03:19.546091  Hasta €55K   \n",
       "3     Java Backend Developer  mar25  2025-04-19 21:03:21.054967     €35-40K   \n",
       "4  Senior Frontend Developer  mar25  2025-04-19 21:03:22.551202  Hasta €55K   \n",
       "\n",
       "   remoto localizacion teletrabajo     dia_laborable vacaciones  \\\n",
       "0   False       Madrid         20%  Jornada completa    25 días   \n",
       "1    True          NaN        100%  Jornada completa    25 días   \n",
       "2   False       Madrid         60%  Jornada completa    23 días   \n",
       "3    True          NaN        100%  Jornada completa    22 días   \n",
       "4    True          NaN        100%  Jornada completa    23 días   \n",
       "\n",
       "                                         Tecnologías  \\\n",
       "0          ['NodeJS', 'REST', 'TypeScript', 'Azure']   \n",
       "1  ['NodeJS', 'REST', 'MongoDB', 'SQL', 'React', ...   \n",
       "2                                          ['Figma']   \n",
       "3  ['Java', 'Spring', 'Hibernate', 'Github', 'API...   \n",
       "4  ['NextJS', 'React', 'PostgreSQL', 'Azure', 'ne...   \n",
       "\n",
       "                                   Otras habilidades                Idiomas  \\\n",
       "0  ['Trabajo en equipo', 'Pensamiento analítico',...             ['Inglés']   \n",
       "1  ['Adaptabilidad al cambio', 'Trabajo en equipo...             ['Inglés']   \n",
       "2  ['Visión crítica', 'Capacidad de abstracción',...             ['Inglés']   \n",
       "3  ['Atención al detalle', 'Capacidad de dar feed...  ['Español', 'Inglés']   \n",
       "4  ['Aprendizaje Continuo', 'Capacidad de dar fee...                    NaN   \n",
       "\n",
       "                                              textos  \\\n",
       "0  ¿Cómo lo harás?SuperReal tiene el tamaño de un...   \n",
       "1  ¿Cómo lo harás?Déjame que te describa la quint...   \n",
       "2  ¿Cómo lo harás?Es una organización muy plana, ...   \n",
       "3  ¿Cómo lo harás?Tu día empezará revisando Linea...   \n",
       "4  ¿Cómo lo harás?Como decíamos más arriba, nos e...   \n",
       "\n",
       "                                          Beneficios  \n",
       "0                                                NaN  \n",
       "1  ['Clases de Idiomas', 'Posibilidad de elegir e...  \n",
       "2  ['Clases de Idiomas', 'Café, fruta y snacks', ...  \n",
       "3  ['Cheque Guardería', 'Presupuesto para formaci...  \n",
       "4                     ['Presupuesto para formación']  "
      ]
     },
     "execution_count": 7,
     "metadata": {},
     "output_type": "execute_result"
    }
   ],
   "source": [
    "#visualizar resumen dataframe extraído\n",
    "df2.head()"
   ]
  },
  {
   "cell_type": "code",
   "execution_count": 8,
   "id": "61704cc2-7807-4b04-ac76-a31591be6e80",
   "metadata": {},
   "outputs": [],
   "source": [
    "#poner el nombre de las columnas en minúscula\n",
    "df2.columns = df2.columns.str.lower()"
   ]
  },
  {
   "cell_type": "code",
   "execution_count": 9,
   "id": "6e2d0351-c2f9-4ebc-8034-9cddffe47245",
   "metadata": {},
   "outputs": [],
   "source": [
    "#renombrar las columnas para futura concatenacion de los dataframes\n",
    "df2.rename(columns={\"url\": \"id_urls\",\n",
    "                    \"nombre\": \"empresa\",\n",
    "                    \"remoto\": \"modalidad\",\n",
    "                    \"localizacion\": \"ubicacion\",\n",
    "                    \"teletrabajo\": \"modalidad_2\",\n",
    "                    \"dia_laborable\": \"jornada\",\n",
    "                    \"tecnologías\": \"tecnologias_aptitudes\",\n",
    "                    \"otras habilidades\": \"skills\",\n",
    "                    \"textos\": \"descripcion\"\n",
    "                    }\n",
    "           , inplace=True)"
   ]
  },
  {
   "cell_type": "code",
   "execution_count": 10,
   "id": "16108427-9ddf-48f1-9eb7-ae861da75028",
   "metadata": {},
   "outputs": [
    {
     "name": "stdout",
     "output_type": "stream",
     "text": [
      "<class 'pandas.core.frame.DataFrame'>\n",
      "RangeIndex: 1279 entries, 0 to 1278\n",
      "Data columns (total 16 columns):\n",
      " #   Column                 Non-Null Count  Dtype \n",
      "---  ------                 --------------  ----- \n",
      " 0   id_urls                1279 non-null   object\n",
      " 1   empresa                1279 non-null   object\n",
      " 2   oferta                 1279 non-null   object\n",
      " 3   fecha                  1279 non-null   object\n",
      " 4   fecha_extraccion       1279 non-null   object\n",
      " 5   salario                1279 non-null   object\n",
      " 6   modalidad              1279 non-null   bool  \n",
      " 7   ubicacion              265 non-null    object\n",
      " 8   modalidad_2            1250 non-null   object\n",
      " 9   jornada                1033 non-null   object\n",
      " 10  vacaciones             1277 non-null   object\n",
      " 11  tecnologias_aptitudes  1180 non-null   object\n",
      " 12  skills                 1169 non-null   object\n",
      " 13  idiomas                293 non-null    object\n",
      " 14  descripcion            1279 non-null   object\n",
      " 15  beneficios             1090 non-null   object\n",
      "dtypes: bool(1), object(15)\n",
      "memory usage: 151.3+ KB\n"
     ]
    }
   ],
   "source": [
    "df2.info()"
   ]
  },
  {
   "cell_type": "markdown",
   "id": "e1820fda-c778-4201-9ffe-e7797f3e26f8",
   "metadata": {},
   "source": [
    "## COLUMNAS:"
   ]
  },
  {
   "cell_type": "markdown",
   "id": "d6d3c694-b3e1-4465-97e0-9853a9ca6846",
   "metadata": {},
   "source": [
    "#### PORTAL_EMPLEO"
   ]
  },
  {
   "cell_type": "code",
   "execution_count": 12,
   "id": "ddc48848-36ed-4c99-8054-18bd1d3845e3",
   "metadata": {},
   "outputs": [],
   "source": [
    "#añadimos la columna \"portal_empleo\" a partir de la columna \"id_urls\"\n",
    "df2[\"portal_empleo\"] = df2[\"id_urls\"].str.split(\"www.\").str[1].str.split(\".com\").str[0]\n",
    "#Reemplazar NaN por None\n",
    "df2[\"portal_empleo\"] = df2[\"portal_empleo\"].replace({pd.NA: None, np.nan: None})"
   ]
  },
  {
   "cell_type": "code",
   "execution_count": null,
   "id": "81361889-f754-4761-811e-332f179867bf",
   "metadata": {},
   "outputs": [],
   "source": [
    "df2[\"portal_empleo\"].unique()"
   ]
  },
  {
   "cell_type": "markdown",
   "id": "7f67c12d-b15c-45a6-9a73-0ec3fbd9a9b6",
   "metadata": {},
   "source": [
    "#### EMPRESA"
   ]
  },
  {
   "cell_type": "code",
   "execution_count": 14,
   "id": "d7c13ec3-6561-4774-b14b-976d63561860",
   "metadata": {},
   "outputs": [],
   "source": [
    "#sustituir NaN por None\n",
    "df2[\"empresa\"] = df2[\"empresa\"].replace({pd.NA: None, np.nan: None})"
   ]
  },
  {
   "cell_type": "code",
   "execution_count": null,
   "id": "3db4f31c-df35-4104-8029-faa5ecf5af04",
   "metadata": {},
   "outputs": [],
   "source": [
    "df2[\"empresa\"].unique()"
   ]
  },
  {
   "cell_type": "markdown",
   "id": "11d9c14e-94ce-48cb-9260-cace06bab519",
   "metadata": {},
   "source": [
    "#### OFERTA"
   ]
  },
  {
   "cell_type": "code",
   "execution_count": 16,
   "id": "d293afd8-f6bd-42e6-8c75-c1fd3c624dc9",
   "metadata": {},
   "outputs": [],
   "source": [
    "#sustituir NaN por None\n",
    "df2[\"oferta\"] = df2[\"oferta\"].replace({pd.NA: None, np.nan: None})"
   ]
  },
  {
   "cell_type": "code",
   "execution_count": null,
   "id": "fcad3de9-a0ab-4b5d-8101-df9afb72896a",
   "metadata": {},
   "outputs": [],
   "source": [
    "df2[\"oferta\"].unique()"
   ]
  },
  {
   "cell_type": "markdown",
   "id": "f1924731-a183-4273-b15a-d5a25d85152e",
   "metadata": {},
   "source": [
    "#### FECHA"
   ]
  },
  {
   "cell_type": "code",
   "execution_count": 18,
   "id": "6d3db536-251f-42a6-9814-776b7eb81b7c",
   "metadata": {},
   "outputs": [
    {
     "data": {
      "text/plain": [
       "array(['abr25', 'mar25', 'feb25', 'ene25', 'dic24', 'nov24', 'oct24',\n",
       "       'sept24', 'ago24', 'jul24', 'jun24', 'may24', 'abr24', 'mar24',\n",
       "       'feb24', 'oct23', '24', 'ene24', 'dic23', 'nov23', 'sept23',\n",
       "       'jul23', 'ago23', 'jun23', 'may23', 'abr23', 'mar23', 'feb23',\n",
       "       'ene23', 'nov22', 'dic22', 'oct22', 'ago22', 'sept22', 'jul22',\n",
       "       'jun22', 'may22', 'abr22', 'mar22', 'en', 'feb22', 'ene22',\n",
       "       'dic21', 'nov21', 'oct21', 'developer', 'sept21', 'ago21', 'jul21',\n",
       "       'jun21', 'manager', 'engineer'], dtype=object)"
      ]
     },
     "execution_count": 18,
     "metadata": {},
     "output_type": "execute_result"
    }
   ],
   "source": [
    "df2[\"fecha\"].unique()"
   ]
  },
  {
   "cell_type": "code",
   "execution_count": 19,
   "id": "73b088e5-f050-4a4f-b199-fb046f94a66d",
   "metadata": {},
   "outputs": [],
   "source": [
    "#crear diccionario que relaciona breviatura con mes en número\n",
    "meses = {\n",
    "    \"ene\": \"01\", \"feb\": \"02\", \"mar\": \"03\", \"abr\": \"04\", \"may\": \"05\", \"jun\": \"06\",\n",
    "    \"jul\": \"07\", \"ago\": \"08\", \"sept\": \"09\", \"oct\": \"10\", \"nov\": \"11\", \"dic\": \"12\"\n",
    "}"
   ]
  },
  {
   "cell_type": "code",
   "execution_count": 20,
   "id": "53d7ef25-4348-4bbd-8376-4cf94577cb6f",
   "metadata": {},
   "outputs": [],
   "source": [
    "#funcion para convertir los valores de fecha en formato adecuado para posterior cambio a tipo de dato: datetime\n",
    "def convertir_fecha(fecha):\n",
    "    if isinstance(fecha, str):\n",
    "        if len(fecha) == 5:\n",
    "            mes_abr = fecha[:3].lower()\n",
    "        elif len(fecha) == 6:\n",
    "            mes_abr = fecha[:4].lower()\n",
    "        else:\n",
    "            return None\n",
    "        \n",
    "        anio = \"20\" + fecha[-2:]\n",
    "        mes = meses.get(mes_abr)\n",
    "        if mes:\n",
    "            return f\"{mes}/{anio}\"\n",
    "    return None"
   ]
  },
  {
   "cell_type": "code",
   "execution_count": 21,
   "id": "34d82b3d-b1fc-4d66-a1aa-5d0c1993ff5c",
   "metadata": {},
   "outputs": [],
   "source": [
    "df2[\"fecha\"] = df2[\"fecha\"].apply(convertir_fecha)"
   ]
  },
  {
   "cell_type": "code",
   "execution_count": null,
   "id": "92d22f90-e402-4cf7-8e6e-f9a67bb18351",
   "metadata": {},
   "outputs": [],
   "source": [
    "#cambiar a tipo de dato: datetime y reemplazo de NaN por None\n",
    "df2[\"fecha\"] = pd.to_datetime(df2[\"fecha\"], format=\"%m/%Y\", errors=\"coerce\")\n",
    "df2[\"fecha\"] = df2[\"fecha\"].replace({pd.NaT: None})"
   ]
  },
  {
   "cell_type": "code",
   "execution_count": null,
   "id": "de1b1cd0-5149-4768-9ac6-2ab002c62bae",
   "metadata": {},
   "outputs": [],
   "source": [
    "df2[\"fecha\"].unique()"
   ]
  },
  {
   "cell_type": "markdown",
   "id": "798d1c20-74f7-4506-ab90-1444fe5f2f39",
   "metadata": {},
   "source": [
    "#### SALARIO"
   ]
  },
  {
   "cell_type": "code",
   "execution_count": null,
   "id": "eb4c630a-734c-4cc5-97a7-108700265e32",
   "metadata": {},
   "outputs": [],
   "source": [
    "#función para crear columnas con salario mínimo y salario maximo a partir de salario, limpiando los caracteres innecesarios\n",
    "def limpiar_salario(salario):\n",
    "    salario = str(salario).replace(\"€\", \"\").replace(\"US$\", \"\").replace(\"£\", \"\").replace(\",\", \"\").replace(\"K\", \"\").replace(\"Hasta\", \"\").replace(\"Desde\", \"\").replace(\"/hora\", \"\").replace(\"MXN$\", \"\").strip()\n",
    "\n",
    "    if '-' in salario:\n",
    "        salario_min, salario_max = salario.split('-')\n",
    "        return pd.Series([float(salario_min)*1000, float(salario_max)*1000])\n",
    "    else:\n",
    "        return pd.Series([float(salario)*1000, float(salario)*1000])"
   ]
  },
  {
   "cell_type": "code",
   "execution_count": null,
   "id": "059ab913-ec7d-47e6-9905-a737ecd736f2",
   "metadata": {},
   "outputs": [],
   "source": [
    "df2[[\"salario_min\", \"salario_max\"]] = df2[\"salario\"].apply(limpiar_salario)"
   ]
  },
  {
   "cell_type": "code",
   "execution_count": null,
   "id": "d9c06a7d-107e-481e-8809-b49b0e7b1614",
   "metadata": {},
   "outputs": [],
   "source": [
    "#reemplazar NaN por None\n",
    "df2[\"salario_min\"] = df2[\"salario_min\"].replace(np.nan, None)\n",
    "df2[\"salario_max\"] = df2[\"salario_max\"].replace(np.nan, None)"
   ]
  },
  {
   "cell_type": "code",
   "execution_count": 107,
   "id": "4f4afad6-b450-4dd3-96ba-6b9c49342ebb",
   "metadata": {},
   "outputs": [],
   "source": [
    "df2.drop(columns = \"salario\", inplace = True)"
   ]
  },
  {
   "cell_type": "code",
   "execution_count": null,
   "id": "fe8a995b-48a9-42e3-a989-75034f37c59c",
   "metadata": {},
   "outputs": [],
   "source": [
    "df2[\"salario_min\"].unique()"
   ]
  },
  {
   "cell_type": "code",
   "execution_count": null,
   "id": "5ec38277-f943-4b6a-ba7d-6c598150746f",
   "metadata": {},
   "outputs": [],
   "source": [
    "df2[\"salario_max\"].unique()"
   ]
  },
  {
   "cell_type": "markdown",
   "id": "354be048-5900-40fc-9499-b05ff6a1236d",
   "metadata": {},
   "source": [
    "#### MODALIDAD"
   ]
  },
  {
   "cell_type": "code",
   "execution_count": null,
   "id": "644a883a-ca92-493c-811e-22f0448886a9",
   "metadata": {},
   "outputs": [],
   "source": [
    "df2[\"modalidad_2\"].unique()"
   ]
  },
  {
   "cell_type": "code",
   "execution_count": null,
   "id": "8169278e-5fd4-476c-98ba-d83fb2a8176d",
   "metadata": {},
   "outputs": [],
   "source": [
    "#sobreescribir la columna modalidad con los valores deseados a partir de los valores iniciales de las columnas modalidad y modalidad_2\n",
    "condiciones = [\n",
    "    df2[\"modalidad\"] == True,\n",
    "    (df2[\"modalidad_2\"].notna()) & (df2[\"modalidad_2\"] != '100%'),\n",
    "    (df2[\"modalidad_2\"].isna()) & (df2[\"ubicacion\"].notna())\n",
    "]\n",
    "\n",
    "opciones = [\"Teletrabajo\", \"Híbrido\", \"Presencial\"]\n",
    "\n",
    "df2[\"modalidad\"] = np.select(condiciones, opciones, default=None)\n",
    "df2.drop(columns = \"modalidad_2\", inplace = True)"
   ]
  },
  {
   "cell_type": "code",
   "execution_count": null,
   "id": "55f124c5-8925-4ae1-b680-a007177eb778",
   "metadata": {},
   "outputs": [],
   "source": [
    "df2[\"modalidad\"].unique()"
   ]
  },
  {
   "cell_type": "markdown",
   "id": "f171e7cf-74fe-44e6-be9d-c39a2431b8cf",
   "metadata": {},
   "source": [
    "#### UBICACION"
   ]
  },
  {
   "cell_type": "code",
   "execution_count": null,
   "id": "4d7ba24e-9f40-4a14-b967-fd0cf7a53025",
   "metadata": {},
   "outputs": [],
   "source": [
    "df2[\"ubicacion\"].unique()"
   ]
  },
  {
   "cell_type": "code",
   "execution_count": null,
   "id": "b4161bbb-ff4e-406f-8812-6cd7c87acfcd",
   "metadata": {},
   "outputs": [],
   "source": [
    "#función para obtener las ubicaciones separadas por , si hay más de una ubicación\n",
    "def limpiar_ubicacion(valor):\n",
    "    if pd.isna(valor):\n",
    "        return None\n",
    "    return \", \".join([ubicacion.strip() for ubicacion in valor.split(\" o \")])\n",
    "\n",
    "df2[\"ubicacion\"] = df2[\"ubicacion\"].apply(limpiar_ubicacion)"
   ]
  },
  {
   "cell_type": "code",
   "execution_count": null,
   "id": "f9ee2681-c479-4414-8f47-73968d52fe78",
   "metadata": {},
   "outputs": [],
   "source": [
    "df2[\"ubicacion\"].unique()"
   ]
  },
  {
   "cell_type": "markdown",
   "id": "b9ad9cca-8330-4a6d-82b3-309aceb0df16",
   "metadata": {},
   "source": [
    "#### JORNADA"
   ]
  },
  {
   "cell_type": "code",
   "execution_count": null,
   "id": "d6e1a83d-cddf-4750-87fa-77ba6afd1b26",
   "metadata": {},
   "outputs": [],
   "source": [
    "#sustituir NaN por None\n",
    "df2[\"jornada\"] = df2[\"jornada\"].replace(np.nan, None)"
   ]
  },
  {
   "cell_type": "code",
   "execution_count": null,
   "id": "59b73aa1-4e15-4a21-ad0d-750b2eb29493",
   "metadata": {},
   "outputs": [],
   "source": [
    "df2[\"jornada\"].unique()"
   ]
  },
  {
   "cell_type": "markdown",
   "id": "ae54ac57-e5d5-47a1-9163-b522b2a52613",
   "metadata": {},
   "source": [
    "#### VACACIONES\n",
    "\n",
    "Eliminar texto innecesario, sustituir \"Ilimitado\" por la media redondeada de la columna y sustituir NaN por None"
   ]
  },
  {
   "cell_type": "code",
   "execution_count": null,
   "id": "938fdd85-a24b-4ede-9750-20fa0287e69b",
   "metadata": {},
   "outputs": [],
   "source": [
    "#función para eliminar el texto y extraer el número de días de vacaciones\n",
    "def limpiar_vacaciones(valor):\n",
    "    if pd.isna(valor):\n",
    "        return np.nan\n",
    "    else:\n",
    "        return valor.split()[0]\n",
    "\n",
    "df2[\"vacaciones\"] = df2[\"vacaciones\"].apply(limpiar_vacaciones)"
   ]
  },
  {
   "cell_type": "code",
   "execution_count": null,
   "id": "fd8f9efe-81b3-4611-ace1-45fe4d98d4f4",
   "metadata": {},
   "outputs": [],
   "source": [
    "#sustituir el valor Ilimitado por la media y sustituir NaN por None\n",
    "df2[\"vacaciones_sin_ilimitado\"] = df2[\"vacaciones\"].apply(lambda x: np.nan if x == \"Ilimitado\" else x)\n",
    "df2[\"vacaciones_sin_ilimitado\"] = df2[\"vacaciones_sin_ilimitado\"].astype(float)\n",
    "media_vacaciones = df2[\"vacaciones_sin_ilimitado\"].mean()\n",
    "media_redondeada = round(media_vacaciones)\n",
    "df2[\"vacaciones\"] = df2[\"vacaciones\"].apply(lambda x: media_redondeada if x == \"Ilimitado\" else x)\n",
    "df2[\"vacaciones\"] = df2[\"vacaciones\"].astype(float)\n",
    "df2[\"vacaciones\"] = df2[\"vacaciones\"].replace(np.nan, None)\n",
    "df2.drop(columns = \"vacaciones_sin_ilimitado\", inplace = True)"
   ]
  },
  {
   "cell_type": "code",
   "execution_count": null,
   "id": "f6db73a3-d295-4735-8b39-efd756c72a19",
   "metadata": {},
   "outputs": [],
   "source": [
    "df2[\"vacaciones\"].unique()"
   ]
  },
  {
   "cell_type": "markdown",
   "id": "9d38d9ee-d6f8-4b86-bd18-15783b1a29c6",
   "metadata": {},
   "source": [
    "#### TECNOLOGIAS_APTITUDES"
   ]
  },
  {
   "cell_type": "code",
   "execution_count": null,
   "id": "f2c77f86-797e-4dc0-b672-a36529b7d615",
   "metadata": {},
   "outputs": [],
   "source": [
    "#función para convertir en string de valores separados por comas y sustituir NaN por None\n",
    "def limpiar_tecnologias_aptitudes(valor):\n",
    "    if pd.isna(valor):\n",
    "        return None\n",
    "    else:\n",
    "        lista_tecnologias = ast.literal_eval(valor)\n",
    "        return \", \".join(lista_tecnologias)\n",
    "\n",
    "df2[\"tecnologias_aptitudes\"] = df2[\"tecnologias_aptitudes\"].apply(limpiar_tecnologias_aptitudes)"
   ]
  },
  {
   "cell_type": "code",
   "execution_count": null,
   "id": "afa2e4ff-0901-4017-a6b6-cd92d023fa6d",
   "metadata": {},
   "outputs": [],
   "source": [
    "df2[\"tecnologias_aptitudes\"].unique()"
   ]
  },
  {
   "cell_type": "markdown",
   "id": "19e4f8c6-8be8-4f83-9b3e-df36e1c47a13",
   "metadata": {},
   "source": [
    "#### SKILLS"
   ]
  },
  {
   "cell_type": "code",
   "execution_count": null,
   "id": "20a25881-f5d8-4e3d-9220-b74666dc6544",
   "metadata": {},
   "outputs": [],
   "source": [
    "#convertir en string de valores separados por comas y sustituir NaN por None\n",
    "def limpiar_skills(valor):\n",
    "    if pd.isna(valor):\n",
    "        return None\n",
    "    else:\n",
    "        lista_skills = ast.literal_eval(valor)\n",
    "        return \", \".join(lista_skills)\n",
    "\n",
    "df2[\"skills\"] = df2[\"skills\"].apply(limpiar_skills)"
   ]
  },
  {
   "cell_type": "code",
   "execution_count": null,
   "id": "0d1ab928-7a21-41ab-b465-931384ed73bf",
   "metadata": {},
   "outputs": [],
   "source": [
    "df2[\"skills\"].unique()"
   ]
  },
  {
   "cell_type": "markdown",
   "id": "ffb14d79-341b-49c3-a372-a4fedeebb1da",
   "metadata": {},
   "source": [
    "#### IDIOMAS"
   ]
  },
  {
   "cell_type": "code",
   "execution_count": null,
   "id": "d47c6f7e-f8eb-494c-81b4-45f1e06598ab",
   "metadata": {},
   "outputs": [],
   "source": [
    "#convertir en string de valores separados por comas y sustituir NaN por None\n",
    "def limpiar_idiomas(valor):\n",
    "    if pd.isna(valor):\n",
    "        return None\n",
    "    else:\n",
    "        lista_idiomas = ast.literal_eval(valor)\n",
    "        return \", \".join(lista_idiomas)\n",
    "\n",
    "df2[\"idiomas\"] = df2[\"idiomas\"].apply(limpiar_idiomas)"
   ]
  },
  {
   "cell_type": "code",
   "execution_count": null,
   "id": "abc9ea7f-9aed-451e-b954-19db1205c702",
   "metadata": {},
   "outputs": [],
   "source": [
    "df2[\"idiomas\"].unique()"
   ]
  },
  {
   "cell_type": "markdown",
   "id": "9aa0f1f6-1e51-4708-9d66-04ed721779e4",
   "metadata": {},
   "source": [
    "#### DESCRIPCION"
   ]
  },
  {
   "cell_type": "code",
   "execution_count": null,
   "id": "4c42bf40-4aab-43f8-9197-05960ee42e00",
   "metadata": {},
   "outputs": [],
   "source": [
    "df2[\"descripcion\"] = df2[\"descripcion\"].replace(np.nan, None)"
   ]
  },
  {
   "cell_type": "markdown",
   "id": "f224cd55-c57a-4405-a4c2-20c981794ca9",
   "metadata": {},
   "source": [
    "#### BENEFICIOS"
   ]
  },
  {
   "cell_type": "code",
   "execution_count": null,
   "id": "20ef23e4-d985-454d-a4b7-39b70adb5c4b",
   "metadata": {},
   "outputs": [],
   "source": [
    "#convertir en string de valores separados por comas y sustituir NaN por None\n",
    "def limpiar_beneficios(valor):\n",
    "    if pd.isna(valor):\n",
    "        return None\n",
    "    else:\n",
    "        lista_beneficios = ast.literal_eval(valor)\n",
    "        return \", \".join(lista_beneficios)\n",
    "\n",
    "df2[\"beneficios\"] = df2[\"beneficios\"].apply(limpiar_beneficios)"
   ]
  },
  {
   "cell_type": "code",
   "execution_count": null,
   "id": "b8713bfb-13ae-4bff-ae57-512c24063f36",
   "metadata": {},
   "outputs": [],
   "source": [
    "df2[\"beneficios\"].unique()"
   ]
  },
  {
   "cell_type": "markdown",
   "id": "3d4e0e61-b247-4855-a55c-a79cb3f8c996",
   "metadata": {},
   "source": [
    "## OTRAS MODIFICACIONES"
   ]
  },
  {
   "cell_type": "code",
   "execution_count": null,
   "id": "2add1e02-fc61-4263-a838-91faef7f13c8",
   "metadata": {},
   "outputs": [],
   "source": [
    "#cambiar el tipo de dato\n",
    "df2[\"fecha\"] = pd.to_datetime(df2[\"fecha\"])\n",
    "df2[\"vacaciones\"] = df2[\"vacaciones\"].astype(\"Int64\")\n",
    "df2[\"fecha_extraccion\"] = pd.to_datetime(df2[\"fecha_extraccion\"])"
   ]
  },
  {
   "cell_type": "markdown",
   "id": "7222de6b-63eb-4144-b7b6-41a61aabf98c",
   "metadata": {},
   "source": [
    "## RESULTADO LIMPIEZA"
   ]
  },
  {
   "cell_type": "code",
   "execution_count": null,
   "id": "3764da74-456e-4b4c-9ab8-6969515c415f",
   "metadata": {},
   "outputs": [],
   "source": [
    "df2.head()"
   ]
  },
  {
   "cell_type": "code",
   "execution_count": null,
   "id": "6cfdc9ec-f545-4f9d-9cc0-e80e0133eb20",
   "metadata": {},
   "outputs": [],
   "source": [
    "df2.info()"
   ]
  },
  {
   "cell_type": "markdown",
   "id": "2788e3ff-0971-470d-bcb5-372c955e249d",
   "metadata": {},
   "source": [
    "# 3.2. LIMPIEZA TECNOEMPLEO"
   ]
  },
  {
   "cell_type": "code",
   "execution_count": null,
   "id": "b3caa6f9-925b-4377-a8a4-b3af242d57d9",
   "metadata": {},
   "outputs": [],
   "source": [
    "df1.head()"
   ]
  },
  {
   "cell_type": "code",
   "execution_count": null,
   "id": "5906c57d-b580-44c9-bfd2-e5e984a7798d",
   "metadata": {},
   "outputs": [],
   "source": [
    "df1.info()"
   ]
  },
  {
   "cell_type": "code",
   "execution_count": null,
   "id": "4aa9bac1-1968-4fab-bf80-33505b9546b1",
   "metadata": {},
   "outputs": [],
   "source": [
    "#poner el nombre de las columnas en minúscula\n",
    "df1.columns = df1.columns.str.lower()"
   ]
  },
  {
   "cell_type": "code",
   "execution_count": null,
   "id": "a4573b1a-af28-44ae-babc-79093177e150",
   "metadata": {},
   "outputs": [],
   "source": [
    "#renombrar las columnas para futura concatenacion de los dataframes\n",
    "df1.rename(columns={\"urls\": \"id_urls\",\n",
    "                    \"fecha_de_publicacion\": \"fecha\",\n",
    "                    \"aptitudes\": \"tecnologias_aptitudes\",\n",
    "                    \"requisito\": \"estudios\",\n",
    "                    \"teletrabajo o presencial\": \"modalidad\",\n",
    "                    \"texto\": \"descripcion\"}\n",
    "           , inplace=True)"
   ]
  },
  {
   "cell_type": "markdown",
   "id": "a4e566f5-effb-4156-8c81-79f7aadb48b8",
   "metadata": {},
   "source": [
    "## COLUMNAS:"
   ]
  },
  {
   "cell_type": "markdown",
   "id": "8379297d-d291-491a-9437-93b83a654294",
   "metadata": {},
   "source": [
    "#### PORTAL_EMPLEO"
   ]
  },
  {
   "cell_type": "code",
   "execution_count": null,
   "id": "e2faa6ee-4f0f-4422-82be-0263f7ab009c",
   "metadata": {},
   "outputs": [],
   "source": [
    "#añadimos la columna \"portal_empleo\" a partir de la columna \"id_urls\"\n",
    "df1[\"portal_empleo\"] = df1[\"id_urls\"].str.split(\"www.\").str[1].str.split(\".com\").str[0]\n",
    "#Reemplazar NaN por None\n",
    "df1[\"portal_empleo\"] = df1[\"portal_empleo\"].replace({pd.NA: None, np.nan: None})"
   ]
  },
  {
   "cell_type": "code",
   "execution_count": null,
   "id": "7b7c03c1-506c-496a-97e1-d1054992e775",
   "metadata": {},
   "outputs": [],
   "source": [
    "df1[\"portal_empleo\"].unique()"
   ]
  },
  {
   "cell_type": "markdown",
   "id": "a706dc3e-f3e6-467e-8136-bf539c6477a4",
   "metadata": {},
   "source": [
    "#### EMPRESA"
   ]
  },
  {
   "cell_type": "code",
   "execution_count": null,
   "id": "b6607d7d-7479-4057-a655-bc6a95866b26",
   "metadata": {},
   "outputs": [],
   "source": [
    "df1[\"empresa\"] = df1[\"empresa\"].replace({pd.NA: None, np.nan: None})"
   ]
  },
  {
   "cell_type": "markdown",
   "id": "65293fd3-259a-4919-b16f-e9dd932d6858",
   "metadata": {},
   "source": [
    "#### JORNADA"
   ]
  },
  {
   "cell_type": "code",
   "execution_count": null,
   "id": "14dfa082-9af7-4183-b8e0-50e6450c8889",
   "metadata": {},
   "outputs": [],
   "source": [
    "#reemplazar valores que son \"Jornada completa\"\n",
    "jornada_completa = {\n",
    "    \"Intensiva Mañana\": \"Jornada completa\",\n",
    "    \"Turno rotatorio\": \"Jornada completa\",\n",
    "    \"Intensiva Tarde\": \"Jornada completa\"\n",
    "}\n",
    "\n",
    "df1[\"jornada\"] = df1[\"jornada\"].replace(jornada_completa)"
   ]
  },
  {
   "cell_type": "code",
   "execution_count": null,
   "id": "16c19c71-3c41-4fe5-be77-cc66b4ea90d1",
   "metadata": {},
   "outputs": [],
   "source": [
    "#Reemplazar NaN por None\n",
    "df1[\"jornada\"] = df1[\"jornada\"].replace({pd.NA: None, np.nan: None})"
   ]
  },
  {
   "cell_type": "code",
   "execution_count": null,
   "id": "89cde5bf-72e2-4a76-a804-6a9471df7bab",
   "metadata": {},
   "outputs": [],
   "source": [
    "df1[\"jornada\"].unique()"
   ]
  },
  {
   "cell_type": "markdown",
   "id": "44e66a14-f6dd-4e0c-a8b6-c583753082d1",
   "metadata": {},
   "source": [
    "#### FUNCION"
   ]
  },
  {
   "cell_type": "code",
   "execution_count": null,
   "id": "1fdd8f8e-5df0-44e4-81df-3baf2ef49d2b",
   "metadata": {},
   "outputs": [],
   "source": [
    "#Reemplazar NaN por None\n",
    "df1[\"funcion\"] = df1[\"funcion\"].replace({pd.NA: None, np.nan: None})"
   ]
  },
  {
   "cell_type": "code",
   "execution_count": null,
   "id": "07fc12cb-a07f-47b4-a26b-8f576cc097c9",
   "metadata": {},
   "outputs": [],
   "source": [
    "df1[\"funcion\"].unique()"
   ]
  },
  {
   "cell_type": "markdown",
   "id": "30a33d65-602d-4aae-8d6d-3f221a160ac6",
   "metadata": {},
   "source": [
    "#### TECNOLOGIAS_APTITUDES"
   ]
  },
  {
   "cell_type": "code",
   "execution_count": null,
   "id": "3c1b04f5-c432-4267-b6c7-934f7387b22b",
   "metadata": {},
   "outputs": [],
   "source": [
    "#convertir la columna de listas a texto separado por \",\"\n",
    "#convertir en string de valores separados por comas y sustituir NaN por None\n",
    "def limpiar_tecnologias_aptitudes(valor):\n",
    "    if pd.isna(valor):\n",
    "        return None\n",
    "    else:\n",
    "        lista_tecnologias = ast.literal_eval(valor)\n",
    "        return \", \".join(lista_tecnologias)\n",
    "\n",
    "df1[\"tecnologias_aptitudes\"] = df1[\"tecnologias_aptitudes\"].apply(limpiar_tecnologias_aptitudes)"
   ]
  },
  {
   "cell_type": "code",
   "execution_count": null,
   "id": "38441abf-0d79-4464-bf5a-049edd7e54c4",
   "metadata": {},
   "outputs": [],
   "source": [
    "df1[\"tecnologias_aptitudes\"].unique()"
   ]
  },
  {
   "cell_type": "markdown",
   "id": "2349c32f-8aff-45d2-9b1d-97c1a5a7efda",
   "metadata": {},
   "source": [
    "#### ESTUDIOS"
   ]
  },
  {
   "cell_type": "code",
   "execution_count": null,
   "id": "a67c2fb7-3f6e-4aed-9ae1-5a4fa0ff6533",
   "metadata": {},
   "outputs": [],
   "source": [
    "#convertirmos la columna en una columna booleana: si requiere estudios = True, si no reqiere estudios = False\n",
    "df1[\"estudios\"] = df1[\"estudios\"].notna()"
   ]
  },
  {
   "cell_type": "code",
   "execution_count": null,
   "id": "da6a692a-fd8e-4015-9cc4-12f0248bb282",
   "metadata": {},
   "outputs": [],
   "source": [
    "df1[\"estudios\"].unique()"
   ]
  },
  {
   "cell_type": "markdown",
   "id": "a2578bb6-9363-4412-8289-6c6734c18aa0",
   "metadata": {},
   "source": [
    "#### SALARIO"
   ]
  },
  {
   "cell_type": "code",
   "execution_count": null,
   "id": "a19d9801-3b51-4e07-a892-985ae14d3958",
   "metadata": {},
   "outputs": [],
   "source": [
    "#dividir la columna salario (rango) en dos columnas: salario_min y salario_max\n",
    "df1[[\"salario_min\",\"salario_max\"]] = df1[\"salario\"].str.split(\" \", expand = True)"
   ]
  },
  {
   "cell_type": "code",
   "execution_count": null,
   "id": "ac5a6f35-edf9-4bc5-9f13-a1abfeef0900",
   "metadata": {},
   "outputs": [],
   "source": [
    "#pasar salario bruto por hora a salario bruto anual y reemplazar NaN por None\n",
    "df1[\"salario_min\"] = df1[\"salario_min\"].apply(lambda x: int(x) * 40 * 52 if str(x).isdigit() and len(x) == 2 else x)\n",
    "df1[\"salario_min\"] = df1[\"salario_min\"].replace({pd.NA: None, np.nan: None})\n",
    "df1[\"salario_max\"] = df1[\"salario_max\"].apply(lambda x: int(x) * 40 * 52 if str(x).isdigit() and len(x) == 2 else x)\n",
    "df1[\"salario_max\"] = df1[\"salario_max\"].replace({pd.NA: None, np.nan: None})"
   ]
  },
  {
   "cell_type": "code",
   "execution_count": null,
   "id": "9cc1042d-7270-4173-96ee-5540cb1c6c77",
   "metadata": {},
   "outputs": [],
   "source": [
    "#eliminar columna de salario innecesaria\n",
    "columnas_salario_eliminar = [\"salario\"]\n",
    "df1.drop(columns = columnas_salario_eliminar, inplace = True)"
   ]
  },
  {
   "cell_type": "code",
   "execution_count": null,
   "id": "c0253b21-73f9-4fe3-b4a5-244f1153e615",
   "metadata": {},
   "outputs": [],
   "source": [
    "df1[\"salario_min\"].unique()"
   ]
  },
  {
   "cell_type": "code",
   "execution_count": null,
   "id": "32e66078-8d32-4601-81a1-8900ddc55f2b",
   "metadata": {},
   "outputs": [],
   "source": [
    "df1[\"salario_max\"].unique()"
   ]
  },
  {
   "cell_type": "markdown",
   "id": "8bee8b8a-7a74-4754-a6bb-953aaf908523",
   "metadata": {},
   "source": [
    "#### FECHA"
   ]
  },
  {
   "cell_type": "code",
   "execution_count": null,
   "id": "675b932d-c967-4984-a578-9a1b159a5363",
   "metadata": {},
   "outputs": [],
   "source": [
    "#convertir a formato fecha y reemplazar NaN por None\n",
    "df1[\"fecha\"] = pd.to_datetime(df1[\"fecha\"], format=\"%d/%m/%Y\", errors=\"coerce\")\n",
    "df1[\"fecha\"] = df1[\"fecha\"].replace({pd.NaT: None})"
   ]
  },
  {
   "cell_type": "code",
   "execution_count": null,
   "id": "f285d14b-c7f2-4b42-b313-d0fb73eb137d",
   "metadata": {},
   "outputs": [],
   "source": [
    "df1[\"fecha\"].unique()"
   ]
  },
  {
   "cell_type": "markdown",
   "id": "1a3ccd40-84a7-4bf2-a998-9b12a2b0a98d",
   "metadata": {},
   "source": [
    "#### UBICACIÓN"
   ]
  },
  {
   "cell_type": "code",
   "execution_count": null,
   "id": "b9f0174d-bee9-4bbf-b54a-5694c74f1f9b",
   "metadata": {},
   "outputs": [],
   "source": [
    "#limpiamos la columna \"ubicacion\" sustituyendo algunos valores por sus respectivas provincias\n",
    "provincias = [\n",
    "    \"Álava\", \"Albacete\", \"Alicante\", \"Almería\", \"Asturias\", \"Ávila\", \"Badajoz\", \"Baleares\", \"Barcelona\", \"Burgos\",\n",
    "    \"Cáceres\", \"Cádiz\", \"Cantabria\", \"Castellón\", \"Ciudad Real\", \"Córdoba\", \"Cuenca\", \"Girona\", \"Granada\",\n",
    "    \"Guadalajara\", \"Guipúzcoa\", \"Huelva\", \"Huesca\", \"Jaén\", \"La Coruña\", \"La Rioja\",\n",
    "    \"Las Palmas\", \"León\", \"Lleida\", \"Lugo\", \"Madrid\", \"Málaga\", \"Murcia\", \"Navarra\", \"Ourense\",\n",
    "    \"Palencia\", \"Pontevedra\", \"Salamanca\", \"Santa Cruz de Tenerife\", \"Segovia\", \"Sevilla\", \"Soria\",\n",
    "    \"Tarragona\", \"Teruel\", \"Toledo\", \"Valencia\", \"Valladolid\", \"Vizcaya\", \"Zamora\", \"Zaragoza\"]\n",
    "\n",
    "provincias_con_variante = {\n",
    "    \"Bizkaia\" : \"Vizcaya\",\n",
    "    \"A Coruña\" : \"La Coruña\",\n",
    "    \"Gipuzkoa\" : \"Guipúzcoa\",\n",
    "    \"Zona Villaverde\" : \"Madrid\"}\n",
    "\n",
    "def extraer_provincia(ubicacion):\n",
    "\n",
    "    if not isinstance(ubicacion, str):\n",
    "        return None\n",
    "    \n",
    "    ubicacion_lower = ubicacion.lower()\n",
    "\n",
    "    for variante, provincia_real in provincias_con_variante.items():\n",
    "        if variante.lower() in ubicacion_lower:\n",
    "            return provincia_real\n",
    "    \n",
    "    for provincia in provincias:\n",
    "        if provincia.lower() in ubicacion_lower:\n",
    "            return provincia\n",
    "    \n",
    "    return ubicacion  # Devuelve el valor original si no se encuentra una provincia\n",
    "\n",
    "\n",
    "df1[\"ubicacion\"] = df1[\"ubicacion\"].apply(extraer_provincia)"
   ]
  },
  {
   "cell_type": "code",
   "execution_count": null,
   "id": "f7ff617e-78b0-4d95-9686-d9a313e7fcb2",
   "metadata": {},
   "outputs": [],
   "source": [
    "#limpiamos los valores que contienen otros países sustituyendolos por su pais\n",
    "paises = [\n",
    "    \"Albania\", \"Alemania\", \"Andorra\", \"Armenia\", \"Austria\", \"Azerbaiyán\", \"Bielorrusia\", \"Bélgica\",\n",
    "    \"Bosnia y Herzegovina\", \"Bulgaria\", \"Croacia\", \"Chipre\", \"Chequia\", \"Dinamarca\", \"Eslovaquia\",\n",
    "    \"Eslovenia\", \"España\", \"Estonia\", \"Finlandia\", \"Francia\", \"Israel\", \"Georgia\", \"Grecia\", \"Hungría\", \"Holanda\", \"Irlanda\",\n",
    "    \"Islandia\", \"Italia\", \"Kazajistán\", \"Kosovo\", \"Macedonia\", \"Letonia\", \"Liechtenstein\", \"Lituania\", \"Luxemburgo\",\n",
    "    \"Malta\", \"Moldavia\", \"Mónaco\", \"Montenegro\", \"Noruega\", \"Países Bajos\", \"Macedonia del Norte\", \"Polonia\",\n",
    "    \"Portugal\", \"Reino Unido\", \"Rumanía\", \"Rusia\", \"San Marino\", \"Serbia\", \"Suecia\", \"Suiza\", \"Turquía\", \"Ucrania\"\n",
    "\n",
    "]\n",
    "\n",
    "def extraer_pais(ubicacion):\n",
    "\n",
    "    if not isinstance(ubicacion, str):\n",
    "        return None\n",
    "    \n",
    "    ubicacion_lower = ubicacion.lower()\n",
    "    \n",
    "    for pais in paises:\n",
    "        if pais.lower() in ubicacion_lower:\n",
    "            return pais\n",
    "    \n",
    "    return ubicacion  # Devuelve el valor original si no se encuentra una provincia\n",
    "\n",
    "\n",
    "df1[\"ubicacion\"] = df1[\"ubicacion\"].apply(extraer_pais)"
   ]
  },
  {
   "cell_type": "code",
   "execution_count": null,
   "id": "33f61422-5630-436b-bf76-dc72ed9ede7f",
   "metadata": {},
   "outputs": [],
   "source": [
    "df1[\"ubicacion\"].unique()"
   ]
  },
  {
   "cell_type": "markdown",
   "id": "ecc7de15-d9b1-4c65-8118-e9f0bbbf9f16",
   "metadata": {},
   "source": [
    "#### IDIOMAS"
   ]
  },
  {
   "cell_type": "code",
   "execution_count": null,
   "id": "404bc73f-cd8a-49ce-a6f9-9ca4dc06cb49",
   "metadata": {},
   "outputs": [],
   "source": [
    "#limpiar la columna \"idiomas\" eliminando el nivel\n",
    "niveles = [\"(Alto)\", \"(Medio)\", \"(Excelente)\", \"(Bajo)\"]\n",
    "\n",
    "def limpiar_idiomas(texto):\n",
    "    if pd.isna(texto):\n",
    "        return None\n",
    "\n",
    "    palabras = texto.split()  \n",
    "    idiomas = []\n",
    "\n",
    "    for palabra in palabras:\n",
    "        if palabra not in niveles:\n",
    "            idiomas.append(palabra)\n",
    "    return idiomas\n",
    "\n",
    "df1[\"idiomas\"] = df1[\"idiomas\"].apply(limpiar_idiomas)"
   ]
  },
  {
   "cell_type": "code",
   "execution_count": null,
   "id": "ac57a305-4faf-42d8-937c-3cc3553f4261",
   "metadata": {},
   "outputs": [],
   "source": [
    "#convertir la columna de listas a texto separado por \",\"\n",
    "df1[\"idiomas\"] = df1[\"idiomas\"].apply(lambda x: \",\".join(x) if isinstance(x, list) else None)"
   ]
  },
  {
   "cell_type": "code",
   "execution_count": null,
   "id": "5517592d-d253-4023-95d7-827d017821c3",
   "metadata": {},
   "outputs": [],
   "source": [
    "#Reemplazar NaN por None\n",
    "df1[\"idiomas\"] = df1[\"idiomas\"].replace({pd.NA: None, np.nan: None})"
   ]
  },
  {
   "cell_type": "code",
   "execution_count": null,
   "id": "4a2b808d-078b-48a2-ba39-f0537b44e610",
   "metadata": {},
   "outputs": [],
   "source": [
    "df1[\"idiomas\"].unique()"
   ]
  },
  {
   "cell_type": "markdown",
   "id": "1e3bbba8-d900-4830-ab8e-b5ffa9f4ecfb",
   "metadata": {},
   "source": [
    "#### MODALIDAD"
   ]
  },
  {
   "cell_type": "code",
   "execution_count": null,
   "id": "eeefe856-9866-4dca-8ef9-ead9457f8db8",
   "metadata": {},
   "outputs": [],
   "source": [
    "#limpiamos la columna \"modalidad\" dejando solo los tres valores deseados (Remoto, Híbrido y Presencial)\n",
    "df1[\"modalidad\"] = df1[\"modalidad\"].apply(lambda x: x.replace(\"100% remoto\", \"Remoto\") if isinstance(x, str) else x)"
   ]
  },
  {
   "cell_type": "code",
   "execution_count": null,
   "id": "9fda9512-d37a-4925-8fbf-fca5ec75c9f7",
   "metadata": {},
   "outputs": [],
   "source": [
    "#limpiamos la columna \"modalidad\" dejando solo los tres valores deseados (Remoto, Híbrido y Presencial)\n",
    "df1[\"modalidad\"] = df1[\"modalidad\"].apply(lambda x: x.replace(\"100% remoto\", \"Remoto\") if isinstance(x, str) else x)"
   ]
  },
  {
   "cell_type": "code",
   "execution_count": null,
   "id": "52ef4411-b54a-49d9-86df-4c4d96a63bab",
   "metadata": {},
   "outputs": [],
   "source": [
    "df1[\"modalidad\"].unique()"
   ]
  },
  {
   "cell_type": "markdown",
   "id": "90354706-24d0-4ff6-b963-197365744d31",
   "metadata": {},
   "source": [
    "#### CONTRATO"
   ]
  },
  {
   "cell_type": "code",
   "execution_count": null,
   "id": "493b7b18-0112-4f76-a207-89fbd543e33b",
   "metadata": {},
   "outputs": [],
   "source": [
    "#Reemplazar NaN por None\n",
    "df1[\"contrato\"] = df1[\"contrato\"].replace({pd.NA: None, np.nan: None})"
   ]
  },
  {
   "cell_type": "code",
   "execution_count": null,
   "id": "a815fef3-7198-455a-8637-a855d94dd262",
   "metadata": {},
   "outputs": [],
   "source": [
    "df1[\"contrato\"].unique()"
   ]
  },
  {
   "cell_type": "markdown",
   "id": "c730df6c-8c1c-4618-8cd2-7810f2f5e90d",
   "metadata": {},
   "source": [
    "#### EXPERIENCIA"
   ]
  },
  {
   "cell_type": "code",
   "execution_count": null,
   "id": "5e715565-9685-43b2-986c-a3f7c3ba3251",
   "metadata": {},
   "outputs": [],
   "source": [
    "#limpiamos la columna experiencia sustituyendo los valores de texto por float (0, 0.5, 1, 2 ...)\n",
    "experiencia_requerida = {\n",
    "    \"Sin\" : 0,\n",
    "    \"Menos de un año\" : 0.5,\n",
    "    \"1 año\" : 1,\n",
    "    \"2 años\" : 2,\n",
    "    \"3 años\" : 3,\n",
    "    \"3-5 años\" : 3,\n",
    "    \"Más de 5 años\" : 5,\n",
    "    \"Más de 10 años\" : 10  \n",
    "}\n",
    "\n",
    "def limpiar_experiencia(valor):\n",
    "    if isinstance(valor, str):\n",
    "        return experiencia_requerida.get(valor, None)\n",
    "    return None\n",
    "\n",
    "df1[\"experiencia\"] = df1[\"experiencia\"].apply(limpiar_experiencia)"
   ]
  },
  {
   "cell_type": "code",
   "execution_count": null,
   "id": "5318e5e7-e2cf-4ab6-8ba6-3039e88fcb81",
   "metadata": {},
   "outputs": [],
   "source": [
    "#Reemplazar NaN por None\n",
    "df1[\"experiencia\"] = df1[\"experiencia\"].replace({pd.NA: None, np.nan: None})"
   ]
  },
  {
   "cell_type": "code",
   "execution_count": null,
   "id": "8f9982d1-dbbb-4bff-9f26-abaa3ddc5005",
   "metadata": {},
   "outputs": [],
   "source": [
    "df1[\"experiencia\"].unique()"
   ]
  },
  {
   "cell_type": "markdown",
   "id": "5a930081-9591-4c28-9689-0fde71eea379",
   "metadata": {},
   "source": [
    "#### DESCRIPCION"
   ]
  },
  {
   "cell_type": "code",
   "execution_count": null,
   "id": "5461c755-d2d8-4bba-af4d-4b6e659680c6",
   "metadata": {},
   "outputs": [],
   "source": [
    "#Reemplazar NaN por None\n",
    "df1[\"descripcion\"] = df1[\"descripcion\"].replace({pd.NA: None, np.nan: None})"
   ]
  },
  {
   "cell_type": "markdown",
   "id": "ec13551d-db74-40b0-9bf5-52b4e94d9aac",
   "metadata": {},
   "source": [
    "## OTRAS MODIFICACIONES"
   ]
  },
  {
   "cell_type": "code",
   "execution_count": null,
   "id": "c23fd0f4-1e87-4362-9c95-167e74b156e8",
   "metadata": {},
   "outputs": [],
   "source": [
    "#ordenar columnas\n",
    "columnas_ordenadas = [\"id_urls\", \"fecha\", \"oferta\", \"empresa\", \"funcion\", \"salario_min\", \"salario_max\",\n",
    "                      \"estudios\", \"experiencia\", \"ubicacion\", \"modalidad\", \"jornada\", \"contrato\",\n",
    "                      \"tecnologias_aptitudes\", \"idiomas\", \"portal_empleo\", \"descripcion\",\"fecha_extraccion\"]\n",
    "df1 = df1[columnas_ordenadas]"
   ]
  },
  {
   "cell_type": "code",
   "execution_count": null,
   "id": "e3fd8735-895a-490d-a56c-640478ec7016",
   "metadata": {},
   "outputs": [],
   "source": [
    "df1[\"fecha\"] = pd.to_datetime(df1[\"fecha\"])\n",
    "df1[\"salario_min\"] = df1[\"salario_min\"].astype(float)\n",
    "df1[\"salario_max\"] = df1[\"salario_max\"].astype(float)\n",
    "df1[\"experiencia\"] = df1[\"experiencia\"].astype(float)\n",
    "df1[\"fecha_extraccion\"] = pd.to_datetime(df1[\"fecha_extraccion\"])"
   ]
  },
  {
   "cell_type": "markdown",
   "id": "f70f265c-3415-4d03-b2f2-418047418513",
   "metadata": {},
   "source": [
    "## RESULTADO LIMPIEZA"
   ]
  },
  {
   "cell_type": "code",
   "execution_count": null,
   "id": "b9f9322e-f6a2-4cf7-a205-8bbba372b1f2",
   "metadata": {},
   "outputs": [],
   "source": [
    "df1.head()"
   ]
  },
  {
   "cell_type": "code",
   "execution_count": null,
   "id": "b83bceea-2bc8-4398-9084-10091c9a957f",
   "metadata": {},
   "outputs": [],
   "source": [
    "df1.info()"
   ]
  },
  {
   "cell_type": "markdown",
   "id": "6c624507-9895-4d5e-adaa-630803f26bb8",
   "metadata": {},
   "source": [
    "# 4. GUARDADO DATAFRAMES LIMPIOS"
   ]
  },
  {
   "cell_type": "code",
   "execution_count": null,
   "id": "dbe2d0dd-8f47-48c3-aea2-06232e25156f",
   "metadata": {},
   "outputs": [],
   "source": [
    "df1.to_csv(\"../csv/csv_limpios/Tecnoempleo_limpio.csv\", index=False)"
   ]
  },
  {
   "cell_type": "code",
   "execution_count": null,
   "id": "bb6dcf92-617f-4564-9a58-0509f107c9c1",
   "metadata": {},
   "outputs": [],
   "source": [
    "df2.to_csv(\"../csv/csv_limpios/Manfred_limpio.csv\", index=False)"
   ]
  },
  {
   "cell_type": "markdown",
   "id": "c991478d-d833-4ad7-b282-f7044ecd47ba",
   "metadata": {},
   "source": [
    "# 5. CONCATENACIÓN DATAFRAMES"
   ]
  },
  {
   "cell_type": "code",
   "execution_count": null,
   "id": "cc53a25c-5c43-42f1-bb09-f20a6fedf817",
   "metadata": {},
   "outputs": [],
   "source": [
    "df = pd.concat([df1, df2], ignore_index=True)"
   ]
  },
  {
   "cell_type": "code",
   "execution_count": null,
   "id": "8599aca2-55b1-464f-a707-bdf94abdbb7b",
   "metadata": {},
   "outputs": [],
   "source": [
    "df.shape"
   ]
  },
  {
   "cell_type": "code",
   "execution_count": null,
   "id": "4253e394-ab58-44f5-974a-99dd76575a35",
   "metadata": {},
   "outputs": [],
   "source": [
    "columnas_ordenadas = [\"id_urls\", \"fecha\", \"oferta\", \"empresa\", \"funcion\", \"salario_min\", \"salario_max\",\n",
    "                      \"estudios\", \"experiencia\", \"ubicacion\", \"modalidad\", \"jornada\", \"contrato\", \"skills\",\n",
    "                      \"tecnologias_aptitudes\", \"idiomas\", \"vacaciones\", \"beneficios\", \"portal_empleo\", \"descripcion\",\"fecha_extraccion\"]\n",
    "df = df[columnas_ordenadas]"
   ]
  },
  {
   "cell_type": "code",
   "execution_count": null,
   "id": "c10e07e2-1f6f-4c9e-9cbd-6a2908b5eb7f",
   "metadata": {},
   "outputs": [],
   "source": [
    "df.head()"
   ]
  },
  {
   "cell_type": "code",
   "execution_count": null,
   "id": "efd9eca9-2945-4c5d-8365-da72b78e0343",
   "metadata": {},
   "outputs": [],
   "source": [
    "df.info()"
   ]
  },
  {
   "cell_type": "markdown",
   "id": "a534b76a-dea5-4026-ab09-5865bfdceff7",
   "metadata": {},
   "source": [
    "# 6. LIMPIEZA COLUMNA \"tecnologias_aptitudes\""
   ]
  },
  {
   "cell_type": "markdown",
   "id": "e629eb9c-00a5-478a-a58c-1e58fb0c8087",
   "metadata": {},
   "source": [
    "A través de un dataframe (.csv) con gran cantidad de competencias del sector recorremos la columna para limpiarla y extraer estas competencias"
   ]
  },
  {
   "cell_type": "code",
   "execution_count": null,
   "id": "b2235d26-605b-4b03-8dd1-66fc7347879d",
   "metadata": {},
   "outputs": [],
   "source": [
    "df_competencias = pd.read_csv(\"../csv/Competencias Técnicas-UPDATE.csv\")"
   ]
  },
  {
   "cell_type": "code",
   "execution_count": null,
   "id": "745e2cae-926f-4a04-bd04-58a94689129b",
   "metadata": {},
   "outputs": [],
   "source": [
    "df_competencias.head()"
   ]
  },
  {
   "cell_type": "code",
   "execution_count": null,
   "id": "4fed78cc-a6d5-4044-8b90-4c38275cfec6",
   "metadata": {},
   "outputs": [],
   "source": [
    "df[\"tecnologias_aptitudes\"] = df[\"tecnologias_aptitudes\"].str.lower()"
   ]
  },
  {
   "cell_type": "code",
   "execution_count": null,
   "id": "2467cd17-1605-4bf5-88ca-865db6c83dea",
   "metadata": {},
   "outputs": [],
   "source": [
    "df_competencias[\"Competencia\"] = df_competencias[\"Competencia\"].str.lower()"
   ]
  },
  {
   "cell_type": "code",
   "execution_count": null,
   "id": "a5bfbcca-0e5c-4204-a3c4-4407a3b3c0f8",
   "metadata": {},
   "outputs": [],
   "source": [
    "def limpiar_columna_tecnologias_aptitudes(df_a, columna_valores, df_b, columna_a_limpiar):\n",
    "    # Obtener valores únicos limpios del primer DataFrame\n",
    "    valores_validos = (\n",
    "        df_a[columna_valores]\n",
    "        .dropna()\n",
    "        .astype(str)\n",
    "        .str.strip()\n",
    "        .unique()\n",
    "    )\n",
    "    valores_validos = [v.strip() for v in valores_validos if v]  # eliminar vacíos\n",
    "\n",
    "    # Función para limpiar los valores en la columna del segundo DataFrame\n",
    "    def filtrar_valores(cadena):\n",
    "        if pd.isna(cadena):\n",
    "            return None\n",
    "        elementos = [v.strip() for v in cadena.split(\",\")]\n",
    "        filtrados = [v for v in elementos if v in valores_validos]\n",
    "        return \", \".join(filtrados) if filtrados else None\n",
    "\n",
    "    # Aplicar limpieza\n",
    "    df_b[columna_a_limpiar] = df_b[columna_a_limpiar].apply(filtrar_valores)\n",
    "    return df_b"
   ]
  },
  {
   "cell_type": "code",
   "execution_count": null,
   "id": "f7270242-07cb-4f37-9112-060283b03ad4",
   "metadata": {},
   "outputs": [],
   "source": [
    "df = limpiar_columna_tecnologias_aptitudes(df_competencias, \"Competencia\", df, \"tecnologias_aptitudes\")"
   ]
  },
  {
   "cell_type": "markdown",
   "id": "10d43cc5-79f3-463e-bdab-b4434fd68603",
   "metadata": {},
   "source": [
    "# 7. LLENADO COLUMNAS A PARTIR DE DESCRIPCIÓN"
   ]
  },
  {
   "cell_type": "code",
   "execution_count": null,
   "id": "f2ad6936-f076-4612-b3b4-1e334953b25e",
   "metadata": {},
   "outputs": [],
   "source": [
    "#función para completar las columnas \"skills\" y \"beneficios\" a partir de la columna \"descripcion\"\n",
    "def completar_columna(df, columna_objetivo, columna_busqueda):\n",
    "    # Rellenar NaNs\n",
    "    df[columna_objetivo] = df[columna_objetivo].fillna('')\n",
    "    df[columna_busqueda] = df[columna_busqueda].fillna('').astype(str)\n",
    "\n",
    "    # Extraer valores únicos limpios de la columna objetivo\n",
    "    valores_unicos = (\n",
    "        df[columna_objetivo]\n",
    "        .str.split(',')\n",
    "        .explode()\n",
    "        .str.strip()\n",
    "        .dropna()\n",
    "        .unique()\n",
    "    )\n",
    "    valores_unicos = [v for v in valores_unicos if v]  # eliminar vacíos\n",
    "\n",
    "    # Función para completar valores ausentes\n",
    "    def completar(row):\n",
    "        if row[columna_objetivo].strip() == '':\n",
    "            encontrados = [v for v in valores_unicos if v.lower() in row[columna_busqueda].lower()]\n",
    "            return ', '.join(encontrados) if encontrados else None\n",
    "        return row[columna_objetivo]\n",
    "\n",
    "    # Aplicar al DataFrame\n",
    "    df[columna_objetivo] = df.apply(completar, axis=1)\n",
    "    return df"
   ]
  },
  {
   "cell_type": "code",
   "execution_count": null,
   "id": "6927e071-0a35-472e-86b2-3a5feaff915d",
   "metadata": {},
   "outputs": [],
   "source": [
    "df = completar_columna(df, \"skills\", \"descripcion\")\n",
    "df = completar_columna(df, \"beneficios\", \"descripcion\")"
   ]
  },
  {
   "cell_type": "code",
   "execution_count": null,
   "id": "ba1c6965-0668-4ef7-b649-260943dcd0ca",
   "metadata": {},
   "outputs": [],
   "source": [
    "#función para completar la columnas \"experiencia\" a partir de la columna \"descripcion\"\n",
    "def completar_columna_experiencia(df, columna_objetivo, columna_busqueda):\n",
    "    # Rellenar NaNs\n",
    "    df[columna_objetivo] = df[columna_objetivo].fillna('').astype(str)\n",
    "    df[columna_busqueda] = df[columna_busqueda].fillna('').astype(str)\n",
    "\n",
    "    # Lista fija de valores únicos (experiencias)\n",
    "    valores_unicos = [\n",
    "        \"Sin experiencia\",\n",
    "        \"Menos de un año de experiencia\",\n",
    "        \"1 año de experiencia\",\n",
    "        \"2 años de experiencia\",\n",
    "        \"3 años de experiencia\",\n",
    "        \"3-5 años de experiencia\",\n",
    "        \"Más de 5 años de experiencia\",\n",
    "        \"Más de 10 años de experiencia\"\n",
    "    ]\n",
    "\n",
    "    # Función para completar valores ausentes\n",
    "    def completar(row):\n",
    "        objetivo = str(row[columna_objetivo]).strip()\n",
    "        busqueda = str(row[columna_busqueda]).lower()\n",
    "        if objetivo == '':\n",
    "            encontrados = [v for v in valores_unicos if v.lower() in busqueda]\n",
    "            return ', '.join(encontrados) if encontrados else None\n",
    "        return row[columna_objetivo]\n",
    "\n",
    "    # Aplicar al DataFrame\n",
    "    df[columna_objetivo] = df.apply(completar, axis=1)\n",
    "    return df"
   ]
  },
  {
   "cell_type": "code",
   "execution_count": null,
   "id": "6507f472-fb5c-434a-8660-165c70f29a75",
   "metadata": {},
   "outputs": [],
   "source": [
    "df = completar_columna_experiencia(df, \"experiencia\", \"descripcion\")"
   ]
  },
  {
   "cell_type": "code",
   "execution_count": null,
   "id": "a3bb9d0b-961f-4ed4-85ca-a0d10a8b2e1f",
   "metadata": {},
   "outputs": [],
   "source": [
    "df[\"experiencia\"].unique()"
   ]
  },
  {
   "cell_type": "code",
   "execution_count": null,
   "id": "849acfd1-0754-46fe-9f38-a36edba43019",
   "metadata": {},
   "outputs": [],
   "source": [
    "#diccionario y función para sustituir el texto extraído a números\n",
    "experiencia_requerida = {\n",
    "    \"Sin experiencia\": 0,\n",
    "    \"Menos de un año de experiencia\": 0.5,\n",
    "    \"1 año de experiencia\": 1,\n",
    "    \"2 años de experiencia\": 2,\n",
    "    \"3 años de experiencia\": 3,\n",
    "    \"3-5 años de experiencia\": 3,\n",
    "    \"Más de 5 años de experiencia\": 5,\n",
    "    \"Más de 10 años de experiencia\": 10\n",
    "}\n",
    "\n",
    "def limpiar_experiencia(valor):\n",
    "    # Si ya es un número, lo mantenemos\n",
    "    if isinstance(valor, (int, float)) and not pd.isna(valor):\n",
    "        return valor\n",
    "\n",
    "    # Si es un string, tratamos de convertirlo o mapearlo\n",
    "    if isinstance(valor, str):\n",
    "        valor = valor.strip()\n",
    "\n",
    "        # Intentar convertir directamente a número (ej. '3.0', '5')\n",
    "        try:\n",
    "            return float(valor)\n",
    "        except ValueError:\n",
    "            pass\n",
    "\n",
    "        # Si contiene varias experiencias (ej. 'Sin experiencia, 3 años de experiencia')\n",
    "        if \",\" in valor:\n",
    "            partes = [v.strip() for v in valor.split(\",\")]\n",
    "            valores_convertidos = [experiencia_requerida.get(p) for p in partes if experiencia_requerida.get(p) is not None]\n",
    "            if valores_convertidos:\n",
    "                return max(valores_convertidos)  # puedes cambiar por min() o promedio\n",
    "            else:\n",
    "                return None\n",
    "\n",
    "        # Si es un valor mapeado único\n",
    "        return experiencia_requerida.get(valor, None)\n",
    "\n",
    "    return None"
   ]
  },
  {
   "cell_type": "code",
   "execution_count": null,
   "id": "2c996168-f78e-4d1a-aef3-9d9db4d4f365",
   "metadata": {},
   "outputs": [],
   "source": [
    "df[\"experiencia\"] = df[\"experiencia\"].apply(limpiar_experiencia)"
   ]
  },
  {
   "cell_type": "code",
   "execution_count": null,
   "id": "0866909d-6b2e-4e0a-9986-ecdd6a3c7d1b",
   "metadata": {},
   "outputs": [],
   "source": [
    "df[\"experiencia\"].unique()"
   ]
  },
  {
   "cell_type": "code",
   "execution_count": null,
   "id": "c949c45e-0bb9-42bd-9e07-4ce6378cf3d2",
   "metadata": {},
   "outputs": [],
   "source": [
    "#función para completar la columna \"contrato\" con los valores contenidos en la variable valores_unicos\n",
    "def completar_columna_contrato(df, columna_objetivo, columna_busqueda):\n",
    "    # Rellenar NaNs\n",
    "    df[columna_objetivo] = df[columna_objetivo].fillna('').astype(str)\n",
    "    df[columna_busqueda] = df[columna_busqueda].fillna('').astype(str)\n",
    "\n",
    "    # Lista fija de valores únicos (experiencias)\n",
    "    valores_unicos = [\n",
    "        'Indefinido', 'Temporal', 'A determinar', 'Freelance/Autónomo',\n",
    "       'Prácticas', 'Obra o servicio'\n",
    "    ]\n",
    "\n",
    "    # Función para completar valores ausentes\n",
    "    def completar(row):\n",
    "        objetivo = str(row[columna_objetivo]).strip()\n",
    "        busqueda = str(row[columna_busqueda]).lower()\n",
    "        if objetivo == '':\n",
    "            encontrados = [v for v in valores_unicos if v.lower() in busqueda]\n",
    "            return ', '.join(encontrados) if encontrados else None\n",
    "        return row[columna_objetivo]\n",
    "\n",
    "    # Aplicar al DataFrame\n",
    "    df[columna_objetivo] = df.apply(completar, axis=1)\n",
    "    return df"
   ]
  },
  {
   "cell_type": "code",
   "execution_count": null,
   "id": "b06fd3d6-aef6-4ad0-98f7-8721d982e1b2",
   "metadata": {},
   "outputs": [],
   "source": [
    "df = completar_columna_contrato(df, \"contrato\", \"descripcion\")"
   ]
  },
  {
   "cell_type": "markdown",
   "id": "d287ead8-250c-41c9-827d-839b74cc22b0",
   "metadata": {},
   "source": [
    "# 8. REEMPLAZO NaN por None y TIPO DE DATO"
   ]
  },
  {
   "cell_type": "code",
   "execution_count": null,
   "id": "5a6706a2-bf46-407b-9b77-17198eea8fdb",
   "metadata": {},
   "outputs": [],
   "source": [
    "df = df.replace(np.nan, None)"
   ]
  },
  {
   "cell_type": "code",
   "execution_count": null,
   "id": "c17b680d-5877-4283-934b-62e0a85da302",
   "metadata": {},
   "outputs": [],
   "source": [
    "df[\"fecha\"] = pd.to_datetime(df[\"fecha\"])\n",
    "df[\"salario_min\"] = df[\"salario_min\"].astype(float)\n",
    "df[\"salario_max\"] = df[\"salario_max\"].astype(float)\n",
    "df[\"estudios\"] = df[\"estudios\"].astype(bool)\n",
    "df[\"experiencia\"] = df[\"experiencia\"].astype(float)\n",
    "df[\"vacaciones\"] = df[\"vacaciones\"].astype(\"Int64\")\n",
    "df[\"fecha_extraccion\"] = pd.to_datetime(df[\"fecha_extraccion\"])"
   ]
  },
  {
   "cell_type": "markdown",
   "id": "63469439-8363-4669-af05-6034581fa6d0",
   "metadata": {},
   "source": [
    "# 9. GUARDADO DATAFRAME LIMPIO (.csv)"
   ]
  },
  {
   "cell_type": "code",
   "execution_count": null,
   "id": "f25ec99d-cb13-4189-bf6e-a4743a513d27",
   "metadata": {},
   "outputs": [],
   "source": [
    "df.to_csv(\"../csv/PARTE_1_2_df_final_limpio.csv\", index=False)"
   ]
  }
 ],
 "metadata": {
  "kernelspec": {
   "display_name": "Python [conda env:base] *",
   "language": "python",
   "name": "conda-base-py"
  },
  "language_info": {
   "codemirror_mode": {
    "name": "ipython",
    "version": 3
   },
   "file_extension": ".py",
   "mimetype": "text/x-python",
   "name": "python",
   "nbconvert_exporter": "python",
   "pygments_lexer": "ipython3",
   "version": "3.12.7"
  }
 },
 "nbformat": 4,
 "nbformat_minor": 5
}
