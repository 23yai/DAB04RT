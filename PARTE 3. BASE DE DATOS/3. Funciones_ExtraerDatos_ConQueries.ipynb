{
 "cells": [
  {
   "cell_type": "code",
   "execution_count": 2,
   "id": "255ea130-e193-4c00-b89d-9fb122885ad9",
   "metadata": {},
   "outputs": [],
   "source": [
    "import pandas as pd\n",
    "\n",
    "import mysql\n",
    "import mysql.connector"
   ]
  },
  {
   "cell_type": "code",
   "execution_count": 4,
   "id": "b1d8931a-958f-41fb-8e76-0bf0b8ba99bd",
   "metadata": {},
   "outputs": [],
   "source": [
    "import plotly.express as px\n",
    "import pandas as pd\n",
    "import matplotlib.pyplot as plt\n",
    "import seaborn as sns\n",
    "\n"
   ]
  },
  {
   "cell_type": "code",
   "execution_count": 6,
   "id": "be48829a-0241-41c2-9f8a-897addd8fe0e",
   "metadata": {},
   "outputs": [],
   "source": [
    "db = mysql.connector.connect(host     = \"localhost\",\n",
    "                             user     = \"root\",\n",
    "                             password = \"contraseña1234\",\n",
    "                             database = \"ofertas_empleo\")\n",
    "cursor = db.cursor()"
   ]
  },
  {
   "cell_type": "code",
   "execution_count": 8,
   "id": "95283c04-3504-4a73-82fb-48a030a14799",
   "metadata": {},
   "outputs": [],
   "source": [
    "def conectar_db(host = \"localhost\", user = \"root\", password = \"contraseña1234\", database = \"ofertas_empleo\"):\n",
    "    return mysql.connector.connect(host = host,\n",
    "                                    user = user,\n",
    "                                    password = password,\n",
    "                                    database = database\n",
    "                                )"
   ]
  },
  {
   "cell_type": "code",
   "execution_count": 10,
   "id": "8f50b6b5-b094-4de3-997f-890697d94db5",
   "metadata": {},
   "outputs": [],
   "source": [
    "def ejecutar_query(query, db_conectada):\n",
    "    cursor = db_conectada.cursor()\n",
    "    cursor.execute(query)\n",
    "    data = cursor.fetchall()\n",
    "    columnas = [col[0] for col in cursor.description]\n",
    "    df = pd.DataFrame(data, columns=columnas)\n",
    "    cursor.close()\n",
    "    return df"
   ]
  },
  {
   "cell_type": "code",
   "execution_count": 12,
   "id": "c014655d-b20d-4996-9e2f-3a206fc1304e",
   "metadata": {},
   "outputs": [
    {
     "name": "stdout",
     "output_type": "stream",
     "text": [
      "           ubicacion  cantidad_ofertas\n",
      "0             Madrid              1629\n",
      "1        Teletrabajo               813\n",
      "2          Barcelona               591\n",
      "3             Málaga               206\n",
      "4           Valencia               115\n",
      "..               ...               ...\n",
      "86         Santander                 1\n",
      "87              Lugo                 1\n",
      "88     San Sebastián                 1\n",
      "89    Madrid, Málaga                 1\n",
      "90  Palma, Barcelona                 1\n",
      "\n",
      "[91 rows x 2 columns]\n"
     ]
    }
   ],
   "source": [
    "#cantidad de ofertas por ubicacion\n",
    "query = '''SELECT \n",
    "            u.ubicacion,\n",
    "            COUNT(o.id_urls) AS cantidad_ofertas\n",
    "         FROM ofertas o\n",
    "         JOIN ubicacion u ON o.id_ubicacion = u.id_ubicacion\n",
    "         GROUP BY u.ubicacion\n",
    "         ORDER BY cantidad_ofertas DESC;'''\n",
    "\n",
    "db_conectada = conectar_db()\n",
    "\n",
    "df_ofertas_por_ubicacion = ejecutar_query(query, db_conectada)\n",
    "\n",
    "print(df_ofertas_por_ubicacion)\n",
    "\n",
    "db_conectada.close()"
   ]
  },
  {
   "cell_type": "code",
   "execution_count": 14,
   "id": "64db26cb-d074-4d5a-addb-56fb2d6a7795",
   "metadata": {},
   "outputs": [
    {
     "name": "stdout",
     "output_type": "stream",
     "text": [
      "       ubicacion           funcion  salario_promedio\n",
      "0       Alemania         Consultor          113000.0\n",
      "1    Reino Unido    Arquitecto TIC           91000.0\n",
      "2    Teletrabajo    Jefe de Equipo           90500.0\n",
      "3         Suecia       Programador           90000.0\n",
      "4         Madrid  Técnico Software           87000.0\n",
      "..           ...               ...               ...\n",
      "219       Málaga   Soporte Técnico           16000.0\n",
      "220   Valladolid          Operador           15500.0\n",
      "221     Asturias    Diseño gráfico           15500.0\n",
      "222    Cantabria          Helpdesk           15500.0\n",
      "223  Teletrabajo   Soporte Técnico             850.0\n",
      "\n",
      "[224 rows x 3 columns]\n"
     ]
    }
   ],
   "source": [
    "#media salarial por función en cada ubicacion\n",
    "query = '''SELECT \n",
    "            u.ubicacion,\n",
    "            o.funcion,\n",
    "            AVG((o.salario_min + o.salario_max)/2) AS salario_promedio\n",
    "        FROM ofertas o\n",
    "        JOIN ubicacion u ON o.id_ubicacion = u.id_ubicacion\n",
    "        WHERE o.salario_min IS NOT NULL AND o.salario_max IS NOT NULL\n",
    "        GROUP BY u.ubicacion, o.funcion\n",
    "        ORDER BY salario_promedio DESC;'''\n",
    "\n",
    "db_conectada = conectar_db()\n",
    "\n",
    "df_salario_por_funcion_ubicacion = ejecutar_query(query, db_conectada)\n",
    "\n",
    "print(df_salario_por_funcion_ubicacion)\n",
    "\n",
    "db_conectada.close()"
   ]
  },
  {
   "cell_type": "code",
   "execution_count": 16,
   "id": "9a04bb56-cacf-418a-be1d-974a37d4fa2b",
   "metadata": {},
   "outputs": [
    {
     "name": "stdout",
     "output_type": "stream",
     "text": [
      "      salario_medio\n",
      "0           52500.0\n",
      "1           52500.0\n",
      "2           86000.0\n",
      "3           40000.0\n",
      "4           70000.0\n",
      "...             ...\n",
      "2004        28500.0\n",
      "2005        27000.0\n",
      "2006        42000.0\n",
      "2007        40500.0\n",
      "2008        27000.0\n",
      "\n",
      "[2009 rows x 1 columns]\n"
     ]
    }
   ],
   "source": [
    "#obtener los salarios medios de las ofertas\n",
    "query = '''SELECT \n",
    "            (salario_min + salario_max) / 2 AS salario_medio\n",
    "        FROM ofertas\n",
    "        WHERE salario_min IS NOT NULL AND salario_max IS NOT NULL;'''\n",
    "\n",
    "db_conectada = conectar_db()\n",
    "\n",
    "df_salarios_ofertas = ejecutar_query(query, db_conectada)\n",
    "\n",
    "print(df_salarios_ofertas)\n",
    "\n",
    "db_conectada.close()"
   ]
  },
  {
   "cell_type": "code",
   "execution_count": 18,
   "id": "e04585e4-81ae-46b5-8ad5-c617daf5bf5f",
   "metadata": {},
   "outputs": [
    {
     "name": "stdout",
     "output_type": "stream",
     "text": [
      "   media_salario   std_salario\n",
      "0   46805.893479  15385.761889\n"
     ]
    }
   ],
   "source": [
    "#Obtener la media y la desviación estándar de los salarios\n",
    "query = '''SELECT \n",
    "            AVG((salario_min + salario_max)/2) AS media_salario,\n",
    "            STDDEV((salario_min + salario_max)/2) AS std_salario\n",
    "        FROM ofertas\n",
    "        WHERE salario_min IS NOT NULL AND salario_max IS NOT NULL;'''\n",
    "\n",
    "db_conectada = conectar_db()\n",
    "\n",
    "df_media_desviacionstd_salarios = ejecutar_query(query, db_conectada)\n",
    "\n",
    "print(df_media_desviacionstd_salarios)\n",
    "\n",
    "db_conectada.close()"
   ]
  },
  {
   "cell_type": "code",
   "execution_count": 20,
   "id": "6d78e2cd-84dd-43ae-bf76-771ffa099871",
   "metadata": {},
   "outputs": [
    {
     "name": "stdout",
     "output_type": "stream",
     "text": [
      "            ubicacion  salario_medio\n",
      "0              Madrid        45000.0\n",
      "1              Madrid        67500.0\n",
      "2              Madrid        40000.0\n",
      "3              Madrid        60000.0\n",
      "4              Madrid       100000.0\n",
      "..                ...            ...\n",
      "990  Madrid, Zaragoza        50000.0\n",
      "991  Madrid, Zaragoza        41500.0\n",
      "992     San Sebastián        37500.0\n",
      "993    Madrid, Málaga        35000.0\n",
      "994  Palma, Barcelona        57500.0\n",
      "\n",
      "[995 rows x 2 columns]\n"
     ]
    }
   ],
   "source": [
    "#Salario medio por oferta y ubicación\n",
    "query = '''SELECT \n",
    "            u.ubicacion,\n",
    "            (o.salario_min + o.salario_max) / 2 AS salario_medio\n",
    "        FROM ofertas o\n",
    "        JOIN ubicacion u ON o.id_ubicacion = u.id_ubicacion\n",
    "        WHERE o.salario_min IS NOT NULL AND o.salario_max IS NOT NULL;'''\n",
    "\n",
    "db_conectada = conectar_db()\n",
    "\n",
    "df_salario_medio_por_oferta_ubicacion = ejecutar_query(query, db_conectada)\n",
    "\n",
    "print(df_salario_medio_por_oferta_ubicacion)\n",
    "\n",
    "db_conectada.close()"
   ]
  },
  {
   "cell_type": "code",
   "execution_count": 22,
   "id": "583ea3a2-7337-406b-8631-c0e93a2dcc91",
   "metadata": {},
   "outputs": [
    {
     "name": "stdout",
     "output_type": "stream",
     "text": [
      "                    ubicacion  salario_promedio\n",
      "0                      Suecia      86500.000000\n",
      "1                    Alemania      80785.714286\n",
      "2                 Reino Unido      76666.666667\n",
      "3                     Logroño      65000.000000\n",
      "4   Madrid, Valencia, Sevilla      65000.000000\n",
      "5                     Holanda      62250.000000\n",
      "6            Palma, Barcelona      57500.000000\n",
      "7            A Coruña, Madrid      57500.000000\n",
      "8                     Navarra      54500.000000\n",
      "9                     Córdoba      54000.000000\n",
      "10                    Andorra      54000.000000\n",
      "11           Zaragoza, Madrid      50000.000000\n",
      "12                     Málaga      49966.666667\n",
      "13                     España      48812.500000\n",
      "14           Valencia, Madrid      48500.000000\n",
      "15           Madrid, A Coruña      47750.000000\n",
      "16                      Gijón      47500.000000\n",
      "17                  Guipúzcoa      47500.000000\n",
      "18                   Palencia      46500.000000\n",
      "19                   Albacete      46500.000000\n",
      "20           Madrid, Zaragoza      45750.000000\n",
      "21                  Barcelona      45735.168539\n",
      "22           Madrid, Valencia      45000.000000\n",
      "23                     Madrid      44500.000000\n",
      "24                     Girona      44500.000000\n",
      "25     Madrid, Sevilla, Palma      44000.000000\n",
      "26                    Sevilla      42200.000000\n",
      "27                     Burgos      42000.000000\n",
      "28                    Granada      41500.000000\n",
      "29                    Segovia      40500.000000\n",
      "30                Teletrabajo      40292.948718\n",
      "31    Bilbao, Madrid, Sevilla      40000.000000\n",
      "32                       Vigo      40000.000000\n",
      "33                 Alcobendas      40000.000000\n",
      "34                  Santander      40000.000000\n",
      "35                   A Coruña      39759.259259\n",
      "36                   Baleares      39750.000000\n",
      "37                     Murcia      39750.000000\n",
      "38                      Cádiz      39000.000000\n",
      "39                   Valencia      37573.207547\n",
      "40                     Bilbao      37500.000000\n",
      "41              San Sebastián      37500.000000\n",
      "42                     Toledo      35666.666667\n",
      "43             Madrid, Málaga      35000.000000\n",
      "44                   Zaragoza      34500.000000\n",
      "45                  La Coruña      34500.000000\n",
      "46                   Alicante      34312.500000\n",
      "47                  Castellón      33300.000000\n",
      "48                    Vizcaya      32800.000000\n",
      "49                 Valladolid      32166.666667\n",
      "50                      Malta      30000.000000\n",
      "51                       Lugo      30000.000000\n",
      "52                   Asturias      29833.333333\n",
      "53                     Lleida      27000.000000\n",
      "54                Ciudad Real      24000.000000\n",
      "55                     Oviedo      23000.000000\n",
      "56         Bergondo, A Coruña      22000.000000\n",
      "57                      Álava      18000.000000\n",
      "58                  Cantabria      15500.000000\n"
     ]
    }
   ],
   "source": [
    "#salario promedio solo por ubicación. útil si la gráfico es más comparativo que dispersivo\n",
    "query = '''SELECT \n",
    "            u.ubicacion,\n",
    "            AVG((o.salario_min + o.salario_max) / 2) AS salario_promedio\n",
    "        FROM ofertas o\n",
    "        JOIN ubicacion u ON o.id_ubicacion = u.id_ubicacion\n",
    "        WHERE o.salario_min IS NOT NULL AND o.salario_max IS NOT NULL\n",
    "        GROUP BY u.ubicacion\n",
    "        ORDER BY salario_promedio DESC;'''\n",
    "\n",
    "db_conectada = conectar_db()\n",
    "\n",
    "df_salario_medio_ubicacion = ejecutar_query(query, db_conectada)\n",
    "\n",
    "print(df_salario_medio_ubicacion)\n",
    "\n",
    "db_conectada.close()"
   ]
  },
  {
   "cell_type": "code",
   "execution_count": 24,
   "id": "2bda2370-dd39-489b-a3a3-c70002023993",
   "metadata": {},
   "outputs": [
    {
     "name": "stdout",
     "output_type": "stream",
     "text": [
      "               funcion  experiencia  salario_medio\n",
      "0            Marketing          3.0        42000.0\n",
      "1             Analista          2.0        57000.0\n",
      "2             Big Data          3.0        57000.0\n",
      "3        Administrador         10.0        52500.0\n",
      "4        Administrador          0.0        42000.0\n",
      "..                 ...          ...            ...\n",
      "725           Analista          1.0        28500.0\n",
      "726             Tester          2.0        27000.0\n",
      "727          Consultor          3.0        42000.0\n",
      "728  Desarrollador Web          3.0        40500.0\n",
      "729     Diseño gráfico          2.0        27000.0\n",
      "\n",
      "[730 rows x 3 columns]\n"
     ]
    }
   ],
   "source": [
    "#Salario medio, experiencia y función\n",
    "query = '''SELECT \n",
    "            o.funcion,\n",
    "            o.experiencia,\n",
    "            (o.salario_min + o.salario_max) / 2 AS salario_medio\n",
    "        FROM ofertas o\n",
    "        WHERE o.salario_min IS NOT NULL \n",
    "          AND o.salario_max IS NOT NULL\n",
    "          AND o.experiencia IS NOT NULL;'''\n",
    "\n",
    "db_conectada = conectar_db()\n",
    "\n",
    "df_salario_medio_experiencia_funcion = ejecutar_query(query, db_conectada)\n",
    "\n",
    "print(df_salario_medio_experiencia_funcion)\n",
    "\n",
    "db_conectada.close()"
   ]
  },
  {
   "cell_type": "code",
   "execution_count": 26,
   "id": "d6dbc2bd-fefc-4a74-b3b6-6aff1623db27",
   "metadata": {},
   "outputs": [
    {
     "name": "stdout",
     "output_type": "stream",
     "text": [
      "              funcion  experiencia  salario_promedio\n",
      "0       Administrador          0.0      42000.000000\n",
      "1       Administrador          1.0      33000.000000\n",
      "2       Administrador          2.0      38000.000000\n",
      "3       Administrador          3.0      37275.000000\n",
      "4       Administrador          5.0      44250.000000\n",
      "..                ...          ...               ...\n",
      "119  Técnico Hardware          3.0      36000.000000\n",
      "120  Técnico Software          1.0      55125.000000\n",
      "121            Tester          1.0      29500.000000\n",
      "122            Tester          2.0      39166.666667\n",
      "123            Tester          3.0      36300.000000\n",
      "\n",
      "[124 rows x 3 columns]\n"
     ]
    }
   ],
   "source": [
    "#Opcional: agrupar el promedio por experiencia y función\n",
    "query = '''SELECT \n",
    "            o.funcion,\n",
    "            o.experiencia,\n",
    "            AVG((o.salario_min + o.salario_max) / 2) AS salario_promedio\n",
    "        FROM ofertas o\n",
    "        WHERE o.salario_min IS NOT NULL \n",
    "          AND o.salario_max IS NOT NULL\n",
    "          AND o.experiencia IS NOT NULL\n",
    "        GROUP BY o.funcion, o.experiencia\n",
    "        ORDER BY o.funcion, o.experiencia;'''\n",
    "\n",
    "db_conectada = conectar_db()\n",
    "\n",
    "df_salario_promedio_experiencia_funcion = ejecutar_query(query, db_conectada)\n",
    "\n",
    "print(df_salario_promedio_experiencia_funcion)\n",
    "\n",
    "db_conectada.close()"
   ]
  },
  {
   "cell_type": "code",
   "execution_count": 38,
   "id": "0118e63b-fb07-439e-b3c1-0692e7e42052",
   "metadata": {},
   "outputs": [
    {
     "name": "stdout",
     "output_type": "stream",
     "text": [
      "   funcion                          skill  veces\n",
      "0     None        Adaptabilidad al cambio    267\n",
      "1     None           Aprendizaje Continuo    177\n",
      "2     None              Trabajo en equipo    134\n",
      "3     None            Atención al detalle    116\n",
      "4     None       Capacidad de autogestión     99\n",
      "5     None                   Proactividad     67\n",
      "6     None            Comunicación verbal     57\n",
      "7     None                      Liderazgo     54\n",
      "8     None    Autonomía en el aprendizaje     43\n",
      "9     None           Comunicación escrita     33\n",
      "10    None          Pensamiento analítico     33\n",
      "11    None              Gestión de equipo     21\n",
      "12    None      Capacidad de dar feedback     15\n",
      "13    None     Habilidades de negociación     10\n",
      "14    None           Pensamiento creativo      7\n",
      "15    None     Comunicación intercultural      6\n",
      "16    None           Capacidad de escucha      6\n",
      "17    None  Capacidad de recibir feedback      5\n",
      "18    None         Inteligencia emocional      4\n",
      "19    None     Capacidad de mentorización      4\n",
      "20    None             Visión estratégica      3\n",
      "21    None  Tolerancia a la incertidumbre      3\n",
      "22    None      Capacidad de presentación      2\n",
      "23    None                 Visión crítica      2\n",
      "24    None       Capacidad de abstracción      1\n"
     ]
    }
   ],
   "source": [
    "#Skills más solicitadas por funcion\n",
    "query = '''SELECT \n",
    "          o.funcion,\n",
    "          s.skills        AS skill,\n",
    "          COUNT(*)        AS veces\n",
    "        FROM ofertas o\n",
    "        JOIN oferta_skill os  ON o.id_urls    = os.id_urls\n",
    "        JOIN skills        s  ON os.id_skills = s.id_skills\n",
    "        GROUP BY o.funcion, s.skills\n",
    "        ORDER BY o.funcion, veces DESC;'''\n",
    "\n",
    "db_conectada = conectar_db()\n",
    "\n",
    "df_skill_mas_solicitados_por_puesto = ejecutar_query(query, db_conectada)\n",
    "\n",
    "print(df_skill_mas_solicitados_por_puesto)\n",
    "\n",
    "db_conectada.close()"
   ]
  },
  {
   "cell_type": "code",
   "execution_count": 28,
   "id": "284fb306-93da-4af7-b501-8b143b11d3e0",
   "metadata": {},
   "outputs": [
    {
     "name": "stdout",
     "output_type": "stream",
     "text": [
      "     funcion habilidad_tecnica  cantidad_ofertas\n",
      "0       None              Java               139\n",
      "1       None        JavaScript               102\n",
      "2       None            Python               101\n",
      "3       None               PHP                92\n",
      "4       None               AWS                49\n",
      "...      ...               ...               ...\n",
      "1276  Tester           Vsphere                 1\n",
      "1277  Tester           Postman                 1\n",
      "1278  Tester              apis                 1\n",
      "1279  Tester               ALM                 1\n",
      "1280  Tester             VoLTE                 1\n",
      "\n",
      "[1281 rows x 3 columns]\n"
     ]
    }
   ],
   "source": [
    "#Tecnologías más solicitadas por funcion\n",
    "query = '''SELECT\n",
    "            o.funcion,\n",
    "            t.tecnologias_aptitudes AS habilidad_tecnica,\n",
    "            COUNT(*) AS cantidad_ofertas\n",
    "        FROM\n",
    "            ofertas o\n",
    "        JOIN\n",
    "            oferta_tecnologia ot ON o.id_urls = ot.id_urls\n",
    "        JOIN\n",
    "            tecnologias_aptitudes t ON ot.id_tecnologias = t.id_tecnologias\n",
    "        GROUP BY\n",
    "            o.funcion, t.tecnologias_aptitudes\n",
    "        ORDER BY\n",
    "            o.funcion, cantidad_ofertas DESC;'''\n",
    "\n",
    "db_conectada = conectar_db()\n",
    "\n",
    "df_tecnologias_mas_solicitadas_por_puesto = ejecutar_query(query, db_conectada)\n",
    "\n",
    "print(df_tecnologias_mas_solicitadas_por_puesto)\n",
    "\n",
    "db_conectada.close()"
   ]
  }
 ],
 "metadata": {
  "kernelspec": {
   "display_name": "Python 3 (ipykernel)",
   "language": "python",
   "name": "python3"
  },
  "language_info": {
   "codemirror_mode": {
    "name": "ipython",
    "version": 3
   },
   "file_extension": ".py",
   "mimetype": "text/x-python",
   "name": "python",
   "nbconvert_exporter": "python",
   "pygments_lexer": "ipython3",
   "version": "3.12.7"
  }
 },
 "nbformat": 4,
 "nbformat_minor": 5
}
