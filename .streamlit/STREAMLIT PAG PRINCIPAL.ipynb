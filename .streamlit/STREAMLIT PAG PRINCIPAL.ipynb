{
 "cells": [
  {
   "cell_type": "code",
   "execution_count": 3,
   "id": "35dec6a9-3fa3-421a-bd59-0b132e6647a9",
   "metadata": {},
   "outputs": [
    {
     "ename": "SyntaxError",
     "evalue": "invalid non-printable character U+200B (2531633399.py, line 3)",
     "output_type": "error",
     "traceback": [
      "\u001b[1;36m  Cell \u001b[1;32mIn[3], line 3\u001b[1;36m\u001b[0m\n\u001b[1;33m    La página de inicio debe ser atractiva y proporcionar una visión general de la aplicación. Puedes incluir:​\u001b[0m\n\u001b[1;37m                                                                                                              ^\u001b[0m\n\u001b[1;31mSyntaxError\u001b[0m\u001b[1;31m:\u001b[0m invalid non-printable character U+200B\n"
     ]
    }
   ],
   "source": [
    "Vista Principal (Landing Page)\n",
    "\n",
    "La página de inicio debe ser atractiva y proporcionar una visión general de la aplicación. Puedes incluir:​\n",
    "\n",
    "    Título y descripción de la aplicación.\n",
    "\n",
    "    Imagen o logotipo representativo.\n",
    "\n",
    "    Resumen de funcionalidades disponibles.\n",
    "\n",
    "    Botones de navegación a las demás vistas.\n"
   ]
  },
  {
   "cell_type": "code",
   "execution_count": null,
   "id": "5f276e57-5bf1-4f48-86ce-153af6a34ef5",
   "metadata": {},
   "outputs": [],
   "source": [
    "import streamlit as st\n",
    "\n",
    "st.set_page_config(page_title=\"Inicio\", layout=\"wide\")\n",
    "\n",
    "st.title(\"Visor de Ofertas de Empleo Tecnológico\")\n",
    "st.markdown(\"\"\"\n",
    "Bienvenido al visor interactivo de ofertas de empleo. Navega por las diferentes secciones para explorar y comparar oportunidades laborales en el sector tecnológico.\n",
    "\"\"\")\n",
    "\n",
    "st.image(\"poner un logo.png\", width=300)  # No tenemso logo\n",
    "\n",
    "st.markdown(\"### Funcionalidades:\")\n",
    "st.markdown(\"\"\"\n",
    "- Visualización de datos con filtros interactivos y mapas.\n",
    "- Búsqueda y comparación detallada de ofertas de empleo.\n",
    "\"\"\")"
   ]
  }
 ],
 "metadata": {
  "kernelspec": {
   "display_name": "Python [conda env:base] *",
   "language": "python",
   "name": "conda-base-py"
  },
  "language_info": {
   "codemirror_mode": {
    "name": "ipython",
    "version": 3
   },
   "file_extension": ".py",
   "mimetype": "text/x-python",
   "name": "python",
   "nbconvert_exporter": "python",
   "pygments_lexer": "ipython3",
   "version": "3.12.7"
  }
 },
 "nbformat": 4,
 "nbformat_minor": 5
}
