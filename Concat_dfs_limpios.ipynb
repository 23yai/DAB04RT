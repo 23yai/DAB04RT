{
 "cells": [
  {
   "cell_type": "code",
   "execution_count": 1,
   "id": "ade1b937-1c6c-45d9-a4de-db076a1bbad8",
   "metadata": {},
   "outputs": [],
   "source": [
    "import pandas as pd\n",
    "import numpy as np"
   ]
  },
  {
   "cell_type": "code",
   "execution_count": 2,
   "id": "652d6cf7-8fa4-49f2-8fa5-9a051d737b70",
   "metadata": {},
   "outputs": [],
   "source": [
    "df1_limpio = pd.read_csv(\"Tecnoempleo_limpio.csv\")\n",
    "df2_limpio = pd.read_csv(\"Manfred_limpio.csv\")"
   ]
  },
  {
   "cell_type": "code",
   "execution_count": 3,
   "id": "7343b45f-3897-429d-9862-97cd5a1d4ff4",
   "metadata": {},
   "outputs": [],
   "source": [
    "df_final = pd.concat([df1_limpio, df2_limpio])"
   ]
  },
  {
   "cell_type": "code",
   "execution_count": 4,
   "id": "b2839a77-8903-46b2-a6bc-555525892d0a",
   "metadata": {},
   "outputs": [],
   "source": [
    "df_final = pd.concat([df1_limpio, df2_limpio], ignore_index=True)"
   ]
  },
  {
   "cell_type": "code",
   "execution_count": 5,
   "id": "a8df2976-475c-4862-8814-dcd6d8217a4f",
   "metadata": {},
   "outputs": [],
   "source": [
    "df_final = df_final.drop(columns = [\"Unnamed: 0\"])"
   ]
  },
  {
   "cell_type": "code",
   "execution_count": 6,
   "id": "514a4f5b-ff92-48ca-b856-17f6c5709eaf",
   "metadata": {},
   "outputs": [
    {
     "data": {
      "text/plain": [
       "(5236, 20)"
      ]
     },
     "execution_count": 6,
     "metadata": {},
     "output_type": "execute_result"
    }
   ],
   "source": [
    "df_final.shape"
   ]
  },
  {
   "cell_type": "code",
   "execution_count": 7,
   "id": "be39756a-b4e5-4205-bd14-80709cacd631",
   "metadata": {},
   "outputs": [],
   "source": [
    "columnas_ordenadas = [\"id_urls\", \"fecha\", \"oferta\", \"empresa\", \"funcion\", \"salario_min\", \"salario_max\",\n",
    "                      \"estudios\", \"experiencia\", \"ubicacion\", \"modalidad\", \"jornada\", \"contrato\", \"skills\",\n",
    "                      \"tecnologias_aptitudes\", \"idiomas\", \"vacaciones\", \"beneficios\", \"portal_empleo\", \"descripcion\"]\n",
    "df_final = df_final[columnas_ordenadas]"
   ]
  },
  {
   "cell_type": "code",
   "execution_count": 8,
   "id": "5bdf6164-d0d4-48cb-b701-0cab6f8f5515",
   "metadata": {},
   "outputs": [],
   "source": [
    "df_final = df_final.replace(np.nan, None)"
   ]
  },
  {
   "cell_type": "code",
   "execution_count": 9,
   "id": "09bba492-bcf3-4233-8d99-fb61c0d91ba1",
   "metadata": {},
   "outputs": [
    {
     "name": "stdout",
     "output_type": "stream",
     "text": [
      "<class 'pandas.core.frame.DataFrame'>\n",
      "RangeIndex: 5236 entries, 0 to 5235\n",
      "Data columns (total 20 columns):\n",
      " #   Column                 Non-Null Count  Dtype \n",
      "---  ------                 --------------  ----- \n",
      " 0   id_urls                5236 non-null   object\n",
      " 1   fecha                  5225 non-null   object\n",
      " 2   oferta                 5236 non-null   object\n",
      " 3   empresa                5233 non-null   object\n",
      " 4   funcion                3956 non-null   object\n",
      " 5   salario_min            2009 non-null   object\n",
      " 6   salario_max            2009 non-null   object\n",
      " 7   estudios               3957 non-null   object\n",
      " 8   experiencia            3956 non-null   object\n",
      " 9   ubicacion              4221 non-null   object\n",
      " 10  modalidad              3409 non-null   object\n",
      " 11  jornada                4989 non-null   object\n",
      " 12  contrato               3956 non-null   object\n",
      " 13  skills                 1169 non-null   object\n",
      " 14  tecnologias_aptitudes  5057 non-null   object\n",
      " 15  idiomas                903 non-null    object\n",
      " 16  vacaciones             1277 non-null   object\n",
      " 17  beneficios             1090 non-null   object\n",
      " 18  portal_empleo          5236 non-null   object\n",
      " 19  descripcion            5235 non-null   object\n",
      "dtypes: object(20)\n",
      "memory usage: 818.3+ KB\n"
     ]
    }
   ],
   "source": [
    "df_final.info()"
   ]
  },
  {
   "cell_type": "code",
   "execution_count": 10,
   "id": "a8ba313f-2902-4a6a-9a69-d7282bc8afea",
   "metadata": {},
   "outputs": [
    {
     "data": {
      "text/html": [
       "<div>\n",
       "<style scoped>\n",
       "    .dataframe tbody tr th:only-of-type {\n",
       "        vertical-align: middle;\n",
       "    }\n",
       "\n",
       "    .dataframe tbody tr th {\n",
       "        vertical-align: top;\n",
       "    }\n",
       "\n",
       "    .dataframe thead th {\n",
       "        text-align: right;\n",
       "    }\n",
       "</style>\n",
       "<table border=\"1\" class=\"dataframe\">\n",
       "  <thead>\n",
       "    <tr style=\"text-align: right;\">\n",
       "      <th></th>\n",
       "      <th>id_urls</th>\n",
       "      <th>fecha</th>\n",
       "      <th>oferta</th>\n",
       "      <th>empresa</th>\n",
       "      <th>funcion</th>\n",
       "      <th>salario_min</th>\n",
       "      <th>salario_max</th>\n",
       "      <th>estudios</th>\n",
       "      <th>experiencia</th>\n",
       "      <th>ubicacion</th>\n",
       "      <th>modalidad</th>\n",
       "      <th>jornada</th>\n",
       "      <th>contrato</th>\n",
       "      <th>skills</th>\n",
       "      <th>tecnologias_aptitudes</th>\n",
       "      <th>idiomas</th>\n",
       "      <th>vacaciones</th>\n",
       "      <th>beneficios</th>\n",
       "      <th>portal_empleo</th>\n",
       "      <th>descripcion</th>\n",
       "    </tr>\n",
       "  </thead>\n",
       "  <tbody>\n",
       "    <tr>\n",
       "      <th>0</th>\n",
       "      <td>https://www.tecnoempleo.com/programador-fullst...</td>\n",
       "      <td>2025-04-17 00:00:00</td>\n",
       "      <td>Programador FullStack</td>\n",
       "      <td>Dev&amp;del</td>\n",
       "      <td>Analista Programador</td>\n",
       "      <td>None</td>\n",
       "      <td>None</td>\n",
       "      <td>True</td>\n",
       "      <td>3.0</td>\n",
       "      <td>Madrid</td>\n",
       "      <td>Híbrido</td>\n",
       "      <td>Jornada completa</td>\n",
       "      <td>Indefinido</td>\n",
       "      <td>None</td>\n",
       "      <td>['java', 'javascript', 'spring', 'angular', 'r...</td>\n",
       "      <td>Inglés</td>\n",
       "      <td>None</td>\n",
       "      <td>None</td>\n",
       "      <td>tecnoempleo</td>\n",
       "      <td>Descripción de la oferta de empleo ¿Eres una p...</td>\n",
       "    </tr>\n",
       "    <tr>\n",
       "      <th>1</th>\n",
       "      <td>https://www.tecnoempleo.com/analista-programad...</td>\n",
       "      <td>2025-04-17 00:00:00</td>\n",
       "      <td>Analista Programador en PHP</td>\n",
       "      <td>Codicert</td>\n",
       "      <td>Programador</td>\n",
       "      <td>30000.0</td>\n",
       "      <td>30000.0</td>\n",
       "      <td>True</td>\n",
       "      <td>2.0</td>\n",
       "      <td>Malta</td>\n",
       "      <td>Presencial</td>\n",
       "      <td>Jornada completa</td>\n",
       "      <td>Temporal</td>\n",
       "      <td>None</td>\n",
       "      <td>['php7', 'phpunit', 'ajax', 'composer', 'poo',...</td>\n",
       "      <td>Inglés</td>\n",
       "      <td>None</td>\n",
       "      <td>None</td>\n",
       "      <td>tecnoempleo</td>\n",
       "      <td>Descripción de la oferta de empleo ¡Únete a nu...</td>\n",
       "    </tr>\n",
       "    <tr>\n",
       "      <th>2</th>\n",
       "      <td>https://www.tecnoempleo.com/senior-backend-dev...</td>\n",
       "      <td>2025-04-17 00:00:00</td>\n",
       "      <td>Senior Backend Developer (.NET/ Go/ PHP)</td>\n",
       "      <td>WebBeds</td>\n",
       "      <td>Programador</td>\n",
       "      <td>None</td>\n",
       "      <td>None</td>\n",
       "      <td>True</td>\n",
       "      <td>3.0</td>\n",
       "      <td>Baleares</td>\n",
       "      <td>Híbrido</td>\n",
       "      <td>Jornada completa</td>\n",
       "      <td>Indefinido</td>\n",
       "      <td>None</td>\n",
       "      <td>['C#', 'Golang', 'PHP', 'git', 'kubernetes', '...</td>\n",
       "      <td>Inglés</td>\n",
       "      <td>None</td>\n",
       "      <td>None</td>\n",
       "      <td>tecnoempleo</td>\n",
       "      <td>Descripción de la oferta de empleo How will yo...</td>\n",
       "    </tr>\n",
       "    <tr>\n",
       "      <th>3</th>\n",
       "      <td>https://www.tecnoempleo.com/software-engineeri...</td>\n",
       "      <td>2025-04-17 00:00:00</td>\n",
       "      <td>Software Engineering Manager</td>\n",
       "      <td>Solera</td>\n",
       "      <td>Analista Programador</td>\n",
       "      <td>None</td>\n",
       "      <td>None</td>\n",
       "      <td>True</td>\n",
       "      <td>5.0</td>\n",
       "      <td>Madrid</td>\n",
       "      <td>None</td>\n",
       "      <td>Jornada completa</td>\n",
       "      <td>Indefinido</td>\n",
       "      <td>None</td>\n",
       "      <td>['Java', 'REST', 'API', 'Git', 'CI/CD', 'Hiber...</td>\n",
       "      <td>Inglés</td>\n",
       "      <td>None</td>\n",
       "      <td>None</td>\n",
       "      <td>tecnoempleo</td>\n",
       "      <td>Descripción de la oferta de empleo 7+ years of...</td>\n",
       "    </tr>\n",
       "    <tr>\n",
       "      <th>4</th>\n",
       "      <td>https://www.tecnoempleo.com/front-developer-se...</td>\n",
       "      <td>2025-04-17 00:00:00</td>\n",
       "      <td>Front Developer Senior</td>\n",
       "      <td>Mytic Innova</td>\n",
       "      <td>Analista Programador</td>\n",
       "      <td>27000.0</td>\n",
       "      <td>33000.0</td>\n",
       "      <td>True</td>\n",
       "      <td>2.0</td>\n",
       "      <td>Barcelona</td>\n",
       "      <td>Híbrido</td>\n",
       "      <td>Jornada completa</td>\n",
       "      <td>Indefinido</td>\n",
       "      <td>None</td>\n",
       "      <td>['Java', 'Angular', 'SQL', 'SCRUM', 'Git', 'Ht...</td>\n",
       "      <td>Inglés</td>\n",
       "      <td>None</td>\n",
       "      <td>None</td>\n",
       "      <td>tecnoempleo</td>\n",
       "      <td>Descripción de la oferta de empleo Mytic Innov...</td>\n",
       "    </tr>\n",
       "  </tbody>\n",
       "</table>\n",
       "</div>"
      ],
      "text/plain": [
       "                                             id_urls                fecha  \\\n",
       "0  https://www.tecnoempleo.com/programador-fullst...  2025-04-17 00:00:00   \n",
       "1  https://www.tecnoempleo.com/analista-programad...  2025-04-17 00:00:00   \n",
       "2  https://www.tecnoempleo.com/senior-backend-dev...  2025-04-17 00:00:00   \n",
       "3  https://www.tecnoempleo.com/software-engineeri...  2025-04-17 00:00:00   \n",
       "4  https://www.tecnoempleo.com/front-developer-se...  2025-04-17 00:00:00   \n",
       "\n",
       "                                     oferta       empresa  \\\n",
       "0                     Programador FullStack       Dev&del   \n",
       "1               Analista Programador en PHP      Codicert   \n",
       "2  Senior Backend Developer (.NET/ Go/ PHP)       WebBeds   \n",
       "3              Software Engineering Manager        Solera   \n",
       "4                    Front Developer Senior  Mytic Innova   \n",
       "\n",
       "                funcion salario_min salario_max estudios experiencia  \\\n",
       "0  Analista Programador        None        None     True         3.0   \n",
       "1           Programador     30000.0     30000.0     True         2.0   \n",
       "2           Programador        None        None     True         3.0   \n",
       "3  Analista Programador        None        None     True         5.0   \n",
       "4  Analista Programador     27000.0     33000.0     True         2.0   \n",
       "\n",
       "   ubicacion   modalidad           jornada    contrato skills  \\\n",
       "0     Madrid     Híbrido  Jornada completa  Indefinido   None   \n",
       "1      Malta  Presencial  Jornada completa    Temporal   None   \n",
       "2   Baleares     Híbrido  Jornada completa  Indefinido   None   \n",
       "3     Madrid        None  Jornada completa  Indefinido   None   \n",
       "4  Barcelona     Híbrido  Jornada completa  Indefinido   None   \n",
       "\n",
       "                               tecnologias_aptitudes idiomas vacaciones  \\\n",
       "0  ['java', 'javascript', 'spring', 'angular', 'r...  Inglés       None   \n",
       "1  ['php7', 'phpunit', 'ajax', 'composer', 'poo',...  Inglés       None   \n",
       "2  ['C#', 'Golang', 'PHP', 'git', 'kubernetes', '...  Inglés       None   \n",
       "3  ['Java', 'REST', 'API', 'Git', 'CI/CD', 'Hiber...  Inglés       None   \n",
       "4  ['Java', 'Angular', 'SQL', 'SCRUM', 'Git', 'Ht...  Inglés       None   \n",
       "\n",
       "  beneficios portal_empleo                                        descripcion  \n",
       "0       None   tecnoempleo  Descripción de la oferta de empleo ¿Eres una p...  \n",
       "1       None   tecnoempleo  Descripción de la oferta de empleo ¡Únete a nu...  \n",
       "2       None   tecnoempleo  Descripción de la oferta de empleo How will yo...  \n",
       "3       None   tecnoempleo  Descripción de la oferta de empleo 7+ years of...  \n",
       "4       None   tecnoempleo  Descripción de la oferta de empleo Mytic Innov...  "
      ]
     },
     "execution_count": 10,
     "metadata": {},
     "output_type": "execute_result"
    }
   ],
   "source": [
    "df_final.head()"
   ]
  },
  {
   "cell_type": "code",
   "execution_count": 11,
   "id": "83d06c11-2291-4b3d-a338-e81206ba104e",
   "metadata": {},
   "outputs": [],
   "source": [
    "df_final.to_csv(\"df_final.csv\")"
   ]
  }
 ],
 "metadata": {
  "kernelspec": {
   "display_name": "Python [conda env:base] *",
   "language": "python",
   "name": "conda-base-py"
  },
  "language_info": {
   "codemirror_mode": {
    "name": "ipython",
    "version": 3
   },
   "file_extension": ".py",
   "mimetype": "text/x-python",
   "name": "python",
   "nbconvert_exporter": "python",
   "pygments_lexer": "ipython3",
   "version": "3.12.7"
  }
 },
 "nbformat": 4,
 "nbformat_minor": 5
}
