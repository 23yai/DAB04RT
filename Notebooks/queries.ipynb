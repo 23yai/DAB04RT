{
 "cells": [
  {
   "cell_type": "markdown",
   "id": "db731970-ffbf-49ef-8268-0a0bb95e238b",
   "metadata": {},
   "source": [
    "Mapa Coroplético: Mostrar en un mapa coroplético (choropleth map) la cantidad de ofertas de empleo por ciudad/comunidad/provincia. Repetir el mismo mapa pero mostrando la media de salario, segmentado por puesto de trabajo."
   ]
  },
  {
   "cell_type": "code",
   "execution_count": 2,
   "id": "6b36cf09-4271-4b02-9551-83c383d9c2bc",
   "metadata": {},
   "outputs": [],
   "source": [
    "#cantidad de ofertas por ciudad/provincia.\n",
    "SELECT \n",
    "    u.ubicacion,\n",
    "    COUNT(o.id_urls) AS cantidad_ofertas\n",
    "FROM ofertas o\n",
    "JOIN ubicacion u ON o.id_ubicacion = u.id_ubicacion\n",
    "GROUP BY u.ubicacion\n",
    "ORDER BY cantidad_ofertas DESC;"
   ]
  },
  {
   "cell_type": "code",
   "execution_count": null,
   "id": "876628aa-dc9a-4430-9480-98577984bf1e",
   "metadata": {},
   "outputs": [],
   "source": [
    "#media salarial por función en cada ciudad/provincia.\n",
    "SELECT \n",
    "    u.ubicacion,\n",
    "    o.funcion,\n",
    "    AVG((o.salario_min + o.salario_max)/2) AS salario_promedio\n",
    "FROM ofertas o\n",
    "JOIN ubicacion u ON o.id_ubicacion = u.id_ubicacion\n",
    "WHERE o.salario_min IS NOT NULL AND o.salario_max IS NOT NULL\n",
    "GROUP BY u.ubicacion, o.funcion\n",
    "ORDER BY salario_promedio DESC;"
   ]
  },
  {
   "cell_type": "markdown",
   "id": "3406bf54-de22-4427-bd51-3eaf0653bc7d",
   "metadata": {},
   "source": [
    "Outliers Salarios: Mostrar los valores de salarios usando un histograma, diferenciando los valores atípicos. Para calcular los outliers se puede usar el Z-Score, Tukey’s Fence o DBSCAN."
   ]
  },
  {
   "cell_type": "code",
   "execution_count": null,
   "id": "cd282de1-e3ef-42f3-95c1-2e6b2d26a85a",
   "metadata": {},
   "outputs": [],
   "source": [
    "#obtener los salarios medios de las ofertas\n",
    "SELECT \n",
    "    (salario_min + salario_max) / 2 AS salario_medio\n",
    "FROM ofertas\n",
    "WHERE salario_min IS NOT NULL AND salario_max IS NOT NULL;"
   ]
  },
  {
   "cell_type": "code",
   "execution_count": null,
   "id": "96cff8d8-4be0-45c7-9212-09f9ac39beef",
   "metadata": {},
   "outputs": [],
   "source": [
    "# detectar outliers con Z-Score directamente en SQL (mejor en phyton)"
   ]
  },
  {
   "cell_type": "code",
   "execution_count": null,
   "id": "177ecd79-db85-4f60-a0a3-c1ffc3989325",
   "metadata": {},
   "outputs": [],
   "source": [
    "#Obtener la media y desviación estándar de salarios\n",
    "SELECT \n",
    "    AVG((salario_min + salario_max)/2) AS media_salario,\n",
    "    STDDEV((salario_min + salario_max)/2) AS std_salario\n",
    "FROM ofertas\n",
    "WHERE salario_min IS NOT NULL AND salario_max IS NOT NULL;"
   ]
  },
  {
   "cell_type": "code",
   "execution_count": null,
   "id": "980a6bbb-9b7e-4350-94c7-ed37fa5b5c56",
   "metadata": {},
   "outputs": [],
   "source": [
    "#usar esos valores para detectar outliers (Z-Score > 3 o < -3), pero esto se hace más fácilmente y dinámicamente en Python\n",
    "from scipy import stats\n",
    "import pandas as pd\n",
    "\n",
    "# df contiene la columna 'salario_medio' con los datos que sacaste de SQL\n",
    "df['z_score'] = stats.zscore(df['salario_medio'])\n",
    "df['outlier'] = df['z_score'].abs() > 3"
   ]
  },
  {
   "cell_type": "markdown",
   "id": "44d1439d-23b3-4751-8d76-9574ec46dfcf",
   "metadata": {},
   "source": [
    "Relación Salario/Ubicación: Mostrar la relación entre el salario y la ubicación de la oferta de empleo."
   ]
  },
  {
   "cell_type": "code",
   "execution_count": null,
   "id": "bd79d747-b514-4fb3-89e0-f0d972c42561",
   "metadata": {},
   "outputs": [],
   "source": [
    "#Salario medio por oferta + ubicación\n",
    "SELECT \n",
    "    u.ubicacion,\n",
    "    (o.salario_min + o.salario_max) / 2 AS salario_medio\n",
    "FROM ofertas o\n",
    "JOIN ubicacion u ON o.id_ubicacion = u.id_ubicacion\n",
    "WHERE o.salario_min IS NOT NULL AND o.salario_max IS NOT NULL;"
   ]
  },
  {
   "cell_type": "code",
   "execution_count": null,
   "id": "ae2c852c-b64d-4cfe-9aed-360151c2ada8",
   "metadata": {},
   "outputs": [],
   "source": [
    "#salario promedio por ubicación (no por oferta). útil si la gráfico es más comparativo que dispersivo\n",
    "SELECT \n",
    "    u.ubicacion,\n",
    "    AVG((o.salario_min + o.salario_max) / 2) AS salario_promedio\n",
    "FROM ofertas o\n",
    "JOIN ubicacion u ON o.id_ubicacion = u.id_ubicacion\n",
    "WHERE o.salario_min IS NOT NULL AND o.salario_max IS NOT NULL\n",
    "GROUP BY u.ubicacion\n",
    "ORDER BY salario_promedio DESC;"
   ]
  },
  {
   "cell_type": "markdown",
   "id": "4ffad3ac-1371-41b5-ba90-17fa3839b46a",
   "metadata": {},
   "source": [
    "Relación Salario/Experiencia: Mostrar si existe una relación entre el salario y la\n",
    "experiencia laboral para los diferentes puestos de trabajo."
   ]
  },
  {
   "cell_type": "code",
   "execution_count": 4,
   "id": "cff1e660-0d63-4577-9ff1-1fb4b725030e",
   "metadata": {},
   "outputs": [],
   "source": [
    "#Salario medio, experiencia y función (puesto)\n",
    "SELECT \n",
    "    o.funcion,\n",
    "    o.experiencia,\n",
    "    (o.salario_min + o.salario_max) / 2 AS salario_medio\n",
    "FROM ofertas o\n",
    "WHERE o.salario_min IS NOT NULL \n",
    "  AND o.salario_max IS NOT NULL\n",
    "  AND o.experiencia IS NOT NULL;"
   ]
  },
  {
   "cell_type": "code",
   "execution_count": null,
   "id": "1c383e42-2e18-423d-afbb-4ebddf0f295f",
   "metadata": {},
   "outputs": [],
   "source": [
    "#Opcional: agrupar el promedio por experiencia y función\n",
    "SELECT \n",
    "    o.funcion,\n",
    "    o.experiencia,\n",
    "    AVG((o.salario_min + o.salario_max) / 2) AS salario_promedio\n",
    "FROM ofertas o\n",
    "WHERE o.salario_min IS NOT NULL \n",
    "  AND o.salario_max IS NOT NULL\n",
    "  AND o.experiencia IS NOT NULL\n",
    "GROUP BY o.funcion, o.experiencia\n",
    "ORDER BY o.funcion, o.experiencia;"
   ]
  },
  {
   "cell_type": "markdown",
   "id": "d6575aa9-16bb-47d0-bbdb-3fae75670b91",
   "metadata": {},
   "source": [
    "Habilidades Técnicas: Mostrar las habilidades técnicas y tecnologías más solicitadas para cada puesto de trabajo"
   ]
  },
  {
   "cell_type": "code",
   "execution_count": null,
   "id": "c930dc46-b2eb-42fc-a6a3-c51989b34a6f",
   "metadata": {},
   "outputs": [],
   "source": [
    "#Skills más solicitadas por puesto\n",
    "SELECT \n",
    "  o.funcion,\n",
    "  s.skills        AS skill,\n",
    "  COUNT(*)        AS veces\n",
    "FROM ofertas o\n",
    "JOIN oferta_skill os  ON o.id_urls    = os.id_urls\n",
    "JOIN skills        s  ON os.id_skills = s.id_skills\n",
    "GROUP BY o.funcion, s.skills\n",
    "ORDER BY o.funcion, veces DESC;"
   ]
  },
  {
   "cell_type": "code",
   "execution_count": null,
   "id": "9c2646e8-2ee1-4bb8-b6fe-2a153036a894",
   "metadata": {},
   "outputs": [],
   "source": [
    "#Si sólo queremos, por cada funcion, los 5 skills más frecuentes\n",
    "SELECT funcion, skill, veces\n",
    "FROM (\n",
    "  SELECT \n",
    "    o.funcion,\n",
    "    s.skills   AS skill,\n",
    "    COUNT(*)   AS veces,\n",
    "    ROW_NUMBER() OVER (\n",
    "      PARTITION BY o.funcion \n",
    "      ORDER BY COUNT(*) DESC\n",
    "    ) AS rn\n",
    "  FROM ofertas o\n",
    "  JOIN oferta_skill os  ON o.id_urls    = os.id_urls\n",
    "  JOIN skills        s  ON os.id_skills = s.id_skills\n",
    "  GROUP BY o.funcion, s.skills\n",
    ") t\n",
    "WHERE t.rn <= 5\n",
    "ORDER BY funcion, veces DESC;"
   ]
  },
  {
   "cell_type": "code",
   "execution_count": null,
   "id": "0ca7ac9c-bbbe-4c24-a5e0-10ab0c5733f3",
   "metadata": {},
   "outputs": [],
   "source": [
    "#Tecnologías más solicitadas por puesto\n",
    "SELECT \n",
    "  o.funcion,\n",
    "  t.tecnologias_aptitudes AS tecnologia,\n",
    "  COUNT(*)                AS veces\n",
    "FROM ofertas o\n",
    "JOIN oferta_tecnologias ot ON o.id_urls        = ot.id_urls\n",
    "JOIN tecnologias_aptitudes t ON ot.id_tecnologias = t.id_tecnologias\n",
    "GROUP BY o.funcion, t.tecnologias_aptitudes\n",
    "ORDER BY o.funcion, veces DESC;"
   ]
  },
  {
   "cell_type": "code",
   "execution_count": null,
   "id": "29196ecb-168e-42a0-a3a5-87dfe928e784",
   "metadata": {},
   "outputs": [],
   "source": [
    "#para quedarnos con las 5 tecnologías top por función\n",
    "SELECT funcion, tecnologia, veces\n",
    "FROM (\n",
    "  SELECT \n",
    "    o.funcion,\n",
    "    t.tecnologias_aptitudes AS tecnologia,\n",
    "    COUNT(*)                AS veces,\n",
    "    ROW_NUMBER() OVER (\n",
    "      PARTITION BY o.funcion \n",
    "      ORDER BY COUNT(*) DESC\n",
    "    ) AS rn\n",
    "  FROM ofertas o\n",
    "  JOIN oferta_tecnologias ot ON o.id_urls        = ot.id_urls\n",
    "  JOIN tecnologias_aptitudes t ON ot.id_tecnologias = t.id_tecnologias\n",
    "  GROUP BY o.funcion, t.tecnologias_aptitudes\n",
    ") t\n",
    "WHERE t.rn <= 5\n",
    "ORDER BY funcion, veces DESC;"
   ]
  },
  {
   "cell_type": "code",
   "execution_count": null,
   "id": "55a23d72-4e89-41af-827a-57cc15c636b2",
   "metadata": {},
   "outputs": [],
   "source": [
    "#############otra manera"
   ]
  },
  {
   "cell_type": "code",
   "execution_count": null,
   "id": "c3a5c5e2-013d-491d-896f-90429bab38bd",
   "metadata": {},
   "outputs": [],
   "source": [
    "#Conteo de Skills por Función\n",
    "SELECT\n",
    "    o.funcion,\n",
    "    s.skill,\n",
    "    COUNT(*) AS solicitudes_skill\n",
    "FROM ofertas o\n",
    "JOIN oferta_skill os\n",
    "  ON o.id_urls = os.id_urls\n",
    "JOIN skills s\n",
    "  ON os.skill_id = s.skill_id\n",
    "GROUP BY\n",
    "    o.funcion,\n",
    "    s.skill\n",
    "ORDER BY\n",
    "    o.funcion,\n",
    "    solicitudes_skill DESC;"
   ]
  },
  {
   "cell_type": "code",
   "execution_count": null,
   "id": "3546cbf9-dee7-4937-bcc5-fad449a1fd00",
   "metadata": {},
   "outputs": [],
   "source": [
    "#Conteo de Tecnologías por Función\n",
    "SELECT\n",
    "    o.funcion,\n",
    "    t.tecnologia,\n",
    "    COUNT(*) AS solicitudes_tecnologia\n",
    "FROM ofertas o\n",
    "JOIN oferta_tecnologia ot\n",
    "  ON o.id_urls = ot.id_urls\n",
    "JOIN tecnologia t\n",
    "  ON ot.tecnologia_id = t.tecnologia_id\n",
    "GROUP BY\n",
    "    o.funcion,\n",
    "    t.tecnologia\n",
    "ORDER BY\n",
    "    o.funcion,\n",
    "    solicitudes_tecnologia DESC;"
   ]
  },
  {
   "cell_type": "code",
   "execution_count": null,
   "id": "c222f576-1c02-473b-95be-b24e726cf035",
   "metadata": {},
   "outputs": [],
   "source": [
    "#(Opcional) Top N Skills / Tecnologías por Función\n",
    "#skills\n",
    "WITH skill_counts AS (\n",
    "  SELECT\n",
    "    o.funcion,\n",
    "    s.skill,\n",
    "    COUNT(*) AS total\n",
    "  FROM ofertas o\n",
    "  JOIN oferta_skill os ON o.id_urls = os.id_urls\n",
    "  JOIN skills s      ON os.skill_id = s.skill_id\n",
    "  GROUP BY\n",
    "    o.funcion,\n",
    "    s.skill\n",
    ")\n",
    "SELECT\n",
    "  funcion,\n",
    "  skill,\n",
    "  total\n",
    "FROM (\n",
    "  SELECT\n",
    "    sc.*,\n",
    "    ROW_NUMBER() OVER (\n",
    "      PARTITION BY funcion\n",
    "      ORDER BY total DESC\n",
    "    ) AS rn\n",
    "  FROM skill_counts sc\n",
    ") ranked\n",
    "WHERE rn <= 5\n",
    "ORDER BY funcion, total DESC;\n",
    "\n",
    "#tecnologias\n",
    "WITH tech_counts AS (\n",
    "  SELECT\n",
    "    o.funcion,\n",
    "    t.tecnologia,\n",
    "    COUNT(*) AS total\n",
    "  FROM ofertas o\n",
    "  JOIN oferta_tecnologia ot ON o.id_urls = ot.id_urls\n",
    "  JOIN tecnologia t        ON ot.tecnologia_id = t.tecnologia_id\n",
    "  GROUP BY\n",
    "    o.funcion,\n",
    "    t.tecnologia\n",
    ")\n",
    "SELECT\n",
    "  funcion,\n",
    "  tecnologia,\n",
    "  total\n",
    "FROM (\n",
    "  SELECT\n",
    "    tc.*,\n",
    "    ROW_NUMBER() OVER (\n",
    "      PARTITION BY funcion\n",
    "      ORDER BY total DESC\n",
    "    ) AS rn\n",
    "  FROM tech_counts tc\n",
    ") ranked\n",
    "WHERE rn <= 5\n",
    "ORDER BY funcion, total DESC;"
   ]
  }
 ],
 "metadata": {
  "kernelspec": {
   "display_name": "Python 3 (ipykernel)",
   "language": "python",
   "name": "python3"
  },
  "language_info": {
   "codemirror_mode": {
    "name": "ipython",
    "version": 3
   },
   "file_extension": ".py",
   "mimetype": "text/x-python",
   "name": "python",
   "nbconvert_exporter": "python",
   "pygments_lexer": "ipython3",
   "version": "3.12.7"
  }
 },
 "nbformat": 4,
 "nbformat_minor": 5
}
