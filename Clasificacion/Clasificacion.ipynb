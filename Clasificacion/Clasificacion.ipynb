{
 "cells": [
  {
   "cell_type": "code",
   "execution_count": 1,
   "id": "27986a21-da67-4021-9eda-d521d5695c92",
   "metadata": {},
   "outputs": [],
   "source": [
    "import pandas as pd\n",
    "from sklearn.model_selection import train_test_split\n",
    "from sklearn.preprocessing import MinMaxScaler\n",
    "from sklearn.metrics import accuracy_score, precision_score, recall_score, f1_score, classification_report\n",
    "import joblib"
   ]
  },
  {
   "cell_type": "code",
   "execution_count": 2,
   "id": "b3a84a0c-1b7d-4ac2-ad0b-52dc5eb96109",
   "metadata": {},
   "outputs": [],
   "source": [
    "df = pd.read_csv(\"../csv/df_subconjunto_cluster.csv\")"
   ]
  },
  {
   "cell_type": "code",
   "execution_count": 3,
   "id": "041db720-7280-4ddc-8829-400ca208731a",
   "metadata": {},
   "outputs": [
    {
     "data": {
      "text/html": [
       "<div>\n",
       "<style scoped>\n",
       "    .dataframe tbody tr th:only-of-type {\n",
       "        vertical-align: middle;\n",
       "    }\n",
       "\n",
       "    .dataframe tbody tr th {\n",
       "        vertical-align: top;\n",
       "    }\n",
       "\n",
       "    .dataframe thead th {\n",
       "        text-align: right;\n",
       "    }\n",
       "</style>\n",
       "<table border=\"1\" class=\"dataframe\">\n",
       "  <thead>\n",
       "    <tr style=\"text-align: right;\">\n",
       "      <th></th>\n",
       "      <th>estudios</th>\n",
       "      <th>experiencia</th>\n",
       "      <th>skills</th>\n",
       "      <th>tecnologias_aptitudes</th>\n",
       "      <th>vacaciones</th>\n",
       "      <th>beneficios</th>\n",
       "      <th>salario_medio</th>\n",
       "      <th>cluster</th>\n",
       "    </tr>\n",
       "  </thead>\n",
       "  <tbody>\n",
       "    <tr>\n",
       "      <th>0</th>\n",
       "      <td>1</td>\n",
       "      <td>3.0</td>\n",
       "      <td>0</td>\n",
       "      <td>8</td>\n",
       "      <td>25.6</td>\n",
       "      <td>0</td>\n",
       "      <td>37800.0</td>\n",
       "      <td>0</td>\n",
       "    </tr>\n",
       "    <tr>\n",
       "      <th>1</th>\n",
       "      <td>1</td>\n",
       "      <td>2.0</td>\n",
       "      <td>0</td>\n",
       "      <td>8</td>\n",
       "      <td>23.2</td>\n",
       "      <td>0</td>\n",
       "      <td>30000.0</td>\n",
       "      <td>0</td>\n",
       "    </tr>\n",
       "    <tr>\n",
       "      <th>2</th>\n",
       "      <td>1</td>\n",
       "      <td>3.0</td>\n",
       "      <td>0</td>\n",
       "      <td>11</td>\n",
       "      <td>23.2</td>\n",
       "      <td>0</td>\n",
       "      <td>39900.0</td>\n",
       "      <td>0</td>\n",
       "    </tr>\n",
       "    <tr>\n",
       "      <th>3</th>\n",
       "      <td>1</td>\n",
       "      <td>5.0</td>\n",
       "      <td>0</td>\n",
       "      <td>11</td>\n",
       "      <td>25.6</td>\n",
       "      <td>0</td>\n",
       "      <td>41100.0</td>\n",
       "      <td>0</td>\n",
       "    </tr>\n",
       "    <tr>\n",
       "      <th>4</th>\n",
       "      <td>1</td>\n",
       "      <td>2.0</td>\n",
       "      <td>0</td>\n",
       "      <td>10</td>\n",
       "      <td>25.6</td>\n",
       "      <td>0</td>\n",
       "      <td>30000.0</td>\n",
       "      <td>0</td>\n",
       "    </tr>\n",
       "  </tbody>\n",
       "</table>\n",
       "</div>"
      ],
      "text/plain": [
       "   estudios  experiencia  skills  tecnologias_aptitudes  vacaciones  \\\n",
       "0         1          3.0       0                      8        25.6   \n",
       "1         1          2.0       0                      8        23.2   \n",
       "2         1          3.0       0                     11        23.2   \n",
       "3         1          5.0       0                     11        25.6   \n",
       "4         1          2.0       0                     10        25.6   \n",
       "\n",
       "   beneficios  salario_medio  cluster  \n",
       "0           0        37800.0        0  \n",
       "1           0        30000.0        0  \n",
       "2           0        39900.0        0  \n",
       "3           0        41100.0        0  \n",
       "4           0        30000.0        0  "
      ]
     },
     "execution_count": 3,
     "metadata": {},
     "output_type": "execute_result"
    }
   ],
   "source": [
    "df.head()"
   ]
  },
  {
   "cell_type": "code",
   "execution_count": 4,
   "id": "1eaaa53c-c0c9-48af-9d96-55cee5a96dd1",
   "metadata": {},
   "outputs": [
    {
     "data": {
      "text/plain": [
       "(5359, 8)"
      ]
     },
     "execution_count": 4,
     "metadata": {},
     "output_type": "execute_result"
    }
   ],
   "source": [
    "df.shape"
   ]
  },
  {
   "cell_type": "code",
   "execution_count": 5,
   "id": "23c7cf83-19df-44a4-bf6c-432d4276ab6f",
   "metadata": {},
   "outputs": [
    {
     "data": {
      "text/plain": [
       "cluster\n",
       "1    4003\n",
       "0    1356\n",
       "Name: count, dtype: int64"
      ]
     },
     "execution_count": 5,
     "metadata": {},
     "output_type": "execute_result"
    }
   ],
   "source": [
    "df[\"cluster\"].value_counts()"
   ]
  },
  {
   "cell_type": "code",
   "execution_count": 6,
   "id": "8f29ffe9-1d7a-489f-9423-c8b94d5ae66e",
   "metadata": {},
   "outputs": [
    {
     "data": {
      "text/html": [
       "<div>\n",
       "<style scoped>\n",
       "    .dataframe tbody tr th:only-of-type {\n",
       "        vertical-align: middle;\n",
       "    }\n",
       "\n",
       "    .dataframe tbody tr th {\n",
       "        vertical-align: top;\n",
       "    }\n",
       "\n",
       "    .dataframe thead th {\n",
       "        text-align: right;\n",
       "    }\n",
       "</style>\n",
       "<table border=\"1\" class=\"dataframe\">\n",
       "  <thead>\n",
       "    <tr style=\"text-align: right;\">\n",
       "      <th></th>\n",
       "      <th>estudios</th>\n",
       "      <th>experiencia</th>\n",
       "      <th>skills</th>\n",
       "      <th>tecnologias_aptitudes</th>\n",
       "      <th>vacaciones</th>\n",
       "      <th>beneficios</th>\n",
       "      <th>salario_medio</th>\n",
       "      <th>cluster</th>\n",
       "    </tr>\n",
       "  </thead>\n",
       "  <tbody>\n",
       "    <tr>\n",
       "      <th>count</th>\n",
       "      <td>5359.000000</td>\n",
       "      <td>5359.000000</td>\n",
       "      <td>5359.000000</td>\n",
       "      <td>5359.000000</td>\n",
       "      <td>5359.000000</td>\n",
       "      <td>5359.000000</td>\n",
       "      <td>5359.000000</td>\n",
       "      <td>5359.000000</td>\n",
       "    </tr>\n",
       "    <tr>\n",
       "      <th>mean</th>\n",
       "      <td>0.253032</td>\n",
       "      <td>2.353331</td>\n",
       "      <td>1.506438</td>\n",
       "      <td>3.690987</td>\n",
       "      <td>23.923381</td>\n",
       "      <td>1.277291</td>\n",
       "      <td>44419.338683</td>\n",
       "      <td>0.746968</td>\n",
       "    </tr>\n",
       "    <tr>\n",
       "      <th>std</th>\n",
       "      <td>0.434790</td>\n",
       "      <td>1.918978</td>\n",
       "      <td>2.937177</td>\n",
       "      <td>2.490605</td>\n",
       "      <td>1.552377</td>\n",
       "      <td>2.813009</td>\n",
       "      <td>12093.325880</td>\n",
       "      <td>0.434790</td>\n",
       "    </tr>\n",
       "    <tr>\n",
       "      <th>min</th>\n",
       "      <td>0.000000</td>\n",
       "      <td>0.000000</td>\n",
       "      <td>0.000000</td>\n",
       "      <td>0.000000</td>\n",
       "      <td>10.000000</td>\n",
       "      <td>0.000000</td>\n",
       "      <td>850.000000</td>\n",
       "      <td>0.000000</td>\n",
       "    </tr>\n",
       "    <tr>\n",
       "      <th>25%</th>\n",
       "      <td>0.000000</td>\n",
       "      <td>0.000000</td>\n",
       "      <td>0.000000</td>\n",
       "      <td>2.000000</td>\n",
       "      <td>23.200000</td>\n",
       "      <td>0.000000</td>\n",
       "      <td>37500.000000</td>\n",
       "      <td>0.000000</td>\n",
       "    </tr>\n",
       "    <tr>\n",
       "      <th>50%</th>\n",
       "      <td>0.000000</td>\n",
       "      <td>3.000000</td>\n",
       "      <td>0.000000</td>\n",
       "      <td>3.000000</td>\n",
       "      <td>23.800000</td>\n",
       "      <td>0.000000</td>\n",
       "      <td>42600.000000</td>\n",
       "      <td>1.000000</td>\n",
       "    </tr>\n",
       "    <tr>\n",
       "      <th>75%</th>\n",
       "      <td>1.000000</td>\n",
       "      <td>3.000000</td>\n",
       "      <td>0.000000</td>\n",
       "      <td>5.000000</td>\n",
       "      <td>24.200000</td>\n",
       "      <td>0.000000</td>\n",
       "      <td>50000.000000</td>\n",
       "      <td>1.000000</td>\n",
       "    </tr>\n",
       "    <tr>\n",
       "      <th>max</th>\n",
       "      <td>1.000000</td>\n",
       "      <td>10.000000</td>\n",
       "      <td>19.000000</td>\n",
       "      <td>25.000000</td>\n",
       "      <td>40.000000</td>\n",
       "      <td>17.000000</td>\n",
       "      <td>150000.000000</td>\n",
       "      <td>1.000000</td>\n",
       "    </tr>\n",
       "  </tbody>\n",
       "</table>\n",
       "</div>"
      ],
      "text/plain": [
       "          estudios  experiencia       skills  tecnologias_aptitudes  \\\n",
       "count  5359.000000  5359.000000  5359.000000            5359.000000   \n",
       "mean      0.253032     2.353331     1.506438               3.690987   \n",
       "std       0.434790     1.918978     2.937177               2.490605   \n",
       "min       0.000000     0.000000     0.000000               0.000000   \n",
       "25%       0.000000     0.000000     0.000000               2.000000   \n",
       "50%       0.000000     3.000000     0.000000               3.000000   \n",
       "75%       1.000000     3.000000     0.000000               5.000000   \n",
       "max       1.000000    10.000000    19.000000              25.000000   \n",
       "\n",
       "        vacaciones   beneficios  salario_medio      cluster  \n",
       "count  5359.000000  5359.000000    5359.000000  5359.000000  \n",
       "mean     23.923381     1.277291   44419.338683     0.746968  \n",
       "std       1.552377     2.813009   12093.325880     0.434790  \n",
       "min      10.000000     0.000000     850.000000     0.000000  \n",
       "25%      23.200000     0.000000   37500.000000     0.000000  \n",
       "50%      23.800000     0.000000   42600.000000     1.000000  \n",
       "75%      24.200000     0.000000   50000.000000     1.000000  \n",
       "max      40.000000    17.000000  150000.000000     1.000000  "
      ]
     },
     "execution_count": 6,
     "metadata": {},
     "output_type": "execute_result"
    }
   ],
   "source": [
    "df.describe()"
   ]
  },
  {
   "cell_type": "code",
   "execution_count": 7,
   "id": "bf99da6a-4488-4d2f-a0ec-6381f628f728",
   "metadata": {},
   "outputs": [],
   "source": [
    "X = df.drop(columns=[\"cluster\"])\n",
    "y = df[\"cluster\"]\n",
    "\n",
    "X_train, X_test, y_train, y_test = train_test_split(X, y, test_size=0.2, random_state=42, stratify=y)"
   ]
  },
  {
   "cell_type": "code",
   "execution_count": 8,
   "id": "e08919e2-c311-4899-842d-535e3daf00f5",
   "metadata": {},
   "outputs": [],
   "source": [
    "scaler = MinMaxScaler()\n",
    "X_scaled = scaler.fit_transform(X)"
   ]
  },
  {
   "cell_type": "code",
   "execution_count": 9,
   "id": "05bb1a81-4588-4335-94d0-ae8395d922b6",
   "metadata": {},
   "outputs": [
    {
     "name": "stdout",
     "output_type": "stream",
     "text": [
      "Random Forest:\n",
      "              precision    recall  f1-score   support\n",
      "\n",
      "           0       1.00      1.00      1.00       271\n",
      "           1       1.00      1.00      1.00       801\n",
      "\n",
      "    accuracy                           1.00      1072\n",
      "   macro avg       1.00      1.00      1.00      1072\n",
      "weighted avg       1.00      1.00      1.00      1072\n",
      "\n"
     ]
    }
   ],
   "source": [
    "#Random Forest\n",
    "from sklearn.ensemble import RandomForestClassifier\n",
    "\n",
    "rf = RandomForestClassifier(random_state=42)\n",
    "rf.fit(X_train, y_train)\n",
    "y_pred_rf = rf.predict(X_test)\n",
    "\n",
    "print(\"Random Forest:\")\n",
    "print(classification_report(y_test, y_pred_rf))\n"
   ]
  },
  {
   "cell_type": "code",
   "execution_count": 10,
   "id": "1b932c93-5e21-4d9b-b5af-3469e5ce0ee2",
   "metadata": {},
   "outputs": [
    {
     "name": "stdout",
     "output_type": "stream",
     "text": [
      "KNN:\n",
      "              precision    recall  f1-score   support\n",
      "\n",
      "           0       0.91      0.92      0.92       271\n",
      "           1       0.97      0.97      0.97       801\n",
      "\n",
      "    accuracy                           0.96      1072\n",
      "   macro avg       0.94      0.95      0.94      1072\n",
      "weighted avg       0.96      0.96      0.96      1072\n",
      "\n"
     ]
    }
   ],
   "source": [
    "#KNN\n",
    "from sklearn.neighbors import KNeighborsClassifier\n",
    "\n",
    "knn = KNeighborsClassifier(n_neighbors=5)\n",
    "knn.fit(X_train, y_train)\n",
    "y_pred_knn = knn.predict(X_test)\n",
    "\n",
    "print(\"KNN:\")\n",
    "print(classification_report(y_test, y_pred_knn))"
   ]
  },
  {
   "cell_type": "code",
   "execution_count": 11,
   "id": "0a17005a-8cbf-4a25-b4ec-379fd17dcadf",
   "metadata": {},
   "outputs": [
    {
     "name": "stdout",
     "output_type": "stream",
     "text": [
      "Naive Bayes:\n",
      "              precision    recall  f1-score   support\n",
      "\n",
      "           0       0.48      1.00      0.65       271\n",
      "           1       1.00      0.63      0.77       801\n",
      "\n",
      "    accuracy                           0.72      1072\n",
      "   macro avg       0.74      0.81      0.71      1072\n",
      "weighted avg       0.87      0.72      0.74      1072\n",
      "\n"
     ]
    }
   ],
   "source": [
    "#Naive Bayes\n",
    "from sklearn.naive_bayes import GaussianNB\n",
    "\n",
    "nb = GaussianNB()\n",
    "nb.fit(X_train, y_train)\n",
    "y_pred_nb = nb.predict(X_test)\n",
    "\n",
    "print(\"Naive Bayes:\")\n",
    "print(classification_report(y_test, y_pred_nb))"
   ]
  },
  {
   "cell_type": "code",
   "execution_count": 12,
   "id": "05c47237-81f5-4546-b5b0-2b973cad8272",
   "metadata": {},
   "outputs": [
    {
     "name": "stdout",
     "output_type": "stream",
     "text": [
      "Regresión Logística:\n",
      "              precision    recall  f1-score   support\n",
      "\n",
      "           0       1.00      1.00      1.00       271\n",
      "           1       1.00      1.00      1.00       801\n",
      "\n",
      "    accuracy                           1.00      1072\n",
      "   macro avg       1.00      1.00      1.00      1072\n",
      "weighted avg       1.00      1.00      1.00      1072\n",
      "\n"
     ]
    }
   ],
   "source": [
    "#Regrasión \n",
    "from sklearn.linear_model import LogisticRegression\n",
    "\n",
    "lr = LogisticRegression(max_iter=1000)\n",
    "lr.fit(X_train, y_train)\n",
    "y_pred_lr = lr.predict(X_test)\n",
    "\n",
    "print(\"Regresión Logística:\")\n",
    "print(classification_report(y_test, y_pred_lr))"
   ]
  },
  {
   "cell_type": "code",
   "execution_count": 13,
   "id": "15d7e147-8273-4f49-ad07-a73eede7c275",
   "metadata": {},
   "outputs": [
    {
     "data": {
      "text/plain": [
       "['escalador.pkl']"
      ]
     },
     "execution_count": 13,
     "metadata": {},
     "output_type": "execute_result"
    }
   ],
   "source": [
    "# Guardar modelo\n",
    "joblib.dump(lr, 'modelo.pkl')\n",
    "\n",
    "# Guardar escalador\n",
    "joblib.dump(scaler, 'escalador.pkl')"
   ]
  }
 ],
 "metadata": {
  "kernelspec": {
   "display_name": "Python [conda env:base] *",
   "language": "python",
   "name": "conda-base-py"
  },
  "language_info": {
   "codemirror_mode": {
    "name": "ipython",
    "version": 3
   },
   "file_extension": ".py",
   "mimetype": "text/x-python",
   "name": "python",
   "nbconvert_exporter": "python",
   "pygments_lexer": "ipython3",
   "version": "3.12.7"
  }
 },
 "nbformat": 4,
 "nbformat_minor": 5
}
