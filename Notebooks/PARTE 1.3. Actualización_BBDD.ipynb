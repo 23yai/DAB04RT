{
 "cells": [
  {
   "cell_type": "code",
   "execution_count": 1,
   "id": "0e443ec8-a63f-4af1-9a1e-6a2d643a663e",
   "metadata": {},
   "outputs": [],
   "source": [
    "import pandas as pd\n",
    "import mysql.connector"
   ]
  },
  {
   "cell_type": "code",
   "execution_count": 2,
   "id": "e4df294c-5648-4527-944f-a598caaaa734",
   "metadata": {},
   "outputs": [],
   "source": [
    "nuevas_ofertas = pd.read_csv(\"../csv/PARTE_1_2_df_actualizacion_limpio.csv\",\n",
    "                             dtype={\"salario_min\": \"float64\",\n",
    "                                    \"salario_max\": \"float64\",\n",
    "                                    \"estudios\": \"bool\",\n",
    "                                    \"experiencia\": \"float64\",\n",
    "                                    \"vacaciones\": \"Int64\"},\n",
    "                             parse_dates=[\"fecha\"])"
   ]
  },
  {
   "cell_type": "code",
   "execution_count": 3,
   "id": "74298473-85f5-4bf4-95d2-6f367593121f",
   "metadata": {},
   "outputs": [
    {
     "name": "stdout",
     "output_type": "stream",
     "text": [
      "<class 'pandas.core.frame.DataFrame'>\n",
      "RangeIndex: 996 entries, 0 to 995\n",
      "Data columns (total 20 columns):\n",
      " #   Column                 Non-Null Count  Dtype         \n",
      "---  ------                 --------------  -----         \n",
      " 0   id_urls                996 non-null    object        \n",
      " 1   fecha                  996 non-null    datetime64[ns]\n",
      " 2   oferta                 996 non-null    object        \n",
      " 3   empresa                996 non-null    object        \n",
      " 4   funcion                974 non-null    object        \n",
      " 5   salario_min            221 non-null    float64       \n",
      " 6   salario_max            221 non-null    float64       \n",
      " 7   estudios               996 non-null    bool          \n",
      " 8   experiencia            975 non-null    float64       \n",
      " 9   ubicacion              980 non-null    object        \n",
      " 10  modalidad              532 non-null    object        \n",
      " 11  jornada                995 non-null    object        \n",
      " 12  contrato               983 non-null    object        \n",
      " 13  skills                 218 non-null    object        \n",
      " 14  tecnologias_aptitudes  786 non-null    object        \n",
      " 15  idiomas                159 non-null    object        \n",
      " 16  vacaciones             22 non-null     Int64         \n",
      " 17  beneficios             167 non-null    object        \n",
      " 18  portal_empleo          996 non-null    object        \n",
      " 19  descripcion            996 non-null    object        \n",
      "dtypes: Int64(1), bool(1), datetime64[ns](1), float64(3), object(14)\n",
      "memory usage: 149.9+ KB\n"
     ]
    }
   ],
   "source": [
    "nuevas_ofertas.info()"
   ]
  },
  {
   "cell_type": "code",
   "execution_count": 4,
   "id": "41b7f2f3-1a76-41f4-9a8b-865b1e3370a3",
   "metadata": {},
   "outputs": [
    {
     "data": {
      "text/plain": [
       "Index(['id_urls', 'fecha', 'oferta', 'empresa', 'funcion', 'salario_min',\n",
       "       'salario_max', 'estudios', 'experiencia', 'ubicacion', 'modalidad',\n",
       "       'jornada', 'contrato', 'skills', 'tecnologias_aptitudes', 'idiomas',\n",
       "       'vacaciones', 'beneficios', 'portal_empleo', 'descripcion'],\n",
       "      dtype='object')"
      ]
     },
     "execution_count": 4,
     "metadata": {},
     "output_type": "execute_result"
    }
   ],
   "source": [
    "nuevas_ofertas.columns"
   ]
  },
  {
   "cell_type": "code",
   "execution_count": 5,
   "id": "a529ec3d-c583-4037-ae7c-e4446c88ae5f",
   "metadata": {},
   "outputs": [],
   "source": [
    "db = mysql.connector.connect(host=\"localhost\",\n",
    "                             user=\"root\",\n",
    "                             password=\"contraseña1234\",\n",
    "                             database=\"ofertas_empleo\")\n",
    "cursor = db.cursor()"
   ]
  },
  {
   "cell_type": "code",
   "execution_count": 6,
   "id": "dd445891-a193-4395-8858-d6968361de0f",
   "metadata": {},
   "outputs": [],
   "source": [
    "#FUNCIONES: VALORES EXISTENTES / INSETAR NUEVOS VALORES / OBTENER IDS / INSERTAR EN OFERTAS\n",
    "\n",
    "#valores existentes\n",
    "def valores_existentes(tabla, columna):\n",
    "    cursor.execute(f\"SELECT {columna} FROM {tabla}\")\n",
    "    return set(row[0] for row in cursor.fetchall())\n",
    "\n",
    "\n",
    "#insertar nuevos valores\n",
    "def insertar_nuevos_valores(tabla, columna, nuevos_valores):\n",
    "    for val in nuevos_valores:\n",
    "        cursor.execute(f\"INSERT INTO {tabla} ({columna}) VALUES (%s)\", (val,))\n",
    "    db.commit()\n",
    "\n",
    "\n",
    "#obtener el mapeo actualizado de los IDS\n",
    "def obtener_id_map(tabla, id_col, val_col):\n",
    "    cursor.execute(f\"SELECT {id_col}, {val_col} FROM {tabla}\")\n",
    "    return {row[1]: row[0] for row in cursor.fetchall()}\n",
    "\n",
    "\n",
    "#hacemos una funcion que limpie los valores nulos\n",
    "def clean_for_mysql(df):\n",
    "    # Convierte cualquier valor nulo (NaN, pd.NA) a None\n",
    "    return df.applymap(lambda x: None if pd.isna(x) else x)\n",
    "\n",
    "\n",
    "#insertar datos en la tabla pricipal\n",
    "def insertar_tablaprincipal_ofertas(ofertas_df):\n",
    "    insert_query = \"\"\"INSERT INTO ofertas (\n",
    "        id_urls, fecha, oferta, id_empresa, funcion, salario_min, salario_max, estudios, experiencia,\n",
    "        id_ubicacion, id_modalidad, id_jornada, id_contrato, vacaciones, id_portal_empleo, descripcion\n",
    "    ) VALUES (%s, %s, %s, %s, %s, %s, %s, %s, %s, %s, %s, %s, %s, %s, %s, %s)\"\"\"\n",
    "    for _, row in ofertas_df.iterrows():\n",
    "        valores = [\n",
    "            row[\"id_urls\"],\n",
    "            row[\"fecha\"],\n",
    "            row[\"oferta\"],\n",
    "            row[\"id_empresa\"],\n",
    "            row[\"funcion\"],\n",
    "            row[\"salario_min\"],\n",
    "            row[\"salario_max\"],\n",
    "            row[\"estudios\"],\n",
    "            row[\"experiencia\"],\n",
    "            row[\"id_ubicacion\"],\n",
    "            row[\"id_modalidad\"],\n",
    "            row[\"id_jornada\"],\n",
    "            row[\"id_contrato\"],\n",
    "            row[\"vacaciones\"],\n",
    "            row[\"id_portal_empleo\"],\n",
    "            row[\"descripcion\"]\n",
    "        ]\n",
    "        #convertir explicitamente los de nulos y tipos\n",
    "        valores = [None if pd.isna(x) else x for x in valores]\n",
    "        cursor.execute(insert_query, tuple(valores))\n",
    "    db.commit()\n",
    "\n",
    "\n",
    "#insertar datos en las tablas de relacion\n",
    "def insertar_tablas_relacion(tabla_relacion, id_col_relacion, id_col_valor, relaciones):\n",
    "    # relaciones es lista de tuplas (id_urls, id_valor)\n",
    "    insert_query = f\"INSERT IGNORE INTO {tabla_relacion} (id_urls, {id_col_valor}) VALUES (%s, %s)\"\n",
    "    cursor.executemany(insert_query, relaciones)\n",
    "    db.commit()"
   ]
  },
  {
   "cell_type": "code",
   "execution_count": 7,
   "id": "b44d5e8a-a3e9-45c6-b731-e69b666f6881",
   "metadata": {},
   "outputs": [
    {
     "name": "stdout",
     "output_type": "stream",
     "text": [
      "Insertadas 40 nuevas filas en empresa\n",
      "Insertadas 4 nuevas filas en ubicacion\n",
      "Insertadas 8 nuevas filas en tecnologias_aptitudes\n"
     ]
    }
   ],
   "source": [
    "#ACTUALIZAMOS LOS DATOS\n",
    "\n",
    "#actulizamos en las tablas de referencia \n",
    "tablas_referencia = {\"empresa\": \"empresa\",\n",
    "                     \"ubicacion\": \"ubicacion\",\n",
    "                     \"modalidad\": \"modalidad\",\n",
    "                     \"jornada\": \"jornada\",\n",
    "                     \"contrato\": \"contrato\",\n",
    "                     \"portal_empleo\": \"portal_empleo\"}\n",
    "\n",
    "for tabla, columna in tablas_referencia.items():\n",
    "    existentes = valores_existentes(tabla, columna)\n",
    "    nuevos = set(nuevas_ofertas[columna].dropna().unique()) - existentes\n",
    "    if nuevos:\n",
    "        insertar_nuevos_valores(tabla, columna, nuevos)\n",
    "        print(f\"Insertadas {len(nuevos)} nuevas filas en {tabla}\")\n",
    "\n",
    "\n",
    "#actualizamos en las tablas con valores multiples (skills, tecnologias_aptitudes, idiomas, beneficios)\n",
    "tablas_multi = {\"skills\": \"skills\",\n",
    "                \"tecnologias_aptitudes\": \"tecnologias_aptitudes\",\n",
    "                \"idiomas\": \"idiomas\",\n",
    "                \"beneficios\": \"beneficios\"}\n",
    "\n",
    "for tabla, columna in tablas_multi.items():\n",
    "    existentes = valores_existentes(tabla, columna)\n",
    "    # Extraer lista de valores separados por coma y aplanar\n",
    "    lista_valores = nuevas_ofertas[columna].dropna().apply(lambda x: [v.strip() for v in x.split(',')]).sum()\n",
    "    nuevos = set(lista_valores) - existentes\n",
    "    if nuevos:\n",
    "        insertar_nuevos_valores(tabla, columna, nuevos)\n",
    "        print(f\"Insertadas {len(nuevos)} nuevas filas en {tabla}\")\n",
    "\n",
    "\n",
    "#actualizamos los mapeos de las IDS en las tablas con valores unicos\n",
    "map_empresa = obtener_id_map(\"empresa\", \"id_empresa\", \"empresa\")\n",
    "map_ubicacion = obtener_id_map(\"ubicacion\", \"id_ubicacion\", \"ubicacion\")\n",
    "map_modalidad = obtener_id_map(\"modalidad\", \"id_modalidad\", \"modalidad\")\n",
    "map_jornada = obtener_id_map(\"jornada\", \"id_jornada\", \"jornada\")\n",
    "map_contrato = obtener_id_map(\"contrato\", \"id_contrato\", \"contrato\")\n",
    "map_portal = obtener_id_map(\"portal_empleo\", \"id_portal_empleo\", \"portal_empleo\")\n",
    "\n",
    "#actualizamos los mapeos de las IDS en las tablas con valores multiples\n",
    "map_skills = obtener_id_map(\"skills\", \"id_skills\", \"skills\")\n",
    "map_tecnologias = obtener_id_map(\"tecnologias_aptitudes\", \"id_tecnologias\", \"tecnologias_aptitudes\")\n",
    "map_idiomas = obtener_id_map(\"idiomas\", \"id_idiomas\", \"idiomas\")\n",
    "map_beneficios = obtener_id_map(\"beneficios\", \"id_beneficios\", \"beneficios\")\n",
    "\n",
    "\n",
    "#hacemos una copia para mapear los IDS en la tabla principal ofertas\n",
    "df = nuevas_ofertas.copy()\n",
    "df[\"id_empresa\"] = df[\"empresa\"].map(map_empresa)\n",
    "df[\"id_ubicacion\"] = df[\"ubicacion\"].map(map_ubicacion)\n",
    "df[\"id_modalidad\"] = df[\"modalidad\"].map(map_modalidad)\n",
    "df[\"id_jornada\"] = df[\"jornada\"].map(map_jornada)\n",
    "df[\"id_contrato\"] = df[\"contrato\"].map(map_contrato)\n",
    "df[\"id_portal_empleo\"] = df[\"portal_empleo\"].map(map_portal)"
   ]
  },
  {
   "cell_type": "code",
   "execution_count": 8,
   "id": "5aeff31e-2a87-4431-a272-24ea66cbaf4f",
   "metadata": {},
   "outputs": [
    {
     "name": "stderr",
     "output_type": "stream",
     "text": [
      "C:\\Users\\GoraJ\\AppData\\Local\\Temp\\ipykernel_14656\\1951713169.py:25: FutureWarning: DataFrame.applymap has been deprecated. Use DataFrame.map instead.\n",
      "  return df.applymap(lambda x: None if pd.isna(x) else x)\n"
     ]
    }
   ],
   "source": [
    "#aplicacmos la funcion de limpieza de nulos\n",
    "df = clean_for_mysql(df)\n",
    "\n",
    "#booleanos a int (0/1)\n",
    "df[\"estudios\"] = df[\"estudios\"].astype(int)\n",
    "\n",
    "#fechas a string en formato\n",
    "df[\"fecha\"] = pd.to_datetime(df[\"fecha\"]).dt.strftime('%Y-%m-%d %H:%M:%S')\n",
    "\n",
    "#vacaciones a float (para que los nulos sean none)\n",
    "df[\"vacaciones\"] = df[\"vacaciones\"].astype(float)"
   ]
  },
  {
   "cell_type": "code",
   "execution_count": 9,
   "id": "1c56ef54-59e6-4cde-b5e1-899752f973a1",
   "metadata": {},
   "outputs": [],
   "source": [
    "#INSERCIÓN"
   ]
  },
  {
   "cell_type": "code",
   "execution_count": 10,
   "id": "7e136d25-af01-4ebb-8c9b-6590702f02a9",
   "metadata": {},
   "outputs": [
    {
     "name": "stdout",
     "output_type": "stream",
     "text": [
      "Insertadas 891 nuevas ofertas\n",
      "Insertadas 369 relaciones en oferta_skill\n",
      "Insertadas 1730 relaciones en oferta_tecnologia\n",
      "Insertadas 151 relaciones en oferta_idioma\n",
      "Insertadas 243 relaciones en oferta_beneficio\n",
      "Actualización completada con éxito.\n"
     ]
    }
   ],
   "source": [
    "#insertamos solo las ofertas nuevas\n",
    "cursor.execute(\"SELECT id_urls FROM ofertas\")\n",
    "urls_existentes = set(row[0] for row in cursor.fetchall())\n",
    "ofertas_nuevas = df[~df[\"id_urls\"].isin(urls_existentes)]\n",
    "\n",
    "if not ofertas_nuevas.empty:\n",
    "    insertar_tablaprincipal_ofertas(ofertas_nuevas)\n",
    "    print(f\"Insertadas {len(ofertas_nuevas)} nuevas ofertas\")\n",
    "\n",
    "\n",
    "#hacemos una funcion para insertar las relaciones de las tablas de relaciones multiples\n",
    "def preparar_relaciones(df, columna, map_columna, tabla_relacion, id_col_relacion):\n",
    "    # Filtrar filas con datos y solo ofertas nuevas\n",
    "    df_rel = df[[\"id_urls\", columna]].dropna()\n",
    "    df_rel = df_rel[df_rel[\"id_urls\"].isin(ofertas_nuevas[\"id_urls\"])]\n",
    "    relaciones = []\n",
    "    for _, row in df_rel.iterrows():\n",
    "        valores = [v.strip() for v in row[columna].split(',')]\n",
    "        for val in valores:\n",
    "            id_val = map_columna.get(val)\n",
    "            if id_val is not None:\n",
    "                relaciones.append((row[\"id_urls\"], id_val))\n",
    "    if relaciones:\n",
    "        insertar_tablas_relacion(tabla_relacion, \"id_urls\", id_col_relacion, relaciones)\n",
    "        print(f\"Insertadas {len(relaciones)} relaciones en {tabla_relacion}\")\n",
    "\n",
    "#aplicamos la funcion\n",
    "preparar_relaciones(df, \"skills\", map_skills, \"oferta_skill\", \"id_skills\")\n",
    "preparar_relaciones(df, \"tecnologias_aptitudes\", map_tecnologias, \"oferta_tecnologia\", \"id_tecnologias\")\n",
    "preparar_relaciones(df, \"idiomas\", map_idiomas, \"oferta_idioma\", \"id_idiomas\")\n",
    "preparar_relaciones(df, \"beneficios\", map_beneficios, \"oferta_beneficio\", \"id_beneficios\")\n",
    "\n",
    "\n",
    "cursor.close()\n",
    "db.close()\n",
    "\n",
    "print(\"Actualización completada con éxito.\")"
   ]
  }
 ],
 "metadata": {
  "kernelspec": {
   "display_name": "Python [conda env:base] *",
   "language": "python",
   "name": "conda-base-py"
  },
  "language_info": {
   "codemirror_mode": {
    "name": "ipython",
    "version": 3
   },
   "file_extension": ".py",
   "mimetype": "text/x-python",
   "name": "python",
   "nbconvert_exporter": "python",
   "pygments_lexer": "ipython3",
   "version": "3.12.7"
  }
 },
 "nbformat": 4,
 "nbformat_minor": 5
}
