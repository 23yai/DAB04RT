{
 "cells": [
  {
   "cell_type": "code",
   "execution_count": 18,
   "id": "9199dbff-7a4b-48bf-8f2d-b1db233eded5",
   "metadata": {},
   "outputs": [],
   "source": [
    "import numpy as np\n",
    "import pandas as pd"
   ]
  },
  {
   "cell_type": "code",
   "execution_count": 24,
   "id": "aa89757f-b1cf-4c63-9b49-f409e3c2b7f8",
   "metadata": {},
   "outputs": [],
   "source": [
    "#esto es un dataframe ficticio, aqui se debería meter el archivo .csv de nuestro dataframe original\n",
    "columnas = [\n",
    "    \"id_urls\",\n",
    "    \"fecha\",\n",
    "    \"oferta\",\n",
    "    \"empresa\",\n",
    "    \"funcion\",\n",
    "    \"salario\",\n",
    "    \"estudios\",\n",
    "    \"experiencia\",\n",
    "    \"ubicacion\",\n",
    "    \"modalidad\",\n",
    "    \"jornada\",\n",
    "    \"contrato\",\n",
    "    \"skills\",\n",
    "    \"tecnologias_aptitudes\",\n",
    "    \"idiomas\",\n",
    "    \"vacaciones\",\n",
    "    \"beneficios\",\n",
    "    \"portal_empleo\",\n",
    "    \"descripcion\"\n",
    "]"
   ]
  },
  {
   "cell_type": "code",
   "execution_count": 26,
   "id": "af273b11-cf41-4cb7-900a-df5893b96013",
   "metadata": {},
   "outputs": [
    {
     "data": {
      "text/html": [
       "<div>\n",
       "<style scoped>\n",
       "    .dataframe tbody tr th:only-of-type {\n",
       "        vertical-align: middle;\n",
       "    }\n",
       "\n",
       "    .dataframe tbody tr th {\n",
       "        vertical-align: top;\n",
       "    }\n",
       "\n",
       "    .dataframe thead th {\n",
       "        text-align: right;\n",
       "    }\n",
       "</style>\n",
       "<table border=\"1\" class=\"dataframe\">\n",
       "  <thead>\n",
       "    <tr style=\"text-align: right;\">\n",
       "      <th></th>\n",
       "      <th>id_urls</th>\n",
       "      <th>fecha</th>\n",
       "      <th>oferta</th>\n",
       "      <th>empresa</th>\n",
       "      <th>funcion</th>\n",
       "      <th>salario</th>\n",
       "      <th>estudios</th>\n",
       "      <th>experiencia</th>\n",
       "      <th>ubicacion</th>\n",
       "      <th>modalidad</th>\n",
       "      <th>jornada</th>\n",
       "      <th>contrato</th>\n",
       "      <th>skills</th>\n",
       "      <th>tecnologias_aptitudes</th>\n",
       "      <th>idiomas</th>\n",
       "      <th>vacaciones</th>\n",
       "      <th>beneficios</th>\n",
       "      <th>portal_empleo</th>\n",
       "      <th>descripcion</th>\n",
       "    </tr>\n",
       "  </thead>\n",
       "  <tbody>\n",
       "  </tbody>\n",
       "</table>\n",
       "</div>"
      ],
      "text/plain": [
       "Empty DataFrame\n",
       "Columns: [id_urls, fecha, oferta, empresa, funcion, salario, estudios, experiencia, ubicacion, modalidad, jornada, contrato, skills, tecnologias_aptitudes, idiomas, vacaciones, beneficios, portal_empleo, descripcion]\n",
       "Index: []"
      ]
     },
     "execution_count": 26,
     "metadata": {},
     "output_type": "execute_result"
    }
   ],
   "source": [
    "ofertas_empleo = pd.DataFrame(columns=columnas)\n",
    "ofertas_empleo"
   ]
  },
  {
   "cell_type": "markdown",
   "id": "fda4c7e6-4128-45cc-8cb1-71bdf2b2946c",
   "metadata": {},
   "source": [
    "**empresa, ubicacion, modalidad, jornada, contrato, portal_empleo // (UNIQUE)**"
   ]
  },
  {
   "cell_type": "code",
   "execution_count": null,
   "id": "35f65d82-b3e8-4bf8-ba0f-96eaea95eac1",
   "metadata": {},
   "outputs": [],
   "source": [
    "#DF_EMPRESA\n",
    "\n",
    "df_empresa = pd.DataFrame(ofertas_empleo[\"empresa\"].dropna().unique()).reset_index()\n",
    "\n",
    "df_empresa.columns = [\"id_empresa\", \"empresa\"]\n",
    "\n",
    "df_empresa[\"id_empresa\"] = df_empresa[\"id_empresa\"] + 1\n",
    "\n",
    "df_empresa"
   ]
  },
  {
   "cell_type": "code",
   "execution_count": null,
   "id": "3e529a18-6d25-4451-99d9-e6394f84862a",
   "metadata": {},
   "outputs": [],
   "source": [
    "#DF_UBICACION\n",
    "\n",
    "df_ubicacion = pd.DataFrame(ofertas_empleo[\"ubicacion\"].dropna().unique()).reset_index()\n",
    "\n",
    "df_ubicacion.columns = [\"id_ubicacion\", \"ubicacion\"]\n",
    "\n",
    "df_ubicacion[\"id_ubicacion\"] = df_ubicacion[\"id_ubicacion\"] + 1\n",
    "\n",
    "df_ubicacion"
   ]
  },
  {
   "cell_type": "code",
   "execution_count": null,
   "id": "9432cfce-7523-4637-ace9-913ca1beec8b",
   "metadata": {},
   "outputs": [],
   "source": [
    "#DF_MODALIDAD\n",
    "\n",
    "df_modalidad = pd.DataFrame(ofertas_empleo[\"modalidad\"].dropna().unique()).reset_index()\n",
    "\n",
    "df_modalidad.columns = [\"id_modalidad\", \"modalidad\"]\n",
    "\n",
    "df_modalidad[\"id_modalidad\"] = df_modalidad[\"id_modalidad\"] + 1\n",
    "\n",
    "df_modalidad"
   ]
  },
  {
   "cell_type": "code",
   "execution_count": null,
   "id": "5c7bce3e-1466-4c07-b51a-50af343548e2",
   "metadata": {},
   "outputs": [],
   "source": [
    "#DF_JORNADA\n",
    "\n",
    "df_jornada = pd.DataFrame(ofertas_empleo[\"jornada\"].dropna().unique()).reset_index()\n",
    "\n",
    "df_jornada.columns = [\"id_jornada\", \"jornada\"]\n",
    "\n",
    "df_jornada[\"id_jornada\"] = df_jornada[\"id_jornada\"] + 1\n",
    "\n",
    "df_jornada"
   ]
  },
  {
   "cell_type": "code",
   "execution_count": null,
   "id": "8ccb018c-bb65-4a63-b72b-7d7fba42c7ed",
   "metadata": {},
   "outputs": [],
   "source": [
    "#DF_CONTRATO\n",
    "\n",
    "df_contrato = pd.DataFrame(ofertas_empleo[\"contrato\"].dropna().unique()).reset_index()\n",
    "\n",
    "df_jornada.columns = [\"id_jornada\", \"jornada\"]\n",
    "\n",
    "df_jornada[\"id_jornada\"] = df_jornada[\"id_jornada\"] + 1\n",
    "\n",
    "df_jornada"
   ]
  },
  {
   "cell_type": "code",
   "execution_count": null,
   "id": "af4ec989-ac50-48cc-bb04-6a148e02811b",
   "metadata": {},
   "outputs": [],
   "source": [
    "#DF_PORTAL_EMPLEO\n",
    "\n",
    "df_portal_empleo = pd.DataFrame(ofertas_empleo[\"portal_empleo\"].dropna().unique()).reset_index()\n",
    "\n",
    "df_portal_empleo.columns = [\"id_portal_empleo\", \"portal_empleo\"]\n",
    "\n",
    "df_portal_empleo[\"id_portal_empleo\"] = df_jornada[\"id_portal_empleo\"] + 1\n",
    "\n",
    "df_portal_empleo"
   ]
  },
  {
   "cell_type": "markdown",
   "id": "00a78776-38c8-4603-afc7-a301579fa5a2",
   "metadata": {},
   "source": [
    "**tabla principal // DF_OFERTAS**"
   ]
  },
  {
   "cell_type": "code",
   "execution_count": null,
   "id": "e85c4499-c7c2-4aee-8066-cc501ab61761",
   "metadata": {},
   "outputs": [],
   "source": [
    "#DF_OFERTAS\n",
    "\n",
    "map_empresa = {v: k for k, v in df_empresa.values}\n",
    "map_ubicacion = {v: k for k, v in df_ubicacion.values}\n",
    "map_modalidad = {v: k for k, v in df_modalidad.values}\n",
    "map_jornada = {v: k for k, v in df_jornada.values}\n",
    "map_contrato = {v: k for k, v in df_contrato.values}\n",
    "map_portal = {v: k for k, v in df_portal_empleo.values}\n",
    "\n",
    "df_ofertas = ofertas_empleo[[\"id_urls\", \"fecha\", \"oferta\", \"empresa\", \"funcion\", \"salario\",\"estudios\", \"experiencia\", \n",
    "                             \"ubicacion\", \"modalidad\", \"jornada\", \"contrato\", \"vacaciones\", \"portal_empleo\", \n",
    "                             \"descripcion\"]].dropna(subset=[\"empresa\", \"ubicacion\", \"modalidad\", \"jornada\", \"contrato\", \n",
    "                                                            \"portal_empleo\"]).reset_index(drop = True)\n",
    "\n",
    "df_ofertas[\"empresa\"] = df_ofertas[\"empresa\"].map(map_empresa)\n",
    "df_ofertas[\"ubicacion\"] = df_ofertas[\"ubicacion\"].map(map_ubicacion)\n",
    "df_ofertas[\"modalidad\"] = df_ofertas[\"modalidad\"].map(map_modalidad)\n",
    "df_ofertas[\"jornada\"] = df_ofertas[\"jornada\"].map(map_jornada)\n",
    "df_ofertas[\"contrato\"] = df_ofertas[\"contrato\"].map(map_contrato)\n",
    "df_ofertas[\"portal_empleo\"] = df_ofertas[\"portal_empleo\"].map(map_portal)\n",
    "\n",
    "df_ofertas = df_ofertas.rename(columns={\"empresa\": \"id_empresa\",\n",
    "                                        \"ubicacion\": \"id_ubicacion\",\n",
    "                                        \"modalidad\": \"id_modalidad\",\n",
    "                                        \"jornada\": \"id_jornada\",\n",
    "                                        \"contrato\": \"id_contrato\",\n",
    "                                        \"portal_empleo\": \"id_portal_empleo\"})\n",
    "\n",
    "df_ofertas = df_ofertas.dropna(subset=[\"id_empresa\", \"id_ubicacion\", \"id_modalidad\", \"id_jornada\", \"id_contrato\", \n",
    "                                       \"id_portal_empleo\"]).reset_index(drop = True)\n",
    "\n",
    "columnas_id = [\"id_empresa\", \"id_ubicacion\", \"id_modalidad\", \"id_jornada\", \"id_contrato\", \"id_portal_empleo\"]\n",
    "\n",
    "df_ofertas[columnas_id] = df_ofertas[columnas_id].astype(int)\n",
    "\n",
    "df_ofertas"
   ]
  },
  {
   "cell_type": "markdown",
   "id": "d2e89512-3adb-40d3-8c19-8186880c428b",
   "metadata": {},
   "source": [
    "**skills, tecnologias_aptitudes, idiomas, beneficios // (VARIOS_VALORES)**"
   ]
  },
  {
   "cell_type": "code",
   "execution_count": null,
   "id": "188bdda7-d302-4d32-b8aa-56b2b6f2efe4",
   "metadata": {},
   "outputs": [],
   "source": [
    "#DF_SKILLS\n",
    "\n",
    "df_skills = pd.DataFrame(set(ofertas_empleo[\"skills\"].dropna().apply(eval).sum())).reset_index()\n",
    "\n",
    "df_skills.columns = [\"id_skills\", \"skills\"]\n",
    "\n",
    "df_skills[\"id_skills\"] = df_skills[\"id_skills\"] + 1\n",
    "\n",
    "df_skills"
   ]
  },
  {
   "cell_type": "code",
   "execution_count": null,
   "id": "5878bdcb-95c6-47d6-a058-22143617ca0e",
   "metadata": {},
   "outputs": [],
   "source": [
    "#DF_TECNOLOGIAS_APTITUDES\n",
    "\n",
    "df_tecnologias_aptitudes = pd.DataFrame(set(ofertas_empleo[\"tecnologias_aptitudes\"].dropna().apply(eval).sum())).reset_index()\n",
    "\n",
    "df_tecnologias_aptitudes.columns = [\"id_tecnologias\", \"tecnologias_aptitudes\"]\n",
    "\n",
    "df_tecnologias_aptitudes[\"id_tecnologias\"] = df_tecnologias_aptitudes[\"id_tecnologias\"] + 1\n",
    "\n",
    "df_tecnologias_aptitudes"
   ]
  },
  {
   "cell_type": "code",
   "execution_count": null,
   "id": "2f38f001-22d4-40b9-9d93-73ea97cf13fb",
   "metadata": {},
   "outputs": [],
   "source": [
    "#DF_IDIOMAS\n",
    "\n",
    "df_idiomas = pd.DataFrame(set(ofertas_empleo[\"idiomas\"].dropna().apply(eval).sum())).reset_index()\n",
    "\n",
    "df_idiomas.columns = [\"id_idiomas\", \"idiomas\"]\n",
    "\n",
    "df_idiomas[\"id_idiomas\"] = df_idiomas[\"id_idiomas\"] + 1\n",
    "\n",
    "df_idiomas"
   ]
  },
  {
   "cell_type": "code",
   "execution_count": null,
   "id": "ca56b7f2-badd-4bd7-8cf4-202a1b58e944",
   "metadata": {},
   "outputs": [],
   "source": [
    "#DF_BENEFICIOS\n",
    "\n",
    "df_beneficios = pd.DataFrame(set(ofertas_empleo[\"beneficios\"].dropna().apply(eval).sum())).reset_index()\n",
    "\n",
    "df_beneficios.columns = [\"id_beneficios\", \"beneficios\"]\n",
    "\n",
    "df_beneficios[\"id_beneficios\"] = df_beneficios[\"id_beneficios\"] + 1\n",
    "\n",
    "df_beneficios"
   ]
  },
  {
   "cell_type": "markdown",
   "id": "15bfce9b-3b0b-4f6f-b2c6-e04885854dc7",
   "metadata": {},
   "source": [
    "**oferta_tecnologia, oferta_skill, oferta_idioma, oferta_beneficio // (COMPUESTAS)**"
   ]
  },
  {
   "cell_type": "code",
   "execution_count": null,
   "id": "b12c0907-9ee0-45e6-8c16-aef0532f7227",
   "metadata": {},
   "outputs": [],
   "source": [
    "#DF_OFERTA_TECNOLOGIA\n",
    "\n",
    "df_oferta_tecnologia = ofertas_empleo[[\"id_urls\", \"tecnologias_aptitudes\"]].dropna()\n",
    "\n",
    "df_oferta_tecnologia[\"tecnologias_aptitudes\"] = df_oferta_tecnologia[\"tecnologias_aptitudes\"].apply(eval)\n",
    "\n",
    "df_oferta_tecnologia = df_oferta_tecnologia.explode(\"tecnologias_aptitudes\").reset_index(drop = True)\n",
    "\n",
    "map_tecnologias = {v : k for k,v in df_tecnologias.values}\n",
    "\n",
    "df_oferta_tecnologia[\"tecnologias_aptitudes\"] = df_oferta_tecnologia[\"tecnologias_aptitudes\"].map(map_tecnologias)\n",
    "\n",
    "df_oferta_tecnologia.columns = [\"id_urls\", \"id_tecnologias\"]\n",
    "\n",
    "df_oferta_tecnologia = df_oferta_tecnologia.dropna().reset_index(drop = True)\n",
    "\n",
    "df_oferta_tecnologia[\"id_tecnologias\"] = df_oferta_tecnologia[\"id_tecnologias\"].apply(int)\n",
    "\n",
    "df_oferta_tecnologia"
   ]
  },
  {
   "cell_type": "code",
   "execution_count": null,
   "id": "07ae113d-050e-4d17-a549-8bbd0f22339b",
   "metadata": {},
   "outputs": [],
   "source": [
    "#DF_OFERTA_SKILL\n",
    "\n",
    "df_oferta_skill = ofertas_empleo[[\"id_urls\", \"skills\"]].dropna()\n",
    "\n",
    "df_oferta_skill[\"skills\"] = df_oferta_skill[\"skills\"].apply(eval)\n",
    "\n",
    "df_oferta_skill = df_oferta_skill.explode(\"skills\").reset_index(drop = True)\n",
    "\n",
    "map_skill = {v : k for k,v in df_skills.values}\n",
    "\n",
    "df_oferta_skill[\"skills\"] = df_oferta_skill[\"skills\"].map(map_skill)\n",
    "\n",
    "df_oferta_skill.columns = [\"id_urls\", \"id_skills\"]\n",
    "\n",
    "df_oferta_skill = df_oferta_skill.dropna().reset_index(drop = True)\n",
    "\n",
    "df_oferta_skill[\"id_skills\"] = df_oferta_skill[\"id_skills\"].apply(int)\n",
    "\n",
    "df_oferta_skill"
   ]
  },
  {
   "cell_type": "code",
   "execution_count": null,
   "id": "ba4c6489-8d45-472b-b7fe-d8190770f634",
   "metadata": {},
   "outputs": [],
   "source": [
    "#DF_OFERTA_IDIOMA\n",
    "\n",
    "df_oferta_idioma = ofertas_empleo[[\"id_urls\", \"idiomas\"]].dropna()\n",
    "\n",
    "df_oferta_idioma[\"idiomas\"] = df_oferta_idioma[\"idiomas\"].apply(eval)\n",
    "\n",
    "df_oferta_idioma = df_oferta_idioma.explode(\"idiomas\").reset_index(drop = True)\n",
    "\n",
    "map_idiomas = {v : k for k,v in df_idiomas.values}\n",
    "\n",
    "df_oferta_idioma[\"idiomas\"] = df_oferta_idioma[\"idiomas\"].map(map_idiomas)\n",
    "\n",
    "df_oferta_idioma.columns = [\"id_urls\", \"id_idiomas\"]\n",
    "\n",
    "df_oferta_idioma = df_oferta_idioma.dropna().reset_index(drop = True)\n",
    "\n",
    "df_oferta_idioma[\"id_idiomas\"] = df_oferta_idioma[\"id_idiomas\"].apply(int)\n",
    "\n",
    "df_oferta_idioma"
   ]
  },
  {
   "cell_type": "code",
   "execution_count": null,
   "id": "9284f9b4-b994-42bf-a339-f162638b09c0",
   "metadata": {},
   "outputs": [],
   "source": [
    "#DF_OFERTA_BENEFICIO\n",
    "\n",
    "df_oferta_beneficio = ofertas_empleo[[\"id_urls\", \"beneficios\"]].dropna()\n",
    "\n",
    "df_oferta_beneficio[\"beneficios\"] = df_oferta_beneficio[\"beneficios\"].apply(eval)\n",
    "\n",
    "df_oferta_beneficio = df_oferta_beneficio.explode(\"beneficios\").reset_index(drop = True)\n",
    "\n",
    "map_beneficios = {v : k for k,v in df_beneficios.values}\n",
    "\n",
    "df_oferta_beneficio[\"beneficios\"] = df_oferta_beneficio[\"beneficios\"].map(map_beneficios)\n",
    "\n",
    "df_oferta_beneficio.columns = [\"id_urls\", \"id_beneficios\"]\n",
    "\n",
    "df_oferta_beneficio = df_oferta_beneficio.dropna().reset_index(drop = True)\n",
    "\n",
    "df_oferta_beneficio[\"id_beneficios\"] = df_oferta_beneficio[\"id_beneficios\"].apply(int)\n",
    "\n",
    "df_oferta_beneficio"
   ]
  }
 ],
 "metadata": {
  "kernelspec": {
   "display_name": "Python 3 (ipykernel)",
   "language": "python",
   "name": "python3"
  },
  "language_info": {
   "codemirror_mode": {
    "name": "ipython",
    "version": 3
   },
   "file_extension": ".py",
   "mimetype": "text/x-python",
   "name": "python",
   "nbconvert_exporter": "python",
   "pygments_lexer": "ipython3",
   "version": "3.12.7"
  }
 },
 "nbformat": 4,
 "nbformat_minor": 5
}
