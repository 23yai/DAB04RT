{
 "cells": [
  {
   "cell_type": "code",
   "execution_count": null,
   "id": "ee7fc3d6-950a-4c91-8a34-cbf19f97d9f4",
   "metadata": {},
   "outputs": [],
   "source": [
    " Vista de Presentación de Datos\n",
    "\n",
    "Esta sección permite al usuario explorar las ofertas de empleo mediante filtros, mapas y dashboards. Puedes incluir:​\n",
    "\n",
    "    Filtros por ubicación, salario, tipo de contrato, tecnologías, etc.\n",
    "\n",
    "    Mapa interactivo que muestra la distribución geográfica de las ofertas.\n",
    "\n",
    "    Gráficos que representen tendencias salariales, tecnologías más demandadas, etc.\n"
   ]
  },
  {
   "cell_type": "code",
   "execution_count": null,
   "id": "e9ade3be-b023-4a74-8bcb-7dfcc92bfd40",
   "metadata": {},
   "outputs": [],
   "source": [
    "import streamlit as st\n",
    "import pandas as pd\n",
    "import plotly.express as px\n",
    "\n",
    "st.set_page_config(page_title=\"Datos\", layout=\"wide\")\n",
    "\n",
    "st.title(\"Exploración de Ofertas de Empleo\")\n",
    "\n",
    "def load_data():\n",
    "    df = pd.read_csv(\"df_final.csv\")  # Reemplaza con la ruta real\n",
    "    return df\n",
    "\n",
    "df = load_data()\n",
    "\n",
    "# Filtros\n",
    "st.sidebar.header(\"Filtros\")\n",
    "ubicaciones = df['Ubicación'].dropna().unique()\n",
    "ubicacion_seleccionada = st.sidebar.multiselect(\"Ubicación\", ubicaciones, default=ubicaciones)\n",
    "\n",
    "# Aplicar filtros\n",
    "df_filtrado = df[df['Ubicación'].isin(ubicacion_seleccionada)]\n",
    "\n",
    "# Mostrar mapa\n",
    "st.subheader(\"Mapa de Ofertas de Empleo\")\n",
    "# Web del programador. hay que tener 'lat' y 'lon'\n",
    "#st.map(df_filtrado[['lat', 'lon']])\n",
    "\n",
    "# Mostrar tabla\n",
    "st.subheader(\"Tabla de Ofertas Filtradas\")\n",
    "st.dataframe(df_filtrado)\n",
    "\n",
    "# Gráfico de tecnologías más demandadas\n",
    "st.subheader(\"Tecnologías Más Demandadas\")\n",
    "# Suponiendo que 'Aptitudes' es una lista separada por comas\n",
    "from collections import Counter\n",
    "import itertools\n",
    "\n",
    "tecnologias = df_filtrado['Aptitudes'].dropna().apply(lambda x: [i.strip() for i in x.split(',')])\n",
    "tecnologias_lista = list(itertools.chain.from_iterable(tecnologias))\n",
    "tecnologias_contador = Counter(tecnologias_lista)\n",
    "tecnologias_df = pd.DataFrame(tecnologias_contador.items(), columns=['Tecnología', 'Cantidad']).sort_values(by='Cantidad', ascending=False)\n",
    "\n",
    "fig = px.bar(tecnologias_df.head(10), x='Tecnología', y='Cantidad', title='Top 10 Tecnologías Más Demandadas')\n",
    "st.plotly_chart(fig)\n"
   ]
  }
 ],
 "metadata": {
  "kernelspec": {
   "display_name": "Python [conda env:base] *",
   "language": "python",
   "name": "conda-base-py"
  },
  "language_info": {
   "codemirror_mode": {
    "name": "ipython",
    "version": 3
   },
   "file_extension": ".py",
   "mimetype": "text/x-python",
   "name": "python",
   "nbconvert_exporter": "python",
   "pygments_lexer": "ipython3",
   "version": "3.12.7"
  }
 },
 "nbformat": 4,
 "nbformat_minor": 5
}
